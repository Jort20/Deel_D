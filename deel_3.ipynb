{
 "cells": [
  {
   "cell_type": "markdown",
   "metadata": {},
   "source": [
    "### Het maken en Trainen van een YOLO Model"
   ]
  },
  {
   "cell_type": "markdown",
   "metadata": {},
   "source": [
    "De notebook is bedoeld om een dataset voor objectdetectie voor te bereiden, te trainen met behulp van YOLO (You Only Look Once), en vervolgens een voorspelling te maken met een getraind model. Het is onderverdeeld in verschillende secties: het voorbereiden van annotaties, het splitsen van de dataset, het trainen van het model en het maken van voorspellingen."
   ]
  },
  {
   "cell_type": "markdown",
   "metadata": {},
   "source": [
    "Dit script maakt gebruik van de volgende modules:\n",
    "\n",
    "1. **`os`**: Wordt gebruikt voor het werken met bestands- en mapstructuren, zoals het aanmaken van mappen, controleren of bestanden bestaan, enzovoort.\n",
    "2. **`PIL` (Python Imaging Library)**: Wordt gebruikt voor het openen, bewerken en opslaan van afbeeldingen.\n",
    "3. **`random`**: Wordt gebruikt om willekeurige keuzes te maken, zoals het selecteren van bestanden of het randomiseren van gegevens.\n",
    "4. **`shutil`**: Wordt gebruikt voor het kopiëren, verplaatsen of verwijderen van bestanden en mappen.\n",
    "5. **`matplotlib.pyplot`**: Wordt gebruikt voor het visualiseren van data, zoals het tonen van afbeeldingen of grafieken.\n",
    "6. **`cv2` (OpenCV)**: Wordt gebruikt voor computer vision-taken zoals het lezen, bewerken en verwerken van afbeeldingen.\n",
    "7. **`ultralytics`**: Wordt gebruikt om het YOLO model te kunnen gebruiken.\n",
    "\n"
   ]
  },
  {
   "cell_type": "code",
   "execution_count": 62,
   "metadata": {},
   "outputs": [],
   "source": [
    "import os\n",
    "from PIL import Image\n",
    "import random\n",
    "import shutil \n",
    "import matplotlib.pyplot as plt\n",
    "import cv2\n",
    "from ultralytics import YOLO"
   ]
  },
  {
   "cell_type": "markdown",
   "metadata": {},
   "source": [
    "Dit script voert de volgende taken uit:\n",
    "\n",
    "1. **Bestandspaden instellen**:\n",
    "   - `coords_file`: Pad naar het bestand met coördinaten (`coords-idc.txt`).\n",
    "   - `images_dir`: Pad naar de map met afbeeldingen (`complete_images`).\n",
    "   - `output_dir`: Pad naar de map waarin de uitvoerbestanden (`annotations_yolo`) worden opgeslagen.\n",
    "\n",
    "2. **Map aanmaken**:\n",
    "   - Het script maakt de map `annotations_yolo` aan als deze nog niet bestaat (`os.makedirs(output_dir, exist_ok=True)`).\n",
    "\n"
   ]
  },
  {
   "cell_type": "code",
   "execution_count": 49,
   "metadata": {},
   "outputs": [],
   "source": [
    "\n",
    "coords_file = \"/students/2023-2024/Thema07/rumen_reactor/test/coords-idc.txt\"\n",
    "images_dir = \"/students/2023-2024/Thema07/rumen_reactor/test/complete_images\" \n",
    "output_dir = \"annotations_yolo\"  \n",
    "\n",
    "\n",
    "os.makedirs(output_dir, exist_ok=True)\n"
   ]
  },
  {
   "cell_type": "markdown",
   "metadata": {},
   "source": [
    "**Functie normalize_coords**:\n",
    "   - Deze functie normaliseert de coördinaten van een rechthoek door de volgende berekeningen te maken:\n",
    "     - **x_center** en **y_center**: Het centrum van de rechthoek ten opzichte van de breedte en hoogte van de afbeelding.\n",
    "     - **width** en **height**: De breedte en hoogte van de rechthoek genormaliseerd naar de afbeelding.\n",
    "   - De normalisatie wordt uitgevoerd door de originele coördinaten (minimaal en maximaal) te delen door de afmetingen van de afbeelding.\n",
    "\n",
    "De normalize_coords functie wordt gebruikt om de coördinaten van objecten in afbeeldingen te transformeren naar een formaat dat geschikt is voor machine learning taken, zoals YOLO annotaties."
   ]
  },
  {
   "cell_type": "code",
   "execution_count": 50,
   "metadata": {},
   "outputs": [],
   "source": [
    "def normalize_coords(x_min, y_min, x_max, y_max, img_width, img_height):\n",
    "    x_center = (x_min + x_max) / 2.0 / img_width\n",
    "    y_center = (y_min + y_max) / 2.0 / img_height\n",
    "    width = (x_max - x_min) / img_width\n",
    "    height = (y_max - y_min) / img_height\n",
    "    return x_center, y_center, width, height"
   ]
  },
  {
   "cell_type": "markdown",
   "metadata": {},
   "source": [
    "Dit onderstaande script leest een bestand met coördinaten (`coords_file`) en verwerkt elke regel door de coördinaten van objecten in afbeeldingen om te zetten naar een formaat geschikt voor YOLO (You Only Look Once) objectdetectie. Voor elke regel worden de coördinaten gesplitst en omgezet naar gehele getallen (`x_min`, `y_min`, `x_max`, `y_max`). Het script opent vervolgens de bijbehorende afbeelding en haalt de afmetingen op. De coördinaten worden genormaliseerd door de functie `normalize_coords`, die de x- en y-positie, breedte en hoogte berekent ten opzichte van de afbeelding. De genormaliseerde waarden worden vervolgens opgeslagen in een uitvoerbestand (`output_file`) in het juiste YOLO-formaat. Het resultaat is een set van annotatiebestanden die kunnen worden gebruikt voor objectdetectie-modellen.\n"
   ]
  },
  {
   "cell_type": "code",
   "execution_count": 53,
   "metadata": {},
   "outputs": [],
   "source": [
    "with open(coords_file, \"r\") as file:\n",
    "    for line in file:\n",
    "        parts = line.strip().split(\",\")\n",
    "        image_id = parts[0]\n",
    "        x_min, y_min, x_max, y_max = map(int, parts[1:])\n",
    "       \n",
    "        image_path = os.path.join(images_dir, f\"{image_id}.jpeg\")\n",
    "        with Image.open(image_path) as img:\n",
    "            img_width, img_height = img.size\n",
    "       \n",
    "        x_center, y_center, width, height = normalize_coords(\n",
    "            x_min, y_min, x_max, y_max, img_width, img_height\n",
    "        )\n",
    "       \n",
    "\n",
    "        output_file = os.path.join(output_dir, f\"{image_id}.txt\")\n",
    "        with open(output_file, \"a\") as out:\n",
    "            out.write(f\"0 {x_center:.6f} {y_center:.6f} {width:.6f} {height:.6f}\\n\")\n",
    "\n"
   ]
  },
  {
   "cell_type": "markdown",
   "metadata": {},
   "source": [
    "Dit script maakt mappen aan voor het organiseren van afbeeldingen en labels in een dataset. Het stelt de volgende padvariabelen in:\n",
    "- `labels_dir`: De map met de YOLO-annotaties.\n",
    "- `output_dir`: De map waar de uiteindelijke dataset wordt opgeslagen.\n",
    "\n",
    "Vervolgens worden submappen gedefinieerd voor de training en validatie van afbeeldingen en labels:\n",
    "- `train_images_dir`: De map voor afbeeldingen in de trainingsset.\n",
    "- `val_images_dir`: De map voor afbeeldingen in de validatieset.\n",
    "- `train_labels_dir`: De map voor labelbestanden in de trainingsset.\n",
    "- `val_labels_dir`: De map voor labelbestanden in de validatieset.\n",
    "\n",
    "Het script maakt deze mappen aan, als ze nog niet bestaan, met `os.makedirs()` zodat de structuur van de dataset correct wordt voorbereid voor verder gebruik, zoals het trainen van een machine learning-model.\n"
   ]
  },
  {
   "cell_type": "code",
   "execution_count": 54,
   "metadata": {},
   "outputs": [],
   "source": [
    "labels_dir = \"annotations_yolo\" \n",
    "output_dir = \"dataset\"  \n",
    "\n",
    "train_images_dir = os.path.join(output_dir, \"images/train\")\n",
    "val_images_dir = os.path.join(output_dir, \"images/val\")\n",
    "train_labels_dir = os.path.join(output_dir, \"labels/train\")\n",
    "val_labels_dir = os.path.join(output_dir, \"labels/val\")\n",
    "\n",
    "\n",
    "os.makedirs(train_images_dir, exist_ok=True)\n",
    "os.makedirs(val_images_dir, exist_ok=True)\n",
    "os.makedirs(train_labels_dir, exist_ok=True)\n",
    "os.makedirs(val_labels_dir, exist_ok=True)\n",
    "\n",
    "\n"
   ]
  },
  {
   "cell_type": "markdown",
   "metadata": {},
   "source": [
    "Dit script verdeelt een lijst van afbeeldingsbestanden in een trainings- en validatieset. Het stelt eerst de verhoudingen in voor de verdeling van de data:\n",
    "- `train_ratio`: Het percentage van de afbeeldingen dat naar de trainingsset gaat (80%).\n",
    "- `val_ratio`: Het percentage van de afbeeldingen dat naar de validatieset gaat (20%).\n",
    "\n",
    "Vervolgens worden alle afbeeldingsbestanden met de extensie `.jpeg` opgehaald uit de map `images_dir`. De lijst van afbeeldingsbestanden wordt willekeurig door elkaar geschud met `random.shuffle()` om de verdeling eerlijk te maken.\n",
    "\n",
    "Het aantal afbeeldingen voor de trainingsset wordt berekend op basis van de `train_ratio`, en de lijst van afbeeldingsbestanden wordt opgesplitst in twee delen:\n",
    "- `train_files`: De eerste 80% van de afbeeldingen (trainingsset).\n",
    "- `val_files`: De resterende 20% van de afbeeldingen (validatieset).\n",
    "\n",
    "Dit proces zorgt ervoor dat de afbeeldingen op een willekeurige manier worden verdeeld over de trainings- en validatiesets.\n"
   ]
  },
  {
   "cell_type": "code",
   "execution_count": 55,
   "metadata": {},
   "outputs": [],
   "source": [
    "\n",
    "train_ratio = 0.8  \n",
    "val_ratio = 0.2  \n",
    "\n",
    "\n",
    "image_files = [f for f in os.listdir(images_dir) if f.endswith(\".jpeg\")]\n",
    "random.shuffle(image_files) \n",
    "\n",
    "\n",
    "num_train = int(len(image_files) * train_ratio)\n",
    "train_files = image_files[:num_train]\n",
    "val_files = image_files[num_train:]\n"
   ]
  },
  {
   "cell_type": "markdown",
   "metadata": {},
   "source": [
    "Dit script definieert een functie `move_files` die afbeeldings- en labelbestanden verplaatst van een bronmap naar een doelmap. De functie neemt de volgende argumenten:\n",
    "- `image_list`: Een lijst van afbeeldingsbestanden die verplaatst moeten worden.\n",
    "- `source_img_dir`: De map waar de bronafbeeldingen zich bevinden.\n",
    "- `source_lbl_dir`: De map waar de bronlabelbestanden zich bevinden.\n",
    "- `target_img_dir`: De map waar de afbeeldingsbestanden naartoe verplaatst moeten worden.\n",
    "- `target_lbl_dir`: De map waar de labelbestanden naartoe verplaatst moeten worden.\n",
    "\n",
    "De functie doorloopt elke afbeelding in `image_list`, genereert het bijbehorende labelbestand (met dezelfde naam, maar met de extensie `.txt`), en bouwt de volledige padnamen voor de bron- en doelbestanden. Als zowel het afbeeldingsbestand als het labelbestand bestaan in de bronmappen, worden ze verplaatst naar de doelmappen met behulp van `shutil.move()`. Als een van de bestanden ontbreekt, wordt er een waarschuwing weergegeven.\n",
    "\n",
    "De functie wordt vervolgens aangeroepen om de afbeeldingen en labels voor zowel de trainings- als validatiesets van de bronmappen naar de doelmappen te verplaatsen:\n",
    "- `move_files(train_files, images_dir, labels_dir, train_images_dir, train_labels_dir)`\n",
    "- `move_files(val_files, images_dir, labels_dir, val_images_dir, val_labels_dir)`\n",
    "\n",
    "Dit zorgt ervoor dat de afbeeldingen en bijbehorende labelbestanden correct worden verplaatst naar de juiste submappen voor de trainings- en validatiesets.\n"
   ]
  },
  {
   "cell_type": "code",
   "execution_count": 56,
   "metadata": {},
   "outputs": [],
   "source": [
    "import os\n",
    "\n",
    "def move_files(image_list, source_img_dir, source_lbl_dir, target_img_dir, target_lbl_dir):\n",
    "    for img_file in image_list:\n",
    "        base_name = os.path.splitext(img_file)[0]\n",
    "        label_file = f\"{base_name}.txt\"\n",
    "\n",
    "        src_img = os.path.join(source_img_dir, img_file)\n",
    "        src_lbl = os.path.join(source_lbl_dir, label_file)\n",
    "        tgt_img = os.path.join(target_img_dir, img_file)\n",
    "        tgt_lbl = os.path.join(target_lbl_dir, label_file)\n",
    "\n",
    "        if os.path.exists(src_img) and os.path.exists(src_lbl):\n",
    "            shutil.move(src_img, tgt_img)\n",
    "            shutil.move(src_lbl, tgt_lbl)\n",
    "        else:\n",
    "            print(f\"Waarschuwing: Bestand {img_file} of {label_file} ontbreekt, overslaan.\")\n",
    "\n",
    "\n",
    "move_files(train_files, images_dir, labels_dir, train_images_dir, train_labels_dir)\n",
    "move_files(val_files, images_dir, labels_dir, val_images_dir, val_labels_dir)\n"
   ]
  },
  {
   "cell_type": "markdown",
   "metadata": {},
   "source": [
    "Dit script genereert een YAML-configuratiebestand voor de dataset. Het bevat de paden naar de trainings- en validatieafbeeldingen, het aantal klassen (`nc: 1`), en de lijst van klasse-namen (`names: ['tumor']`). Het bestand wordt opgeslagen als `dataset.yaml` in de `output_dir`. Het script geeft een bevestiging wanneer de dataset is gestructureerd en het bestand is opgeslagen.\n"
   ]
  },
  {
   "cell_type": "code",
   "execution_count": 57,
   "metadata": {},
   "outputs": [
    {
     "name": "stdout",
     "output_type": "stream",
     "text": [
      "Dataset is gestructureerd in 'dataset' en configuratiebestand is opgeslagen als 'dataset/dataset.yaml'.\n"
     ]
    }
   ],
   "source": [
    "\n",
    "yaml_content = f\"\"\"\n",
    "train: {os.path.abspath(train_images_dir)}\n",
    "val: {os.path.abspath(val_images_dir)}\n",
    "\n",
    "nc: 1  # aantal klassen\n",
    "names: ['tumor']  # lijst van klasse-namen\n",
    "\"\"\"\n",
    "\n",
    "yaml_path = os.path.join(output_dir, \"dataset.yaml\")\n",
    "with open(yaml_path, \"w\") as yaml_file:\n",
    "    yaml_file.write(yaml_content)\n",
    "\n",
    "print(f\"Dataset is gestructureerd in '{output_dir}' en configuratiebestand is opgeslagen als '{yaml_path}'.\")\n"
   ]
  },
  {
   "cell_type": "markdown",
   "metadata": {},
   "source": [
    "Hieronder wordt het model getraind hoe meer epochs hoe langer het duurt maar hoe beter het model."
   ]
  },
  {
   "cell_type": "code",
   "execution_count": 81,
   "metadata": {},
   "outputs": [
    {
     "name": "stdout",
     "output_type": "stream",
     "text": [
      "Ultralytics 8.3.51 🚀 Python-3.11.2 torch-2.5.1+cu124 CPU (11th Gen Intel Core(TM) i3-1115G4 3.00GHz)\n",
      "\u001b[34m\u001b[1mengine/trainer: \u001b[0mtask=detect, mode=train, model=yolov8n.pt, data=dataset/dataset.yaml, epochs=20, time=None, patience=100, batch=16, imgsz=640, save=True, save_period=-1, cache=False, device=None, workers=8, project=None, name=train, exist_ok=False, pretrained=True, optimizer=auto, verbose=True, seed=0, deterministic=True, single_cls=True, rect=False, cos_lr=False, close_mosaic=10, resume=False, amp=True, fraction=1.0, profile=False, freeze=None, multi_scale=False, overlap_mask=True, mask_ratio=4, dropout=0.0, val=True, split=val, save_json=False, save_hybrid=False, conf=None, iou=0.7, max_det=300, half=False, dnn=False, plots=True, source=None, vid_stride=1, stream_buffer=False, visualize=False, augment=False, agnostic_nms=False, classes=None, retina_masks=False, embed=None, show=False, save_frames=False, save_txt=False, save_conf=False, save_crop=False, show_labels=True, show_conf=True, show_boxes=True, line_width=None, format=torchscript, keras=False, optimize=False, int8=False, dynamic=False, simplify=True, opset=None, workspace=None, nms=False, lr0=0.01, lrf=0.01, momentum=0.937, weight_decay=0.0005, warmup_epochs=3.0, warmup_momentum=0.8, warmup_bias_lr=0.1, box=7.5, cls=0.5, dfl=1.5, pose=12.0, kobj=1.0, nbs=64, hsv_h=0.015, hsv_s=0.7, hsv_v=0.4, degrees=0.0, translate=0.1, scale=0.5, shear=0.0, perspective=0.0, flipud=0.0, fliplr=0.5, bgr=0.0, mosaic=1.0, mixup=0.0, copy_paste=0.0, copy_paste_mode=flip, auto_augment=randaugment, erasing=0.4, crop_fraction=1.0, cfg=None, tracker=botsort.yaml, save_dir=runs/detect/train\n",
      "Overriding model.yaml nc=80 with nc=1\n",
      "\n",
      "                   from  n    params  module                                       arguments                     \n",
      "  0                  -1  1       464  ultralytics.nn.modules.conv.Conv             [3, 16, 3, 2]                 \n",
      "  1                  -1  1      4672  ultralytics.nn.modules.conv.Conv             [16, 32, 3, 2]                \n",
      "  2                  -1  1      7360  ultralytics.nn.modules.block.C2f             [32, 32, 1, True]             \n",
      "  3                  -1  1     18560  ultralytics.nn.modules.conv.Conv             [32, 64, 3, 2]                \n",
      "  4                  -1  2     49664  ultralytics.nn.modules.block.C2f             [64, 64, 2, True]             \n",
      "  5                  -1  1     73984  ultralytics.nn.modules.conv.Conv             [64, 128, 3, 2]               \n",
      "  6                  -1  2    197632  ultralytics.nn.modules.block.C2f             [128, 128, 2, True]           \n",
      "  7                  -1  1    295424  ultralytics.nn.modules.conv.Conv             [128, 256, 3, 2]              \n",
      "  8                  -1  1    460288  ultralytics.nn.modules.block.C2f             [256, 256, 1, True]           \n",
      "  9                  -1  1    164608  ultralytics.nn.modules.block.SPPF            [256, 256, 5]                 \n",
      " 10                  -1  1         0  torch.nn.modules.upsampling.Upsample         [None, 2, 'nearest']          \n",
      " 11             [-1, 6]  1         0  ultralytics.nn.modules.conv.Concat           [1]                           \n",
      " 12                  -1  1    148224  ultralytics.nn.modules.block.C2f             [384, 128, 1]                 \n",
      " 13                  -1  1         0  torch.nn.modules.upsampling.Upsample         [None, 2, 'nearest']          \n",
      " 14             [-1, 4]  1         0  ultralytics.nn.modules.conv.Concat           [1]                           \n",
      " 15                  -1  1     37248  ultralytics.nn.modules.block.C2f             [192, 64, 1]                  \n",
      " 16                  -1  1     36992  ultralytics.nn.modules.conv.Conv             [64, 64, 3, 2]                \n",
      " 17            [-1, 12]  1         0  ultralytics.nn.modules.conv.Concat           [1]                           \n",
      " 18                  -1  1    123648  ultralytics.nn.modules.block.C2f             [192, 128, 1]                 \n",
      " 19                  -1  1    147712  ultralytics.nn.modules.conv.Conv             [128, 128, 3, 2]              \n",
      " 20             [-1, 9]  1         0  ultralytics.nn.modules.conv.Concat           [1]                           \n",
      " 21                  -1  1    493056  ultralytics.nn.modules.block.C2f             [384, 256, 1]                 \n",
      " 22        [15, 18, 21]  1    751507  ultralytics.nn.modules.head.Detect           [1, [64, 128, 256]]           \n",
      "Model summary: 225 layers, 3,011,043 parameters, 3,011,027 gradients, 8.2 GFLOPs\n",
      "\n",
      "Transferred 319/355 items from pretrained weights\n",
      "\u001b[34m\u001b[1mTensorBoard: \u001b[0mStart with 'tensorboard --logdir runs/detect/train', view at http://localhost:6006/\n",
      "Freezing layer 'model.22.dfl.conv.weight'\n"
     ]
    },
    {
     "name": "stderr",
     "output_type": "stream",
     "text": [
      "\u001b[34m\u001b[1mtrain: \u001b[0mScanning /homes/jrgommers/year 3/Deel_D/dataset/labels/train.cache... 223 images, 0 backgrounds, 2 corrupt: 100%|██████████| 223/223 [00:00<?, ?it/s]"
     ]
    },
    {
     "name": "stdout",
     "output_type": "stream",
     "text": [
      "\u001b[34m\u001b[1mtrain: \u001b[0mWARNING ⚠️ /homes/jrgommers/year 3/Deel_D/dataset/images/train/10253.jpeg: 4 duplicate labels removed\n",
      "\u001b[34m\u001b[1mtrain: \u001b[0mWARNING ⚠️ /homes/jrgommers/year 3/Deel_D/dataset/images/train/10254.jpeg: 4 duplicate labels removed\n",
      "\u001b[34m\u001b[1mtrain: \u001b[0mWARNING ⚠️ /homes/jrgommers/year 3/Deel_D/dataset/images/train/10256.jpeg: 4 duplicate labels removed\n",
      "\u001b[34m\u001b[1mtrain: \u001b[0mWARNING ⚠️ /homes/jrgommers/year 3/Deel_D/dataset/images/train/10257.jpeg: 8 duplicate labels removed\n",
      "\u001b[34m\u001b[1mtrain: \u001b[0mWARNING ⚠️ /homes/jrgommers/year 3/Deel_D/dataset/images/train/10259.jpeg: 2 duplicate labels removed\n",
      "\u001b[34m\u001b[1mtrain: \u001b[0mWARNING ⚠️ /homes/jrgommers/year 3/Deel_D/dataset/images/train/10260.jpeg: 6 duplicate labels removed\n",
      "\u001b[34m\u001b[1mtrain: \u001b[0mWARNING ⚠️ /homes/jrgommers/year 3/Deel_D/dataset/images/train/10261.jpeg: 2 duplicate labels removed\n",
      "\u001b[34m\u001b[1mtrain: \u001b[0mWARNING ⚠️ /homes/jrgommers/year 3/Deel_D/dataset/images/train/10262.jpeg: 8 duplicate labels removed\n",
      "\u001b[34m\u001b[1mtrain: \u001b[0mWARNING ⚠️ /homes/jrgommers/year 3/Deel_D/dataset/images/train/10264.jpeg: 4 duplicate labels removed\n",
      "\u001b[34m\u001b[1mtrain: \u001b[0mWARNING ⚠️ /homes/jrgommers/year 3/Deel_D/dataset/images/train/10268.jpeg: 2 duplicate labels removed\n",
      "\u001b[34m\u001b[1mtrain: \u001b[0mWARNING ⚠️ /homes/jrgommers/year 3/Deel_D/dataset/images/train/10272.jpeg: 6 duplicate labels removed\n",
      "\u001b[34m\u001b[1mtrain: \u001b[0mWARNING ⚠️ /homes/jrgommers/year 3/Deel_D/dataset/images/train/10273.jpeg: 8 duplicate labels removed\n",
      "\u001b[34m\u001b[1mtrain: \u001b[0mWARNING ⚠️ /homes/jrgommers/year 3/Deel_D/dataset/images/train/10274.jpeg: 4 duplicate labels removed\n",
      "\u001b[34m\u001b[1mtrain: \u001b[0mWARNING ⚠️ /homes/jrgommers/year 3/Deel_D/dataset/images/train/10275.jpeg: 6 duplicate labels removed\n",
      "\u001b[34m\u001b[1mtrain: \u001b[0mWARNING ⚠️ /homes/jrgommers/year 3/Deel_D/dataset/images/train/10276.jpeg: 10 duplicate labels removed\n",
      "\u001b[34m\u001b[1mtrain: \u001b[0mWARNING ⚠️ /homes/jrgommers/year 3/Deel_D/dataset/images/train/10277.jpeg: 8 duplicate labels removed\n",
      "\u001b[34m\u001b[1mtrain: \u001b[0mWARNING ⚠️ /homes/jrgommers/year 3/Deel_D/dataset/images/train/10279.jpeg: 6 duplicate labels removed\n",
      "\u001b[34m\u001b[1mtrain: \u001b[0mWARNING ⚠️ /homes/jrgommers/year 3/Deel_D/dataset/images/train/10282.jpeg: 10 duplicate labels removed\n",
      "\u001b[34m\u001b[1mtrain: \u001b[0mWARNING ⚠️ /homes/jrgommers/year 3/Deel_D/dataset/images/train/10286.jpeg: 2 duplicate labels removed\n",
      "\u001b[34m\u001b[1mtrain: \u001b[0mWARNING ⚠️ /homes/jrgommers/year 3/Deel_D/dataset/images/train/10288.jpeg: 2 duplicate labels removed\n",
      "\u001b[34m\u001b[1mtrain: \u001b[0mWARNING ⚠️ /homes/jrgommers/year 3/Deel_D/dataset/images/train/10290.jpeg: 6 duplicate labels removed\n",
      "\u001b[34m\u001b[1mtrain: \u001b[0mWARNING ⚠️ /homes/jrgommers/year 3/Deel_D/dataset/images/train/10291.jpeg: 8 duplicate labels removed\n",
      "\u001b[34m\u001b[1mtrain: \u001b[0mWARNING ⚠️ /homes/jrgommers/year 3/Deel_D/dataset/images/train/10293.jpeg: 4 duplicate labels removed\n",
      "\u001b[34m\u001b[1mtrain: \u001b[0mWARNING ⚠️ /homes/jrgommers/year 3/Deel_D/dataset/images/train/10295.jpeg: 2 duplicate labels removed\n",
      "\u001b[34m\u001b[1mtrain: \u001b[0mWARNING ⚠️ /homes/jrgommers/year 3/Deel_D/dataset/images/train/10300.jpeg: 4 duplicate labels removed\n",
      "\u001b[34m\u001b[1mtrain: \u001b[0mWARNING ⚠️ /homes/jrgommers/year 3/Deel_D/dataset/images/train/10301.jpeg: 4 duplicate labels removed\n",
      "\u001b[34m\u001b[1mtrain: \u001b[0mWARNING ⚠️ /homes/jrgommers/year 3/Deel_D/dataset/images/train/10302.jpeg: 10 duplicate labels removed\n",
      "\u001b[34m\u001b[1mtrain: \u001b[0mWARNING ⚠️ /homes/jrgommers/year 3/Deel_D/dataset/images/train/10304.jpeg: 4 duplicate labels removed\n",
      "\u001b[34m\u001b[1mtrain: \u001b[0mWARNING ⚠️ /homes/jrgommers/year 3/Deel_D/dataset/images/train/10305.jpeg: 2 duplicate labels removed\n",
      "\u001b[34m\u001b[1mtrain: \u001b[0mWARNING ⚠️ /homes/jrgommers/year 3/Deel_D/dataset/images/train/10306.jpeg: 2 duplicate labels removed\n",
      "\u001b[34m\u001b[1mtrain: \u001b[0mWARNING ⚠️ /homes/jrgommers/year 3/Deel_D/dataset/images/train/10308.jpeg: 6 duplicate labels removed\n",
      "\u001b[34m\u001b[1mtrain: \u001b[0mWARNING ⚠️ /homes/jrgommers/year 3/Deel_D/dataset/images/train/12241.jpeg: 6 duplicate labels removed\n",
      "\u001b[34m\u001b[1mtrain: \u001b[0mWARNING ⚠️ /homes/jrgommers/year 3/Deel_D/dataset/images/train/12242.jpeg: 6 duplicate labels removed\n",
      "\u001b[34m\u001b[1mtrain: \u001b[0mWARNING ⚠️ /homes/jrgommers/year 3/Deel_D/dataset/images/train/12626.jpeg: 12 duplicate labels removed\n",
      "\u001b[34m\u001b[1mtrain: \u001b[0mWARNING ⚠️ /homes/jrgommers/year 3/Deel_D/dataset/images/train/12748.jpeg: 6 duplicate labels removed\n",
      "\u001b[34m\u001b[1mtrain: \u001b[0mWARNING ⚠️ /homes/jrgommers/year 3/Deel_D/dataset/images/train/12749.jpeg: 6 duplicate labels removed\n",
      "\u001b[34m\u001b[1mtrain: \u001b[0mWARNING ⚠️ /homes/jrgommers/year 3/Deel_D/dataset/images/train/12750.jpeg: 2 duplicate labels removed\n",
      "\u001b[34m\u001b[1mtrain: \u001b[0mWARNING ⚠️ /homes/jrgommers/year 3/Deel_D/dataset/images/train/12752.jpeg: 10 duplicate labels removed\n",
      "\u001b[34m\u001b[1mtrain: \u001b[0mWARNING ⚠️ /homes/jrgommers/year 3/Deel_D/dataset/images/train/12810.jpeg: 6 duplicate labels removed\n",
      "\u001b[34m\u001b[1mtrain: \u001b[0mWARNING ⚠️ /homes/jrgommers/year 3/Deel_D/dataset/images/train/12817.jpeg: 6 duplicate labels removed\n",
      "\u001b[34m\u001b[1mtrain: \u001b[0mWARNING ⚠️ /homes/jrgommers/year 3/Deel_D/dataset/images/train/12818.jpeg: 6 duplicate labels removed\n",
      "\u001b[34m\u001b[1mtrain: \u001b[0mWARNING ⚠️ /homes/jrgommers/year 3/Deel_D/dataset/images/train/12820.jpeg: 4 duplicate labels removed\n",
      "\u001b[34m\u001b[1mtrain: \u001b[0mWARNING ⚠️ /homes/jrgommers/year 3/Deel_D/dataset/images/train/12821.jpeg: 6 duplicate labels removed\n",
      "\u001b[34m\u001b[1mtrain: \u001b[0mWARNING ⚠️ /homes/jrgommers/year 3/Deel_D/dataset/images/train/12823.jpeg: 4 duplicate labels removed\n",
      "\u001b[34m\u001b[1mtrain: \u001b[0mWARNING ⚠️ /homes/jrgommers/year 3/Deel_D/dataset/images/train/12824.jpeg: 8 duplicate labels removed\n",
      "\u001b[34m\u001b[1mtrain: \u001b[0mWARNING ⚠️ /homes/jrgommers/year 3/Deel_D/dataset/images/train/12826.jpeg: 2 duplicate labels removed\n",
      "\u001b[34m\u001b[1mtrain: \u001b[0mWARNING ⚠️ /homes/jrgommers/year 3/Deel_D/dataset/images/train/12868.jpeg: 2 duplicate labels removed\n",
      "\u001b[34m\u001b[1mtrain: \u001b[0mWARNING ⚠️ /homes/jrgommers/year 3/Deel_D/dataset/images/train/12869.jpeg: 2 duplicate labels removed\n",
      "\u001b[34m\u001b[1mtrain: \u001b[0mWARNING ⚠️ /homes/jrgommers/year 3/Deel_D/dataset/images/train/12870.jpeg: 2 duplicate labels removed\n",
      "\u001b[34m\u001b[1mtrain: \u001b[0mWARNING ⚠️ /homes/jrgommers/year 3/Deel_D/dataset/images/train/12871.jpeg: 6 duplicate labels removed\n",
      "\u001b[34m\u001b[1mtrain: \u001b[0mWARNING ⚠️ /homes/jrgommers/year 3/Deel_D/dataset/images/train/12872.jpeg: 4 duplicate labels removed\n",
      "\u001b[34m\u001b[1mtrain: \u001b[0mWARNING ⚠️ /homes/jrgommers/year 3/Deel_D/dataset/images/train/12873.jpeg: 4 duplicate labels removed\n",
      "\u001b[34m\u001b[1mtrain: \u001b[0mWARNING ⚠️ /homes/jrgommers/year 3/Deel_D/dataset/images/train/12876.jpeg: 6 duplicate labels removed\n",
      "\u001b[34m\u001b[1mtrain: \u001b[0mWARNING ⚠️ /homes/jrgommers/year 3/Deel_D/dataset/images/train/12877.jpeg: 2 duplicate labels removed\n",
      "\u001b[34m\u001b[1mtrain: \u001b[0mWARNING ⚠️ /homes/jrgommers/year 3/Deel_D/dataset/images/train/12878.jpeg: 2 duplicate labels removed\n",
      "\u001b[34m\u001b[1mtrain: \u001b[0mWARNING ⚠️ /homes/jrgommers/year 3/Deel_D/dataset/images/train/12879.jpeg: 4 duplicate labels removed\n",
      "\u001b[34m\u001b[1mtrain: \u001b[0mWARNING ⚠️ /homes/jrgommers/year 3/Deel_D/dataset/images/train/12880.jpeg: 4 duplicate labels removed\n",
      "\u001b[34m\u001b[1mtrain: \u001b[0mWARNING ⚠️ /homes/jrgommers/year 3/Deel_D/dataset/images/train/12881.jpeg: 2 duplicate labels removed\n",
      "\u001b[34m\u001b[1mtrain: \u001b[0mWARNING ⚠️ /homes/jrgommers/year 3/Deel_D/dataset/images/train/12882.jpeg: 4 duplicate labels removed\n",
      "\u001b[34m\u001b[1mtrain: \u001b[0mWARNING ⚠️ /homes/jrgommers/year 3/Deel_D/dataset/images/train/12883.jpeg: 6 duplicate labels removed\n",
      "\u001b[34m\u001b[1mtrain: \u001b[0mWARNING ⚠️ /homes/jrgommers/year 3/Deel_D/dataset/images/train/12886.jpeg: 4 duplicate labels removed\n",
      "\u001b[34m\u001b[1mtrain: \u001b[0mWARNING ⚠️ /homes/jrgommers/year 3/Deel_D/dataset/images/train/12890.jpeg: 2 duplicate labels removed\n",
      "\u001b[34m\u001b[1mtrain: \u001b[0mWARNING ⚠️ /homes/jrgommers/year 3/Deel_D/dataset/images/train/12891.jpeg: 2 duplicate labels removed\n",
      "\u001b[34m\u001b[1mtrain: \u001b[0mWARNING ⚠️ /homes/jrgommers/year 3/Deel_D/dataset/images/train/12893.jpeg: 4 duplicate labels removed\n",
      "\u001b[34m\u001b[1mtrain: \u001b[0mWARNING ⚠️ /homes/jrgommers/year 3/Deel_D/dataset/images/train/12895.jpeg: 4 duplicate labels removed\n",
      "\u001b[34m\u001b[1mtrain: \u001b[0mWARNING ⚠️ /homes/jrgommers/year 3/Deel_D/dataset/images/train/12896.jpeg: 2 duplicate labels removed\n",
      "\u001b[34m\u001b[1mtrain: \u001b[0mWARNING ⚠️ /homes/jrgommers/year 3/Deel_D/dataset/images/train/12898.jpeg: 8 duplicate labels removed\n",
      "\u001b[34m\u001b[1mtrain: \u001b[0mWARNING ⚠️ /homes/jrgommers/year 3/Deel_D/dataset/images/train/12900.jpeg: 6 duplicate labels removed\n",
      "\u001b[34m\u001b[1mtrain: \u001b[0mWARNING ⚠️ /homes/jrgommers/year 3/Deel_D/dataset/images/train/12901.jpeg: 4 duplicate labels removed\n",
      "\u001b[34m\u001b[1mtrain: \u001b[0mWARNING ⚠️ /homes/jrgommers/year 3/Deel_D/dataset/images/train/12905.jpeg: 6 duplicate labels removed\n",
      "\u001b[34m\u001b[1mtrain: \u001b[0mWARNING ⚠️ /homes/jrgommers/year 3/Deel_D/dataset/images/train/12906.jpeg: ignoring corrupt image/label: negative label values [  -0.014904    -0.35914   -0.036478    -0.22465    -0.38829   -0.014904    -0.35914   -0.036478    -0.22465    -0.38829   -0.014904    -0.35914   -0.036478    -0.22465    -0.38829]\n",
      "\u001b[34m\u001b[1mtrain: \u001b[0mWARNING ⚠️ /homes/jrgommers/year 3/Deel_D/dataset/images/train/12907.jpeg: 6 duplicate labels removed\n",
      "\u001b[34m\u001b[1mtrain: \u001b[0mWARNING ⚠️ /homes/jrgommers/year 3/Deel_D/dataset/images/train/12908.jpeg: 4 duplicate labels removed\n",
      "\u001b[34m\u001b[1mtrain: \u001b[0mWARNING ⚠️ /homes/jrgommers/year 3/Deel_D/dataset/images/train/12909.jpeg: 2 duplicate labels removed\n",
      "\u001b[34m\u001b[1mtrain: \u001b[0mWARNING ⚠️ /homes/jrgommers/year 3/Deel_D/dataset/images/train/12911.jpeg: 6 duplicate labels removed\n",
      "\u001b[34m\u001b[1mtrain: \u001b[0mWARNING ⚠️ /homes/jrgommers/year 3/Deel_D/dataset/images/train/12929.jpeg: 4 duplicate labels removed\n",
      "\u001b[34m\u001b[1mtrain: \u001b[0mWARNING ⚠️ /homes/jrgommers/year 3/Deel_D/dataset/images/train/12930.jpeg: 10 duplicate labels removed\n",
      "\u001b[34m\u001b[1mtrain: \u001b[0mWARNING ⚠️ /homes/jrgommers/year 3/Deel_D/dataset/images/train/12931.jpeg: 4 duplicate labels removed\n",
      "\u001b[34m\u001b[1mtrain: \u001b[0mWARNING ⚠️ /homes/jrgommers/year 3/Deel_D/dataset/images/train/12932.jpeg: 4 duplicate labels removed\n",
      "\u001b[34m\u001b[1mtrain: \u001b[0mWARNING ⚠️ /homes/jrgommers/year 3/Deel_D/dataset/images/train/12933.jpeg: 2 duplicate labels removed\n",
      "\u001b[34m\u001b[1mtrain: \u001b[0mWARNING ⚠️ /homes/jrgommers/year 3/Deel_D/dataset/images/train/12934.jpeg: 6 duplicate labels removed\n",
      "\u001b[34m\u001b[1mtrain: \u001b[0mWARNING ⚠️ /homes/jrgommers/year 3/Deel_D/dataset/images/train/12935.jpeg: 6 duplicate labels removed\n",
      "\u001b[34m\u001b[1mtrain: \u001b[0mWARNING ⚠️ /homes/jrgommers/year 3/Deel_D/dataset/images/train/12947.jpeg: 2 duplicate labels removed\n",
      "\u001b[34m\u001b[1mtrain: \u001b[0mWARNING ⚠️ /homes/jrgommers/year 3/Deel_D/dataset/images/train/12949.jpeg: 4 duplicate labels removed\n",
      "\u001b[34m\u001b[1mtrain: \u001b[0mWARNING ⚠️ /homes/jrgommers/year 3/Deel_D/dataset/images/train/12951.jpeg: 8 duplicate labels removed\n",
      "\u001b[34m\u001b[1mtrain: \u001b[0mWARNING ⚠️ /homes/jrgommers/year 3/Deel_D/dataset/images/train/12954.jpeg: 4 duplicate labels removed\n",
      "\u001b[34m\u001b[1mtrain: \u001b[0mWARNING ⚠️ /homes/jrgommers/year 3/Deel_D/dataset/images/train/12955.jpeg: 4 duplicate labels removed\n",
      "\u001b[34m\u001b[1mtrain: \u001b[0mWARNING ⚠️ /homes/jrgommers/year 3/Deel_D/dataset/images/train/13018.jpeg: 12 duplicate labels removed\n",
      "\u001b[34m\u001b[1mtrain: \u001b[0mWARNING ⚠️ /homes/jrgommers/year 3/Deel_D/dataset/images/train/13020.jpeg: 2 duplicate labels removed\n",
      "\u001b[34m\u001b[1mtrain: \u001b[0mWARNING ⚠️ /homes/jrgommers/year 3/Deel_D/dataset/images/train/13022.jpeg: 8 duplicate labels removed\n",
      "\u001b[34m\u001b[1mtrain: \u001b[0mWARNING ⚠️ /homes/jrgommers/year 3/Deel_D/dataset/images/train/13023.jpeg: 6 duplicate labels removed\n",
      "\u001b[34m\u001b[1mtrain: \u001b[0mWARNING ⚠️ /homes/jrgommers/year 3/Deel_D/dataset/images/train/13025.jpeg: 6 duplicate labels removed\n",
      "\u001b[34m\u001b[1mtrain: \u001b[0mWARNING ⚠️ /homes/jrgommers/year 3/Deel_D/dataset/images/train/13400.jpeg: 2 duplicate labels removed\n",
      "\u001b[34m\u001b[1mtrain: \u001b[0mWARNING ⚠️ /homes/jrgommers/year 3/Deel_D/dataset/images/train/13401.jpeg: 6 duplicate labels removed\n",
      "\u001b[34m\u001b[1mtrain: \u001b[0mWARNING ⚠️ /homes/jrgommers/year 3/Deel_D/dataset/images/train/13402.jpeg: 4 duplicate labels removed\n",
      "\u001b[34m\u001b[1mtrain: \u001b[0mWARNING ⚠️ /homes/jrgommers/year 3/Deel_D/dataset/images/train/13404.jpeg: 4 duplicate labels removed\n",
      "\u001b[34m\u001b[1mtrain: \u001b[0mWARNING ⚠️ /homes/jrgommers/year 3/Deel_D/dataset/images/train/13458.jpeg: 6 duplicate labels removed\n",
      "\u001b[34m\u001b[1mtrain: \u001b[0mWARNING ⚠️ /homes/jrgommers/year 3/Deel_D/dataset/images/train/13459.jpeg: 8 duplicate labels removed\n",
      "\u001b[34m\u001b[1mtrain: \u001b[0mWARNING ⚠️ /homes/jrgommers/year 3/Deel_D/dataset/images/train/13460.jpeg: 4 duplicate labels removed\n",
      "\u001b[34m\u001b[1mtrain: \u001b[0mWARNING ⚠️ /homes/jrgommers/year 3/Deel_D/dataset/images/train/13461.jpeg: 6 duplicate labels removed\n",
      "\u001b[34m\u001b[1mtrain: \u001b[0mWARNING ⚠️ /homes/jrgommers/year 3/Deel_D/dataset/images/train/13591.jpeg: 2 duplicate labels removed\n",
      "\u001b[34m\u001b[1mtrain: \u001b[0mWARNING ⚠️ /homes/jrgommers/year 3/Deel_D/dataset/images/train/13617.jpeg: 2 duplicate labels removed\n",
      "\u001b[34m\u001b[1mtrain: \u001b[0mWARNING ⚠️ /homes/jrgommers/year 3/Deel_D/dataset/images/train/13688.jpeg: 12 duplicate labels removed\n",
      "\u001b[34m\u001b[1mtrain: \u001b[0mWARNING ⚠️ /homes/jrgommers/year 3/Deel_D/dataset/images/train/13689.jpeg: 4 duplicate labels removed\n",
      "\u001b[34m\u001b[1mtrain: \u001b[0mWARNING ⚠️ /homes/jrgommers/year 3/Deel_D/dataset/images/train/13691.jpeg: 6 duplicate labels removed\n",
      "\u001b[34m\u001b[1mtrain: \u001b[0mWARNING ⚠️ /homes/jrgommers/year 3/Deel_D/dataset/images/train/13692.jpeg: 2 duplicate labels removed\n",
      "\u001b[34m\u001b[1mtrain: \u001b[0mWARNING ⚠️ /homes/jrgommers/year 3/Deel_D/dataset/images/train/13693.jpeg: 4 duplicate labels removed\n",
      "\u001b[34m\u001b[1mtrain: \u001b[0mWARNING ⚠️ /homes/jrgommers/year 3/Deel_D/dataset/images/train/13694.jpeg: 6 duplicate labels removed\n",
      "\u001b[34m\u001b[1mtrain: \u001b[0mWARNING ⚠️ /homes/jrgommers/year 3/Deel_D/dataset/images/train/13916.jpeg: 14 duplicate labels removed\n",
      "\u001b[34m\u001b[1mtrain: \u001b[0mWARNING ⚠️ /homes/jrgommers/year 3/Deel_D/dataset/images/train/14078.jpeg: 4 duplicate labels removed\n",
      "\u001b[34m\u001b[1mtrain: \u001b[0mWARNING ⚠️ /homes/jrgommers/year 3/Deel_D/dataset/images/train/14081.jpeg: 2 duplicate labels removed\n",
      "\u001b[34m\u001b[1mtrain: \u001b[0mWARNING ⚠️ /homes/jrgommers/year 3/Deel_D/dataset/images/train/14082.jpeg: 4 duplicate labels removed\n",
      "\u001b[34m\u001b[1mtrain: \u001b[0mWARNING ⚠️ /homes/jrgommers/year 3/Deel_D/dataset/images/train/14153.jpeg: 10 duplicate labels removed\n",
      "\u001b[34m\u001b[1mtrain: \u001b[0mWARNING ⚠️ /homes/jrgommers/year 3/Deel_D/dataset/images/train/14154.jpeg: 4 duplicate labels removed\n",
      "\u001b[34m\u001b[1mtrain: \u001b[0mWARNING ⚠️ /homes/jrgommers/year 3/Deel_D/dataset/images/train/14157.jpeg: 4 duplicate labels removed\n",
      "\u001b[34m\u001b[1mtrain: \u001b[0mWARNING ⚠️ /homes/jrgommers/year 3/Deel_D/dataset/images/train/14188.jpeg: 2 duplicate labels removed\n",
      "\u001b[34m\u001b[1mtrain: \u001b[0mWARNING ⚠️ /homes/jrgommers/year 3/Deel_D/dataset/images/train/14189.jpeg: 2 duplicate labels removed\n",
      "\u001b[34m\u001b[1mtrain: \u001b[0mWARNING ⚠️ /homes/jrgommers/year 3/Deel_D/dataset/images/train/14190.jpeg: 8 duplicate labels removed\n",
      "\u001b[34m\u001b[1mtrain: \u001b[0mWARNING ⚠️ /homes/jrgommers/year 3/Deel_D/dataset/images/train/14191.jpeg: 4 duplicate labels removed\n",
      "\u001b[34m\u001b[1mtrain: \u001b[0mWARNING ⚠️ /homes/jrgommers/year 3/Deel_D/dataset/images/train/14192.jpeg: 4 duplicate labels removed\n",
      "\u001b[34m\u001b[1mtrain: \u001b[0mWARNING ⚠️ /homes/jrgommers/year 3/Deel_D/dataset/images/train/14210.jpeg: 2 duplicate labels removed\n",
      "\u001b[34m\u001b[1mtrain: \u001b[0mWARNING ⚠️ /homes/jrgommers/year 3/Deel_D/dataset/images/train/14211.jpeg: 6 duplicate labels removed\n",
      "\u001b[34m\u001b[1mtrain: \u001b[0mWARNING ⚠️ /homes/jrgommers/year 3/Deel_D/dataset/images/train/14212.jpeg: 4 duplicate labels removed\n",
      "\u001b[34m\u001b[1mtrain: \u001b[0mWARNING ⚠️ /homes/jrgommers/year 3/Deel_D/dataset/images/train/14213.jpeg: 6 duplicate labels removed\n",
      "\u001b[34m\u001b[1mtrain: \u001b[0mWARNING ⚠️ /homes/jrgommers/year 3/Deel_D/dataset/images/train/14304.jpeg: 10 duplicate labels removed\n",
      "\u001b[34m\u001b[1mtrain: \u001b[0mWARNING ⚠️ /homes/jrgommers/year 3/Deel_D/dataset/images/train/14305.jpeg: 12 duplicate labels removed\n",
      "\u001b[34m\u001b[1mtrain: \u001b[0mWARNING ⚠️ /homes/jrgommers/year 3/Deel_D/dataset/images/train/14306.jpeg: 6 duplicate labels removed\n",
      "\u001b[34m\u001b[1mtrain: \u001b[0mWARNING ⚠️ /homes/jrgommers/year 3/Deel_D/dataset/images/train/14321.jpeg: 6 duplicate labels removed\n",
      "\u001b[34m\u001b[1mtrain: \u001b[0mWARNING ⚠️ /homes/jrgommers/year 3/Deel_D/dataset/images/train/15471.jpeg: 2 duplicate labels removed\n",
      "\u001b[34m\u001b[1mtrain: \u001b[0mWARNING ⚠️ /homes/jrgommers/year 3/Deel_D/dataset/images/train/15472.jpeg: 2 duplicate labels removed\n",
      "\u001b[34m\u001b[1mtrain: \u001b[0mWARNING ⚠️ /homes/jrgommers/year 3/Deel_D/dataset/images/train/15473.jpeg: 2 duplicate labels removed\n",
      "\u001b[34m\u001b[1mtrain: \u001b[0mWARNING ⚠️ /homes/jrgommers/year 3/Deel_D/dataset/images/train/15510.jpeg: 10 duplicate labels removed\n",
      "\u001b[34m\u001b[1mtrain: \u001b[0mWARNING ⚠️ /homes/jrgommers/year 3/Deel_D/dataset/images/train/15512.jpeg: 4 duplicate labels removed\n",
      "\u001b[34m\u001b[1mtrain: \u001b[0mWARNING ⚠️ /homes/jrgommers/year 3/Deel_D/dataset/images/train/15513.jpeg: 4 duplicate labels removed\n",
      "\u001b[34m\u001b[1mtrain: \u001b[0mWARNING ⚠️ /homes/jrgommers/year 3/Deel_D/dataset/images/train/15514.jpeg: 4 duplicate labels removed\n",
      "\u001b[34m\u001b[1mtrain: \u001b[0mWARNING ⚠️ /homes/jrgommers/year 3/Deel_D/dataset/images/train/15515.jpeg: 2 duplicate labels removed\n",
      "\u001b[34m\u001b[1mtrain: \u001b[0mWARNING ⚠️ /homes/jrgommers/year 3/Deel_D/dataset/images/train/15516.jpeg: 4 duplicate labels removed\n",
      "\u001b[34m\u001b[1mtrain: \u001b[0mWARNING ⚠️ /homes/jrgommers/year 3/Deel_D/dataset/images/train/15632.jpeg: 2 duplicate labels removed\n",
      "\u001b[34m\u001b[1mtrain: \u001b[0mWARNING ⚠️ /homes/jrgommers/year 3/Deel_D/dataset/images/train/15634.jpeg: 8 duplicate labels removed\n",
      "\u001b[34m\u001b[1mtrain: \u001b[0mWARNING ⚠️ /homes/jrgommers/year 3/Deel_D/dataset/images/train/15839.jpeg: 8 duplicate labels removed\n",
      "\u001b[34m\u001b[1mtrain: \u001b[0mWARNING ⚠️ /homes/jrgommers/year 3/Deel_D/dataset/images/train/15840.jpeg: 10 duplicate labels removed\n",
      "\u001b[34m\u001b[1mtrain: \u001b[0mWARNING ⚠️ /homes/jrgommers/year 3/Deel_D/dataset/images/train/15902.jpeg: 4 duplicate labels removed\n",
      "\u001b[34m\u001b[1mtrain: \u001b[0mWARNING ⚠️ /homes/jrgommers/year 3/Deel_D/dataset/images/train/15903.jpeg: 2 duplicate labels removed\n",
      "\u001b[34m\u001b[1mtrain: \u001b[0mWARNING ⚠️ /homes/jrgommers/year 3/Deel_D/dataset/images/train/16014.jpeg: 4 duplicate labels removed\n",
      "\u001b[34m\u001b[1mtrain: \u001b[0mWARNING ⚠️ /homes/jrgommers/year 3/Deel_D/dataset/images/train/16085.jpeg: 2 duplicate labels removed\n",
      "\u001b[34m\u001b[1mtrain: \u001b[0mWARNING ⚠️ /homes/jrgommers/year 3/Deel_D/dataset/images/train/16165.jpeg: 8 duplicate labels removed\n",
      "\u001b[34m\u001b[1mtrain: \u001b[0mWARNING ⚠️ /homes/jrgommers/year 3/Deel_D/dataset/images/train/16166.jpeg: 6 duplicate labels removed\n",
      "\u001b[34m\u001b[1mtrain: \u001b[0mWARNING ⚠️ /homes/jrgommers/year 3/Deel_D/dataset/images/train/16167.jpeg: 2 duplicate labels removed\n",
      "\u001b[34m\u001b[1mtrain: \u001b[0mWARNING ⚠️ /homes/jrgommers/year 3/Deel_D/dataset/images/train/16531.jpeg: 4 duplicate labels removed\n",
      "\u001b[34m\u001b[1mtrain: \u001b[0mWARNING ⚠️ /homes/jrgommers/year 3/Deel_D/dataset/images/train/16532.jpeg: 6 duplicate labels removed\n",
      "\u001b[34m\u001b[1mtrain: \u001b[0mWARNING ⚠️ /homes/jrgommers/year 3/Deel_D/dataset/images/train/16533.jpeg: 8 duplicate labels removed\n",
      "\u001b[34m\u001b[1mtrain: \u001b[0mWARNING ⚠️ /homes/jrgommers/year 3/Deel_D/dataset/images/train/16534.jpeg: 4 duplicate labels removed\n",
      "\u001b[34m\u001b[1mtrain: \u001b[0mWARNING ⚠️ /homes/jrgommers/year 3/Deel_D/dataset/images/train/16550.jpeg: 6 duplicate labels removed\n",
      "\u001b[34m\u001b[1mtrain: \u001b[0mWARNING ⚠️ /homes/jrgommers/year 3/Deel_D/dataset/images/train/16551.jpeg: 16 duplicate labels removed\n",
      "\u001b[34m\u001b[1mtrain: \u001b[0mWARNING ⚠️ /homes/jrgommers/year 3/Deel_D/dataset/images/train/16552.jpeg: 4 duplicate labels removed\n",
      "\u001b[34m\u001b[1mtrain: \u001b[0mWARNING ⚠️ /homes/jrgommers/year 3/Deel_D/dataset/images/train/16553.jpeg: 4 duplicate labels removed\n",
      "\u001b[34m\u001b[1mtrain: \u001b[0mWARNING ⚠️ /homes/jrgommers/year 3/Deel_D/dataset/images/train/16554.jpeg: 2 duplicate labels removed\n",
      "\u001b[34m\u001b[1mtrain: \u001b[0mWARNING ⚠️ /homes/jrgommers/year 3/Deel_D/dataset/images/train/16555.jpeg: 6 duplicate labels removed\n",
      "\u001b[34m\u001b[1mtrain: \u001b[0mWARNING ⚠️ /homes/jrgommers/year 3/Deel_D/dataset/images/train/16568.jpeg: 6 duplicate labels removed\n",
      "\u001b[34m\u001b[1mtrain: \u001b[0mWARNING ⚠️ /homes/jrgommers/year 3/Deel_D/dataset/images/train/16569.jpeg: 4 duplicate labels removed\n",
      "\u001b[34m\u001b[1mtrain: \u001b[0mWARNING ⚠️ /homes/jrgommers/year 3/Deel_D/dataset/images/train/16570.jpeg: 12 duplicate labels removed\n",
      "\u001b[34m\u001b[1mtrain: \u001b[0mWARNING ⚠️ /homes/jrgommers/year 3/Deel_D/dataset/images/train/16895.jpeg: 6 duplicate labels removed\n",
      "\u001b[34m\u001b[1mtrain: \u001b[0mWARNING ⚠️ /homes/jrgommers/year 3/Deel_D/dataset/images/train/16896.jpeg: 6 duplicate labels removed\n",
      "\u001b[34m\u001b[1mtrain: \u001b[0mWARNING ⚠️ /homes/jrgommers/year 3/Deel_D/dataset/images/train/8863.jpeg: 8 duplicate labels removed\n",
      "\u001b[34m\u001b[1mtrain: \u001b[0mWARNING ⚠️ /homes/jrgommers/year 3/Deel_D/dataset/images/train/8864.jpeg: 4 duplicate labels removed\n",
      "\u001b[34m\u001b[1mtrain: \u001b[0mWARNING ⚠️ /homes/jrgommers/year 3/Deel_D/dataset/images/train/8865.jpeg: 4 duplicate labels removed\n",
      "\u001b[34m\u001b[1mtrain: \u001b[0mWARNING ⚠️ /homes/jrgommers/year 3/Deel_D/dataset/images/train/8867.jpeg: 2 duplicate labels removed\n",
      "\u001b[34m\u001b[1mtrain: \u001b[0mWARNING ⚠️ /homes/jrgommers/year 3/Deel_D/dataset/images/train/8913.jpeg: 8 duplicate labels removed\n",
      "\u001b[34m\u001b[1mtrain: \u001b[0mWARNING ⚠️ /homes/jrgommers/year 3/Deel_D/dataset/images/train/8914.jpeg: 2 duplicate labels removed\n",
      "\u001b[34m\u001b[1mtrain: \u001b[0mWARNING ⚠️ /homes/jrgommers/year 3/Deel_D/dataset/images/train/8916.jpeg: 8 duplicate labels removed\n",
      "\u001b[34m\u001b[1mtrain: \u001b[0mWARNING ⚠️ /homes/jrgommers/year 3/Deel_D/dataset/images/train/8917.jpeg: 2 duplicate labels removed\n",
      "\u001b[34m\u001b[1mtrain: \u001b[0mWARNING ⚠️ /homes/jrgommers/year 3/Deel_D/dataset/images/train/8918.jpeg: 8 duplicate labels removed\n",
      "\u001b[34m\u001b[1mtrain: \u001b[0mWARNING ⚠️ /homes/jrgommers/year 3/Deel_D/dataset/images/train/8950.jpeg: 4 duplicate labels removed\n",
      "\u001b[34m\u001b[1mtrain: \u001b[0mWARNING ⚠️ /homes/jrgommers/year 3/Deel_D/dataset/images/train/8951.jpeg: 2 duplicate labels removed\n",
      "\u001b[34m\u001b[1mtrain: \u001b[0mWARNING ⚠️ /homes/jrgommers/year 3/Deel_D/dataset/images/train/8955.jpeg: 2 duplicate labels removed\n",
      "\u001b[34m\u001b[1mtrain: \u001b[0mWARNING ⚠️ /homes/jrgommers/year 3/Deel_D/dataset/images/train/8956.jpeg: 4 duplicate labels removed\n",
      "\u001b[34m\u001b[1mtrain: \u001b[0mWARNING ⚠️ /homes/jrgommers/year 3/Deel_D/dataset/images/train/8974.jpeg: 18 duplicate labels removed\n",
      "\u001b[34m\u001b[1mtrain: \u001b[0mWARNING ⚠️ /homes/jrgommers/year 3/Deel_D/dataset/images/train/8980.jpeg: 2 duplicate labels removed\n",
      "\u001b[34m\u001b[1mtrain: \u001b[0mWARNING ⚠️ /homes/jrgommers/year 3/Deel_D/dataset/images/train/8984.jpeg: 8 duplicate labels removed\n",
      "\u001b[34m\u001b[1mtrain: \u001b[0mWARNING ⚠️ /homes/jrgommers/year 3/Deel_D/dataset/images/train/9022.jpeg: 4 duplicate labels removed\n",
      "\u001b[34m\u001b[1mtrain: \u001b[0mWARNING ⚠️ /homes/jrgommers/year 3/Deel_D/dataset/images/train/9023.jpeg: 4 duplicate labels removed\n",
      "\u001b[34m\u001b[1mtrain: \u001b[0mWARNING ⚠️ /homes/jrgommers/year 3/Deel_D/dataset/images/train/9029.jpeg: 2 duplicate labels removed\n",
      "\u001b[34m\u001b[1mtrain: \u001b[0mWARNING ⚠️ /homes/jrgommers/year 3/Deel_D/dataset/images/train/9035.jpeg: 4 duplicate labels removed\n",
      "\u001b[34m\u001b[1mtrain: \u001b[0mWARNING ⚠️ /homes/jrgommers/year 3/Deel_D/dataset/images/train/9037.jpeg: 10 duplicate labels removed\n",
      "\u001b[34m\u001b[1mtrain: \u001b[0mWARNING ⚠️ /homes/jrgommers/year 3/Deel_D/dataset/images/train/9044.jpeg: 6 duplicate labels removed\n",
      "\u001b[34m\u001b[1mtrain: \u001b[0mWARNING ⚠️ /homes/jrgommers/year 3/Deel_D/dataset/images/train/9073.jpeg: 4 duplicate labels removed\n",
      "\u001b[34m\u001b[1mtrain: \u001b[0mWARNING ⚠️ /homes/jrgommers/year 3/Deel_D/dataset/images/train/9076.jpeg: 4 duplicate labels removed\n",
      "\u001b[34m\u001b[1mtrain: \u001b[0mWARNING ⚠️ /homes/jrgommers/year 3/Deel_D/dataset/images/train/9078.jpeg: 10 duplicate labels removed\n",
      "\u001b[34m\u001b[1mtrain: \u001b[0mWARNING ⚠️ /homes/jrgommers/year 3/Deel_D/dataset/images/train/9081.jpeg: 4 duplicate labels removed\n",
      "\u001b[34m\u001b[1mtrain: \u001b[0mWARNING ⚠️ /homes/jrgommers/year 3/Deel_D/dataset/images/train/9083.jpeg: 4 duplicate labels removed\n",
      "\u001b[34m\u001b[1mtrain: \u001b[0mWARNING ⚠️ /homes/jrgommers/year 3/Deel_D/dataset/images/train/9125.jpeg: 4 duplicate labels removed\n",
      "\u001b[34m\u001b[1mtrain: \u001b[0mWARNING ⚠️ /homes/jrgommers/year 3/Deel_D/dataset/images/train/9126.jpeg: 4 duplicate labels removed\n",
      "\u001b[34m\u001b[1mtrain: \u001b[0mWARNING ⚠️ /homes/jrgommers/year 3/Deel_D/dataset/images/train/9173.jpeg: 4 duplicate labels removed\n",
      "\u001b[34m\u001b[1mtrain: \u001b[0mWARNING ⚠️ /homes/jrgommers/year 3/Deel_D/dataset/images/train/9174.jpeg: 2 duplicate labels removed\n",
      "\u001b[34m\u001b[1mtrain: \u001b[0mWARNING ⚠️ /homes/jrgommers/year 3/Deel_D/dataset/images/train/9175.jpeg: 2 duplicate labels removed\n",
      "\u001b[34m\u001b[1mtrain: \u001b[0mWARNING ⚠️ /homes/jrgommers/year 3/Deel_D/dataset/images/train/9176.jpeg: 6 duplicate labels removed\n",
      "\u001b[34m\u001b[1mtrain: \u001b[0mWARNING ⚠️ /homes/jrgommers/year 3/Deel_D/dataset/images/train/9178.jpeg: 10 duplicate labels removed\n",
      "\u001b[34m\u001b[1mtrain: \u001b[0mWARNING ⚠️ /homes/jrgommers/year 3/Deel_D/dataset/images/train/9181.jpeg: 8 duplicate labels removed\n",
      "\u001b[34m\u001b[1mtrain: \u001b[0mWARNING ⚠️ /homes/jrgommers/year 3/Deel_D/dataset/images/train/9225.jpeg: 4 duplicate labels removed\n",
      "\u001b[34m\u001b[1mtrain: \u001b[0mWARNING ⚠️ /homes/jrgommers/year 3/Deel_D/dataset/images/train/9227.jpeg: 6 duplicate labels removed\n",
      "\u001b[34m\u001b[1mtrain: \u001b[0mWARNING ⚠️ /homes/jrgommers/year 3/Deel_D/dataset/images/train/9228.jpeg: 4 duplicate labels removed\n",
      "\u001b[34m\u001b[1mtrain: \u001b[0mWARNING ⚠️ /homes/jrgommers/year 3/Deel_D/dataset/images/train/9250.jpeg: 6 duplicate labels removed\n",
      "\u001b[34m\u001b[1mtrain: \u001b[0mWARNING ⚠️ /homes/jrgommers/year 3/Deel_D/dataset/images/train/9254.jpeg: 2 duplicate labels removed\n",
      "\u001b[34m\u001b[1mtrain: \u001b[0mWARNING ⚠️ /homes/jrgommers/year 3/Deel_D/dataset/images/train/9256.jpeg: 4 duplicate labels removed\n",
      "\u001b[34m\u001b[1mtrain: \u001b[0mWARNING ⚠️ /homes/jrgommers/year 3/Deel_D/dataset/images/train/9257.jpeg: 2 duplicate labels removed\n",
      "\u001b[34m\u001b[1mtrain: \u001b[0mWARNING ⚠️ /homes/jrgommers/year 3/Deel_D/dataset/images/train/9258.jpeg: 6 duplicate labels removed\n",
      "\u001b[34m\u001b[1mtrain: \u001b[0mWARNING ⚠️ /homes/jrgommers/year 3/Deel_D/dataset/images/train/9259.jpeg: 4 duplicate labels removed\n",
      "\u001b[34m\u001b[1mtrain: \u001b[0mWARNING ⚠️ /homes/jrgommers/year 3/Deel_D/dataset/images/train/9260.jpeg: 4 duplicate labels removed\n",
      "\u001b[34m\u001b[1mtrain: \u001b[0mWARNING ⚠️ /homes/jrgommers/year 3/Deel_D/dataset/images/train/9261.jpeg: 4 duplicate labels removed\n",
      "\u001b[34m\u001b[1mtrain: \u001b[0mWARNING ⚠️ /homes/jrgommers/year 3/Deel_D/dataset/images/train/9262.jpeg: ignoring corrupt image/label: non-normalized or out of bounds coordinates [     1.3701      1.7625      1.9173      1.4156       2.429       1.346       2.278      1.5894      2.1121      2.3019      3.2558      1.0118      1.0993      1.0955      1.1343      1.5494      1.7808      1.0844      1.1511      1.9195       1.122      1.7974       1.808      1.5394      1.3696      1.9051\n",
      "      2.0311       1.581      1.1853      1.0372      1.8696       1.859      1.4883      3.4534      3.5699      1.3052      2.7664      3.1537      3.1748      2.3502      2.6848      2.5416      1.9101       1.773      1.2349      2.5683      1.9994      1.6115      1.5899      2.2508      2.3335       1.813\n",
      "      2.0394      2.2075      1.1825      2.7791      3.1548      1.2081      3.4878      1.2153      2.7886      1.2003      1.3502      1.1698      1.4545      1.1576       1.121      1.7281      2.6304      3.1487      1.2584      1.6332      1.4351      2.6826      1.1091      1.2625      1.1787      1.6743\n",
      "      1.7858      1.1426       2.086      3.1226      3.1221       1.045       2.106      1.9378      1.4989      1.9356      1.5782      1.1323      1.1287      1.1793      1.3901      1.1892      1.4523      1.7514      2.0006      1.4378      1.8208      2.2264      1.2608      2.4073      1.0885      1.0209\n",
      "      1.2198      1.0603      1.8274      1.0917      2.3141      2.2863      1.2437      1.7125      2.0538      1.7719      1.8235      1.1705      1.1121      2.5011      1.2575      2.0017      1.7309       1.122      1.3957      1.2084      1.3968       1.126      1.5289      1.6809      2.3563      2.1188\n",
      "      2.5333      2.9756      1.0727      1.1737      1.3524      1.9345      1.3804      2.1848      1.6002      1.5821      1.5838      1.4434      1.1214      1.4434      1.4107        1.03      1.3385      1.0744       3.106      1.7913      3.1188      3.2114       2.561        1.04      2.3185      1.0729\n",
      "      1.9506      1.3701      1.8058      1.9994      1.0879      1.3935      1.1188      2.9911      1.4256      2.4007      1.1521      2.2114      2.3274      2.4151      2.4539      1.9062      1.8385      1.7603      2.5938      2.6021      1.1343      1.6887      2.1853      1.3041      2.1221      1.3063\n",
      "      2.0666       1.149      2.3696      1.2807      2.5083      3.0916      3.1548      1.3524      1.6199      1.2934      1.2669      2.3646      2.8074      2.6204      2.1582      1.0311      2.6254      2.9068      1.1828      2.7791       1.505       1.768      1.5694      1.4822      1.1875        1.97\n",
      "      1.1365      1.8213      1.8923      1.1149      2.3346      1.0867      2.1426      1.9656      1.9295      1.0265       1.192      2.1504      2.2497       2.071      1.8596      1.9778      2.0211       1.025      1.1387      1.3346      1.0377      1.5871      1.1287      1.5083      1.2098      1.5311\n",
      "      1.3219      1.3873      2.3069      1.6271      1.2697      1.1987      1.0253      2.1887      1.0459      2.7026      1.7897      1.9051      1.8418      2.3185      2.5266      2.3008      1.9434      1.5566      1.8907      1.7048      2.0294      2.1276      2.0228        1.97      1.7569      1.3092\n",
      "      2.6537       1.323      2.0477      1.9784       1.783      1.0444      1.7098      1.1576      2.6321      1.3896      1.6282      2.0194      1.2026       1.121      1.5949       1.328      1.7481      2.2386      2.5522      2.7891      1.6565      1.9512      1.9795      1.8735      1.1487      2.5677\n",
      "      1.1027      1.5444      2.3452      1.6903      1.4917      1.2791      1.6104       1.611      1.5105      1.1543       1.874      2.6276      1.0194      1.7708      1.3198      1.4145      1.3396      1.1355      1.6016      2.0377      1.6404      1.3346      1.0929      1.9745      1.1065      1.3789\n",
      "      2.2758      2.0522      1.4162      1.1964      2.2048      1.2974       2.182      2.0866      1.1837      1.0065      1.2642      2.8629      2.1088      2.0333      1.3751       1.596      1.9173       1.783      1.9395      1.4062      1.5916      1.1282       1.101      1.5316      1.3777      2.3618\n",
      "      1.5133      1.0914      1.9484      2.1898      2.6371       1.515      1.6903      1.6232      1.2299      1.0876       1.351      1.5183      3.0205      1.1998      2.9689       1.025      3.8085      1.0403      2.9489      1.8463      2.1687      1.2022      1.1743      1.1138       1.298      1.1414\n",
      "      1.7014      2.8518      2.0383      2.9156      2.4029      1.5305      1.8829      2.1593       1.167      1.6448      2.4251      2.7852      2.6865      1.1776      2.3158      1.1855       1.778      1.1393       1.783      1.4953      1.8596      3.1981       1.884      1.2819      1.9861      1.4473\n",
      "      1.0412      1.0155      1.0455      3.2719      1.1343       3.313      1.0955      1.0644       1.364      2.1326       2.429      2.9473      1.8263      1.2353      2.6371      2.5738      1.2166       1.343      1.0088      2.1582      1.2854      1.1909      1.6421       1.606      1.4906        1.46\n",
      "      1.7259      1.5816      1.5827      1.9378      1.2178      1.0816       1.091      1.2214      1.2497      1.4184      2.4168      1.5716      2.0738      1.0039      1.4778      1.6926      1.1343      1.0228      1.5733       1.879      2.1398      2.2764      1.1393      1.2309      1.1676      1.1775\n",
      "      1.9068      1.2386      1.6487      1.6731       1.194      2.1365      1.3851      2.2331      1.3551       1.338      2.1676      2.4506      1.7714      1.1132      1.4761      1.9445      2.0877      2.6299      2.2858      1.0714      3.1054      1.3657      1.8513      2.6121      1.5838      1.6704\n",
      "      2.2164      1.3477      2.5622      2.4883      1.3563      1.8757      1.1614      2.1243      1.0688      2.9229      2.5011      1.1467       1.273      1.7841      1.4486      2.7009      2.4784      1.0089      1.2852       1.126      1.1371      1.2436      1.5355      2.2858      2.2092      2.3518\n",
      "      1.1115      1.2081       2.035      1.2663      1.8135       1.428       2.071      1.4421      2.5333      1.2249      2.4051      1.4362      1.9456      2.1182      1.5971      2.1593      1.1661      1.2808      1.9872      3.0905      1.2031      3.1809      1.5347      1.7203      1.3452      2.1188\n",
      "      1.4762      1.7203      1.2407      1.3607      1.0816      2.1221       1.717      2.1876      2.0777      2.3307      1.1772      1.7408      1.0594      2.0827      1.8579      1.4195      2.2286      1.1898      1.5949       1.874      2.1637      1.5272      1.9279      2.5117      2.1676      2.5411\n",
      "      2.3535      1.1043      1.8579      1.4239      2.3196      1.4092      1.1809      1.3835      1.9412      1.1526       1.035      1.6437      2.1892      2.1892      1.8529       1.737      2.2625      2.5377      1.5078      1.2998      1.7653      1.8557      1.7286      1.6637      1.0553       1.369\n",
      "      2.2198      1.2175      1.6715      2.3302      2.2542      1.1858      2.8219      1.1543      1.2281      1.6787      1.7037      2.2592      1.9839      1.1065      1.3923      1.2264      1.0135      1.2386      2.8113      1.0944      2.2031      2.9562       1.263      1.1214      1.0255      1.8762\n",
      "      2.6992      2.5072       1.278       1.197        2.98      2.2858      2.2897      3.0044      1.2137      1.3535      1.2747      1.6093      1.1398      3.2458      1.0622      3.4201      1.2128      4.2902      1.5223      2.5094      1.6498      1.8319      1.2253      1.0594      2.0538      1.1502\n",
      "      1.1182      1.2114       1.924      2.2969      2.2253      2.7475      1.2653      1.0344       1.707      1.3257      1.8257       1.535      1.1176      3.0361      1.5544      1.0694       1.919      1.4573      1.0917      1.1487      1.3019      1.6842      1.3595      2.1826      1.3951      1.8091\n",
      "      3.0422       1.505      2.9778      1.1205      2.3346      1.3442      1.8824      1.5735      2.2003      1.0511      2.2198      1.1508       1.788      2.1115       1.162      1.3208      1.8912      2.4267      1.0165      2.8724      2.6926      1.1914      1.5383      2.4212      1.1321      1.1421\n",
      "      1.7186       1.439      1.1587      1.6693       1.626      2.7064       2.631      1.8829      1.8002      2.0344      1.9262      2.4784      1.1443      1.1754       1.333      1.8957       1.121      1.5305      1.6176      2.3629      1.5927      1.5644      1.0355      1.7997      1.6365      2.1138\n",
      "      1.7198      1.9101      1.3918       2.359      2.6382      2.9129      2.3957      2.3424      1.2231      1.0993      1.2469      1.1953      1.0168      2.1226      1.0755      2.7836      1.1564      1.6615       1.117      1.4345      1.0466       1.162       2.672      1.3319      1.5705      1.2913\n",
      "      1.5344      1.7997      1.0782      2.4317      2.8996      2.7386      1.1041       1.465      1.0855      1.4378      1.6831      1.1011      2.8196      1.1664      1.0821      3.4745      1.3098      2.2297      1.8923      1.4939      2.5333      1.3548      2.8252      2.2408      1.0117      1.1687\n",
      "      2.1876      2.4168      1.2248      1.1132       1.444        1.03      3.0688      3.0427      1.2093      1.6759      1.2603      1.8923      3.3324      2.9972      2.4029      1.3566      1.8363      1.5844      2.3951       1.572      2.8346      1.5194       1.071      1.1698      1.9156      1.2786\n",
      "      2.1215      1.6465      2.0594      1.8846      2.0855      1.0244      2.4567      2.9872       2.869      2.9983      1.4123      1.6915      1.6082      1.0477      1.0211]\n",
      "\u001b[34m\u001b[1mtrain: \u001b[0mWARNING ⚠️ /homes/jrgommers/year 3/Deel_D/dataset/images/train/9265.jpeg: 2 duplicate labels removed\n",
      "\u001b[34m\u001b[1mtrain: \u001b[0mWARNING ⚠️ /homes/jrgommers/year 3/Deel_D/dataset/images/train/9266.jpeg: 2 duplicate labels removed\n",
      "\u001b[34m\u001b[1mtrain: \u001b[0mWARNING ⚠️ /homes/jrgommers/year 3/Deel_D/dataset/images/train/9267.jpeg: 4 duplicate labels removed\n",
      "\u001b[34m\u001b[1mtrain: \u001b[0mWARNING ⚠️ /homes/jrgommers/year 3/Deel_D/dataset/images/train/9291.jpeg: 4 duplicate labels removed\n",
      "\u001b[34m\u001b[1mtrain: \u001b[0mWARNING ⚠️ /homes/jrgommers/year 3/Deel_D/dataset/images/train/9321.jpeg: 4 duplicate labels removed\n",
      "\u001b[34m\u001b[1mtrain: \u001b[0mWARNING ⚠️ /homes/jrgommers/year 3/Deel_D/dataset/images/train/9322.jpeg: 6 duplicate labels removed\n",
      "\u001b[34m\u001b[1mtrain: \u001b[0mWARNING ⚠️ /homes/jrgommers/year 3/Deel_D/dataset/images/train/9325.jpeg: 6 duplicate labels removed\n",
      "\u001b[34m\u001b[1mtrain: \u001b[0mWARNING ⚠️ /homes/jrgommers/year 3/Deel_D/dataset/images/train/9344.jpeg: 2 duplicate labels removed\n",
      "\u001b[34m\u001b[1mtrain: \u001b[0mWARNING ⚠️ /homes/jrgommers/year 3/Deel_D/dataset/images/train/9345.jpeg: 6 duplicate labels removed\n",
      "\u001b[34m\u001b[1mtrain: \u001b[0mWARNING ⚠️ /homes/jrgommers/year 3/Deel_D/dataset/images/train/9346.jpeg: 4 duplicate labels removed\n",
      "\u001b[34m\u001b[1mtrain: \u001b[0mWARNING ⚠️ /homes/jrgommers/year 3/Deel_D/dataset/images/train/9347.jpeg: 6 duplicate labels removed\n",
      "\u001b[34m\u001b[1mtrain: \u001b[0mWARNING ⚠️ /homes/jrgommers/year 3/Deel_D/dataset/images/train/9381.jpeg: 2 duplicate labels removed\n",
      "\u001b[34m\u001b[1mtrain: \u001b[0mWARNING ⚠️ /homes/jrgommers/year 3/Deel_D/dataset/images/train/9383.jpeg: 2 duplicate labels removed\n"
     ]
    },
    {
     "name": "stderr",
     "output_type": "stream",
     "text": [
      "\n",
      "\u001b[34m\u001b[1mval: \u001b[0mScanning /homes/jrgommers/year 3/Deel_D/dataset/labels/val.cache... 56 images, 0 backgrounds, 1 corrupt: 100%|██████████| 56/56 [00:00<?, ?it/s]"
     ]
    },
    {
     "name": "stdout",
     "output_type": "stream",
     "text": [
      "\u001b[34m\u001b[1mval: \u001b[0mWARNING ⚠️ /homes/jrgommers/year 3/Deel_D/dataset/images/val/10255.jpeg: 4 duplicate labels removed\n",
      "\u001b[34m\u001b[1mval: \u001b[0mWARNING ⚠️ /homes/jrgommers/year 3/Deel_D/dataset/images/val/10258.jpeg: 6 duplicate labels removed\n",
      "\u001b[34m\u001b[1mval: \u001b[0mWARNING ⚠️ /homes/jrgommers/year 3/Deel_D/dataset/images/val/10269.jpeg: 12 duplicate labels removed\n",
      "\u001b[34m\u001b[1mval: \u001b[0mWARNING ⚠️ /homes/jrgommers/year 3/Deel_D/dataset/images/val/10278.jpeg: 8 duplicate labels removed\n",
      "\u001b[34m\u001b[1mval: \u001b[0mWARNING ⚠️ /homes/jrgommers/year 3/Deel_D/dataset/images/val/10285.jpeg: 4 duplicate labels removed\n",
      "\u001b[34m\u001b[1mval: \u001b[0mWARNING ⚠️ /homes/jrgommers/year 3/Deel_D/dataset/images/val/10292.jpeg: 6 duplicate labels removed\n",
      "\u001b[34m\u001b[1mval: \u001b[0mWARNING ⚠️ /homes/jrgommers/year 3/Deel_D/dataset/images/val/10299.jpeg: 6 duplicate labels removed\n",
      "\u001b[34m\u001b[1mval: \u001b[0mWARNING ⚠️ /homes/jrgommers/year 3/Deel_D/dataset/images/val/10303.jpeg: 2 duplicate labels removed\n",
      "\u001b[34m\u001b[1mval: \u001b[0mWARNING ⚠️ /homes/jrgommers/year 3/Deel_D/dataset/images/val/10307.jpeg: 6 duplicate labels removed\n",
      "\u001b[34m\u001b[1mval: \u001b[0mWARNING ⚠️ /homes/jrgommers/year 3/Deel_D/dataset/images/val/12751.jpeg: 10 duplicate labels removed\n",
      "\u001b[34m\u001b[1mval: \u001b[0mWARNING ⚠️ /homes/jrgommers/year 3/Deel_D/dataset/images/val/12811.jpeg: 2 duplicate labels removed\n",
      "\u001b[34m\u001b[1mval: \u001b[0mWARNING ⚠️ /homes/jrgommers/year 3/Deel_D/dataset/images/val/12819.jpeg: 4 duplicate labels removed\n",
      "\u001b[34m\u001b[1mval: \u001b[0mWARNING ⚠️ /homes/jrgommers/year 3/Deel_D/dataset/images/val/12822.jpeg: 2 duplicate labels removed\n",
      "\u001b[34m\u001b[1mval: \u001b[0mWARNING ⚠️ /homes/jrgommers/year 3/Deel_D/dataset/images/val/12867.jpeg: 6 duplicate labels removed\n",
      "\u001b[34m\u001b[1mval: \u001b[0mWARNING ⚠️ /homes/jrgommers/year 3/Deel_D/dataset/images/val/12875.jpeg: 2 duplicate labels removed\n",
      "\u001b[34m\u001b[1mval: \u001b[0mWARNING ⚠️ /homes/jrgommers/year 3/Deel_D/dataset/images/val/12884.jpeg: 4 duplicate labels removed\n",
      "\u001b[34m\u001b[1mval: \u001b[0mWARNING ⚠️ /homes/jrgommers/year 3/Deel_D/dataset/images/val/12892.jpeg: 6 duplicate labels removed\n",
      "\u001b[34m\u001b[1mval: \u001b[0mWARNING ⚠️ /homes/jrgommers/year 3/Deel_D/dataset/images/val/12894.jpeg: 6 duplicate labels removed\n",
      "\u001b[34m\u001b[1mval: \u001b[0mWARNING ⚠️ /homes/jrgommers/year 3/Deel_D/dataset/images/val/12897.jpeg: 6 duplicate labels removed\n",
      "\u001b[34m\u001b[1mval: \u001b[0mWARNING ⚠️ /homes/jrgommers/year 3/Deel_D/dataset/images/val/12910.jpeg: 10 duplicate labels removed\n",
      "\u001b[34m\u001b[1mval: \u001b[0mWARNING ⚠️ /homes/jrgommers/year 3/Deel_D/dataset/images/val/12948.jpeg: 2 duplicate labels removed\n",
      "\u001b[34m\u001b[1mval: \u001b[0mWARNING ⚠️ /homes/jrgommers/year 3/Deel_D/dataset/images/val/13019.jpeg: 4 duplicate labels removed\n",
      "\u001b[34m\u001b[1mval: \u001b[0mWARNING ⚠️ /homes/jrgommers/year 3/Deel_D/dataset/images/val/13021.jpeg: 2 duplicate labels removed\n",
      "\u001b[34m\u001b[1mval: \u001b[0mWARNING ⚠️ /homes/jrgommers/year 3/Deel_D/dataset/images/val/13024.jpeg: 16 duplicate labels removed\n",
      "\u001b[34m\u001b[1mval: \u001b[0mWARNING ⚠️ /homes/jrgommers/year 3/Deel_D/dataset/images/val/13106.jpeg: 2 duplicate labels removed\n",
      "\u001b[34m\u001b[1mval: \u001b[0mWARNING ⚠️ /homes/jrgommers/year 3/Deel_D/dataset/images/val/13403.jpeg: 6 duplicate labels removed\n",
      "\u001b[34m\u001b[1mval: \u001b[0mWARNING ⚠️ /homes/jrgommers/year 3/Deel_D/dataset/images/val/13462.jpeg: 2 duplicate labels removed\n",
      "\u001b[34m\u001b[1mval: \u001b[0mWARNING ⚠️ /homes/jrgommers/year 3/Deel_D/dataset/images/val/13613.jpeg: 4 duplicate labels removed\n",
      "\u001b[34m\u001b[1mval: \u001b[0mWARNING ⚠️ /homes/jrgommers/year 3/Deel_D/dataset/images/val/13616.jpeg: 8 duplicate labels removed\n",
      "\u001b[34m\u001b[1mval: \u001b[0mWARNING ⚠️ /homes/jrgommers/year 3/Deel_D/dataset/images/val/13666.jpeg: 2 duplicate labels removed\n",
      "\u001b[34m\u001b[1mval: \u001b[0mWARNING ⚠️ /homes/jrgommers/year 3/Deel_D/dataset/images/val/13687.jpeg: 8 duplicate labels removed\n",
      "\u001b[34m\u001b[1mval: \u001b[0mWARNING ⚠️ /homes/jrgommers/year 3/Deel_D/dataset/images/val/14079.jpeg: 10 duplicate labels removed\n",
      "\u001b[34m\u001b[1mval: \u001b[0mWARNING ⚠️ /homes/jrgommers/year 3/Deel_D/dataset/images/val/14155.jpeg: 6 duplicate labels removed\n",
      "\u001b[34m\u001b[1mval: \u001b[0mWARNING ⚠️ /homes/jrgommers/year 3/Deel_D/dataset/images/val/14156.jpeg: 4 duplicate labels removed\n",
      "\u001b[34m\u001b[1mval: \u001b[0mWARNING ⚠️ /homes/jrgommers/year 3/Deel_D/dataset/images/val/14209.jpeg: 10 duplicate labels removed\n",
      "\u001b[34m\u001b[1mval: \u001b[0mWARNING ⚠️ /homes/jrgommers/year 3/Deel_D/dataset/images/val/15633.jpeg: 2 duplicate labels removed\n",
      "\u001b[34m\u001b[1mval: \u001b[0mWARNING ⚠️ /homes/jrgommers/year 3/Deel_D/dataset/images/val/8957.jpeg: 2 duplicate labels removed\n",
      "\u001b[34m\u001b[1mval: \u001b[0mWARNING ⚠️ /homes/jrgommers/year 3/Deel_D/dataset/images/val/8959.jpeg: 4 duplicate labels removed\n",
      "\u001b[34m\u001b[1mval: \u001b[0mWARNING ⚠️ /homes/jrgommers/year 3/Deel_D/dataset/images/val/8975.jpeg: ignoring corrupt image/label: non-normalized or out of bounds coordinates [     1.0198      1.0268      1.0735      1.0096      1.0166      1.0087]\n",
      "\u001b[34m\u001b[1mval: \u001b[0mWARNING ⚠️ /homes/jrgommers/year 3/Deel_D/dataset/images/val/9036.jpeg: 2 duplicate labels removed\n",
      "\u001b[34m\u001b[1mval: \u001b[0mWARNING ⚠️ /homes/jrgommers/year 3/Deel_D/dataset/images/val/9041.jpeg: 8 duplicate labels removed\n",
      "\u001b[34m\u001b[1mval: \u001b[0mWARNING ⚠️ /homes/jrgommers/year 3/Deel_D/dataset/images/val/9043.jpeg: 4 duplicate labels removed\n",
      "\u001b[34m\u001b[1mval: \u001b[0mWARNING ⚠️ /homes/jrgommers/year 3/Deel_D/dataset/images/val/9075.jpeg: 6 duplicate labels removed\n",
      "\u001b[34m\u001b[1mval: \u001b[0mWARNING ⚠️ /homes/jrgommers/year 3/Deel_D/dataset/images/val/9077.jpeg: 4 duplicate labels removed\n",
      "\u001b[34m\u001b[1mval: \u001b[0mWARNING ⚠️ /homes/jrgommers/year 3/Deel_D/dataset/images/val/9123.jpeg: 8 duplicate labels removed\n",
      "\u001b[34m\u001b[1mval: \u001b[0mWARNING ⚠️ /homes/jrgommers/year 3/Deel_D/dataset/images/val/9124.jpeg: 12 duplicate labels removed\n",
      "\u001b[34m\u001b[1mval: \u001b[0mWARNING ⚠️ /homes/jrgommers/year 3/Deel_D/dataset/images/val/9135.jpeg: 6 duplicate labels removed\n",
      "\u001b[34m\u001b[1mval: \u001b[0mWARNING ⚠️ /homes/jrgommers/year 3/Deel_D/dataset/images/val/9177.jpeg: 8 duplicate labels removed\n",
      "\u001b[34m\u001b[1mval: \u001b[0mWARNING ⚠️ /homes/jrgommers/year 3/Deel_D/dataset/images/val/9226.jpeg: 6 duplicate labels removed\n",
      "\u001b[34m\u001b[1mval: \u001b[0mWARNING ⚠️ /homes/jrgommers/year 3/Deel_D/dataset/images/val/9255.jpeg: 6 duplicate labels removed\n",
      "\u001b[34m\u001b[1mval: \u001b[0mWARNING ⚠️ /homes/jrgommers/year 3/Deel_D/dataset/images/val/9290.jpeg: 6 duplicate labels removed\n",
      "\u001b[34m\u001b[1mval: \u001b[0mWARNING ⚠️ /homes/jrgommers/year 3/Deel_D/dataset/images/val/9319.jpeg: 6 duplicate labels removed\n",
      "\u001b[34m\u001b[1mval: \u001b[0mWARNING ⚠️ /homes/jrgommers/year 3/Deel_D/dataset/images/val/9320.jpeg: 4 duplicate labels removed\n",
      "\u001b[34m\u001b[1mval: \u001b[0mWARNING ⚠️ /homes/jrgommers/year 3/Deel_D/dataset/images/val/9323.jpeg: 6 duplicate labels removed\n",
      "\u001b[34m\u001b[1mval: \u001b[0mWARNING ⚠️ /homes/jrgommers/year 3/Deel_D/dataset/images/val/9324.jpeg: 2 duplicate labels removed\n",
      "\u001b[34m\u001b[1mval: \u001b[0mWARNING ⚠️ /homes/jrgommers/year 3/Deel_D/dataset/images/val/9382.jpeg: 6 duplicate labels removed\n",
      "Plotting labels to runs/detect/train/labels.jpg... \n"
     ]
    },
    {
     "name": "stderr",
     "output_type": "stream",
     "text": [
      "\n"
     ]
    },
    {
     "name": "stdout",
     "output_type": "stream",
     "text": [
      "\u001b[34m\u001b[1moptimizer:\u001b[0m 'optimizer=auto' found, ignoring 'lr0=0.01' and 'momentum=0.937' and determining best 'optimizer', 'lr0' and 'momentum' automatically... \n",
      "\u001b[34m\u001b[1moptimizer:\u001b[0m AdamW(lr=0.002, momentum=0.9) with parameter groups 57 weight(decay=0.0), 64 weight(decay=0.0005), 63 bias(decay=0.0)\n",
      "\u001b[34m\u001b[1mTensorBoard: \u001b[0mmodel graph visualization added ✅\n",
      "Image sizes 640 train, 640 val\n",
      "Using 0 dataloader workers\n",
      "Logging results to \u001b[1mruns/detect/train\u001b[0m\n",
      "Starting training for 20 epochs...\n",
      "\n",
      "      Epoch    GPU_mem   box_loss   cls_loss   dfl_loss  Instances       Size\n"
     ]
    },
    {
     "name": "stderr",
     "output_type": "stream",
     "text": [
      "       1/20         0G      2.754       3.76       2.48         44        640: 100%|██████████| 14/14 [01:27<00:00,  6.23s/it]\n",
      "                 Class     Images  Instances      Box(P          R      mAP50  mAP50-95): 100%|██████████| 2/2 [00:08<00:00,  4.01s/it]"
     ]
    },
    {
     "name": "stdout",
     "output_type": "stream",
     "text": [
      "                   all         55        153    0.00491      0.529     0.0416     0.0121\n"
     ]
    },
    {
     "name": "stderr",
     "output_type": "stream",
     "text": [
      "\n"
     ]
    },
    {
     "name": "stdout",
     "output_type": "stream",
     "text": [
      "\n",
      "      Epoch    GPU_mem   box_loss   cls_loss   dfl_loss  Instances       Size\n"
     ]
    },
    {
     "name": "stderr",
     "output_type": "stream",
     "text": [
      "       2/20         0G      2.535      3.148      2.053         76        640: 100%|██████████| 14/14 [01:24<00:00,  6.00s/it]\n",
      "                 Class     Images  Instances      Box(P          R      mAP50  mAP50-95): 100%|██████████| 2/2 [00:07<00:00,  3.88s/it]"
     ]
    },
    {
     "name": "stdout",
     "output_type": "stream",
     "text": [
      "                   all         55        153    0.00582      0.627     0.0439     0.0129\n"
     ]
    },
    {
     "name": "stderr",
     "output_type": "stream",
     "text": [
      "\n"
     ]
    },
    {
     "name": "stdout",
     "output_type": "stream",
     "text": [
      "\n",
      "      Epoch    GPU_mem   box_loss   cls_loss   dfl_loss  Instances       Size\n"
     ]
    },
    {
     "name": "stderr",
     "output_type": "stream",
     "text": [
      "       3/20         0G      2.508      2.974      1.991         43        640: 100%|██████████| 14/14 [01:24<00:00,  6.02s/it]\n",
      "                 Class     Images  Instances      Box(P          R      mAP50  mAP50-95): 100%|██████████| 2/2 [00:08<00:00,  4.09s/it]"
     ]
    },
    {
     "name": "stdout",
     "output_type": "stream",
     "text": [
      "                   all         55        153     0.0057      0.614     0.0658      0.018\n"
     ]
    },
    {
     "name": "stderr",
     "output_type": "stream",
     "text": [
      "\n"
     ]
    },
    {
     "name": "stdout",
     "output_type": "stream",
     "text": [
      "\n",
      "      Epoch    GPU_mem   box_loss   cls_loss   dfl_loss  Instances       Size\n"
     ]
    },
    {
     "name": "stderr",
     "output_type": "stream",
     "text": [
      "       4/20         0G      2.447      2.966      2.057         56        640: 100%|██████████| 14/14 [01:20<00:00,  5.77s/it]\n",
      "                 Class     Images  Instances      Box(P          R      mAP50  mAP50-95): 100%|██████████| 2/2 [00:07<00:00,  3.95s/it]"
     ]
    },
    {
     "name": "stdout",
     "output_type": "stream",
     "text": [
      "                   all         55        153      0.197      0.111     0.0806     0.0244\n"
     ]
    },
    {
     "name": "stderr",
     "output_type": "stream",
     "text": [
      "\n"
     ]
    },
    {
     "name": "stdout",
     "output_type": "stream",
     "text": [
      "\n",
      "      Epoch    GPU_mem   box_loss   cls_loss   dfl_loss  Instances       Size\n"
     ]
    },
    {
     "name": "stderr",
     "output_type": "stream",
     "text": [
      "       5/20         0G      2.521       2.82      1.961         76        640: 100%|██████████| 14/14 [01:24<00:00,  6.06s/it]\n",
      "                 Class     Images  Instances      Box(P          R      mAP50  mAP50-95): 100%|██████████| 2/2 [00:08<00:00,  4.45s/it]"
     ]
    },
    {
     "name": "stdout",
     "output_type": "stream",
     "text": [
      "                   all         55        153      0.251      0.144      0.101     0.0299\n"
     ]
    },
    {
     "name": "stderr",
     "output_type": "stream",
     "text": [
      "\n"
     ]
    },
    {
     "name": "stdout",
     "output_type": "stream",
     "text": [
      "\n",
      "      Epoch    GPU_mem   box_loss   cls_loss   dfl_loss  Instances       Size\n"
     ]
    },
    {
     "name": "stderr",
     "output_type": "stream",
     "text": [
      "       6/20         0G      2.415      2.808      1.902         45        640: 100%|██████████| 14/14 [01:25<00:00,  6.08s/it]\n",
      "                 Class     Images  Instances      Box(P          R      mAP50  mAP50-95): 100%|██████████| 2/2 [00:07<00:00,  3.95s/it]"
     ]
    },
    {
     "name": "stdout",
     "output_type": "stream",
     "text": [
      "                   all         55        153      0.234      0.124     0.0916     0.0324\n"
     ]
    },
    {
     "name": "stderr",
     "output_type": "stream",
     "text": [
      "\n"
     ]
    },
    {
     "name": "stdout",
     "output_type": "stream",
     "text": [
      "\n",
      "      Epoch    GPU_mem   box_loss   cls_loss   dfl_loss  Instances       Size\n"
     ]
    },
    {
     "name": "stderr",
     "output_type": "stream",
     "text": [
      "       7/20         0G      2.383      2.736      1.906         67        640: 100%|██████████| 14/14 [01:24<00:00,  6.05s/it]\n",
      "                 Class     Images  Instances      Box(P          R      mAP50  mAP50-95): 100%|██████████| 2/2 [00:08<00:00,  4.01s/it]"
     ]
    },
    {
     "name": "stdout",
     "output_type": "stream",
     "text": [
      "                   all         55        153       0.19      0.111     0.0729     0.0181\n"
     ]
    },
    {
     "name": "stderr",
     "output_type": "stream",
     "text": [
      "\n"
     ]
    },
    {
     "name": "stdout",
     "output_type": "stream",
     "text": [
      "\n",
      "      Epoch    GPU_mem   box_loss   cls_loss   dfl_loss  Instances       Size\n"
     ]
    },
    {
     "name": "stderr",
     "output_type": "stream",
     "text": [
      "       8/20         0G       2.41      2.716      1.906         58        640: 100%|██████████| 14/14 [01:25<00:00,  6.11s/it]\n",
      "                 Class     Images  Instances      Box(P          R      mAP50  mAP50-95): 100%|██████████| 2/2 [00:12<00:00,  6.37s/it]"
     ]
    },
    {
     "name": "stdout",
     "output_type": "stream",
     "text": [
      "                   all         55        153      0.111      0.131     0.0563     0.0171\n"
     ]
    },
    {
     "name": "stderr",
     "output_type": "stream",
     "text": [
      "\n"
     ]
    },
    {
     "name": "stdout",
     "output_type": "stream",
     "text": [
      "\n",
      "      Epoch    GPU_mem   box_loss   cls_loss   dfl_loss  Instances       Size\n"
     ]
    },
    {
     "name": "stderr",
     "output_type": "stream",
     "text": [
      "       9/20         0G      2.332      2.635      1.873         66        640: 100%|██████████| 14/14 [01:31<00:00,  6.51s/it]\n",
      "                 Class     Images  Instances      Box(P          R      mAP50  mAP50-95): 100%|██████████| 2/2 [00:08<00:00,  4.11s/it]"
     ]
    },
    {
     "name": "stdout",
     "output_type": "stream",
     "text": [
      "                   all         55        153       0.17       0.15      0.087     0.0265\n"
     ]
    },
    {
     "name": "stderr",
     "output_type": "stream",
     "text": [
      "\n"
     ]
    },
    {
     "name": "stdout",
     "output_type": "stream",
     "text": [
      "\n",
      "      Epoch    GPU_mem   box_loss   cls_loss   dfl_loss  Instances       Size\n"
     ]
    },
    {
     "name": "stderr",
     "output_type": "stream",
     "text": [
      "      10/20         0G      2.325      2.604      1.873         39        640: 100%|██████████| 14/14 [01:26<00:00,  6.20s/it]\n",
      "                 Class     Images  Instances      Box(P          R      mAP50  mAP50-95): 100%|██████████| 2/2 [00:08<00:00,  4.24s/it]"
     ]
    },
    {
     "name": "stdout",
     "output_type": "stream",
     "text": [
      "                   all         55        153      0.235      0.203      0.131      0.042\n"
     ]
    },
    {
     "name": "stderr",
     "output_type": "stream",
     "text": [
      "\n"
     ]
    },
    {
     "name": "stdout",
     "output_type": "stream",
     "text": [
      "Closing dataloader mosaic\n",
      "\n",
      "      Epoch    GPU_mem   box_loss   cls_loss   dfl_loss  Instances       Size\n"
     ]
    },
    {
     "name": "stderr",
     "output_type": "stream",
     "text": [
      "      11/20         0G      2.409      2.828      1.909         28        640: 100%|██████████| 14/14 [01:26<00:00,  6.16s/it]\n",
      "                 Class     Images  Instances      Box(P          R      mAP50  mAP50-95): 100%|██████████| 2/2 [00:08<00:00,  4.07s/it]"
     ]
    },
    {
     "name": "stdout",
     "output_type": "stream",
     "text": [
      "                   all         55        153      0.239      0.248      0.176      0.065\n"
     ]
    },
    {
     "name": "stderr",
     "output_type": "stream",
     "text": [
      "\n"
     ]
    },
    {
     "name": "stdout",
     "output_type": "stream",
     "text": [
      "\n",
      "      Epoch    GPU_mem   box_loss   cls_loss   dfl_loss  Instances       Size\n"
     ]
    },
    {
     "name": "stderr",
     "output_type": "stream",
     "text": [
      "      12/20         0G      2.343      2.785      1.914         44        640: 100%|██████████| 14/14 [01:28<00:00,  6.32s/it]\n",
      "                 Class     Images  Instances      Box(P          R      mAP50  mAP50-95): 100%|██████████| 2/2 [00:08<00:00,  4.22s/it]"
     ]
    },
    {
     "name": "stdout",
     "output_type": "stream",
     "text": [
      "                   all         55        153      0.304      0.163      0.144     0.0512\n"
     ]
    },
    {
     "name": "stderr",
     "output_type": "stream",
     "text": [
      "\n"
     ]
    },
    {
     "name": "stdout",
     "output_type": "stream",
     "text": [
      "\n",
      "      Epoch    GPU_mem   box_loss   cls_loss   dfl_loss  Instances       Size\n"
     ]
    },
    {
     "name": "stderr",
     "output_type": "stream",
     "text": [
      "      13/20         0G      2.337      2.733      1.921         40        640: 100%|██████████| 14/14 [01:24<00:00,  6.04s/it]\n",
      "                 Class     Images  Instances      Box(P          R      mAP50  mAP50-95): 100%|██████████| 2/2 [00:07<00:00,  3.90s/it]"
     ]
    },
    {
     "name": "stdout",
     "output_type": "stream",
     "text": [
      "                   all         55        153      0.251      0.224       0.19     0.0633\n"
     ]
    },
    {
     "name": "stderr",
     "output_type": "stream",
     "text": [
      "\n"
     ]
    },
    {
     "name": "stdout",
     "output_type": "stream",
     "text": [
      "\n",
      "      Epoch    GPU_mem   box_loss   cls_loss   dfl_loss  Instances       Size\n"
     ]
    },
    {
     "name": "stderr",
     "output_type": "stream",
     "text": [
      "      14/20         0G      2.324      2.672       1.89         33        640: 100%|██████████| 14/14 [01:24<00:00,  6.04s/it]\n",
      "                 Class     Images  Instances      Box(P          R      mAP50  mAP50-95): 100%|██████████| 2/2 [00:07<00:00,  3.67s/it]"
     ]
    },
    {
     "name": "stdout",
     "output_type": "stream",
     "text": [
      "                   all         55        153      0.292      0.229      0.166     0.0558\n"
     ]
    },
    {
     "name": "stderr",
     "output_type": "stream",
     "text": [
      "\n"
     ]
    },
    {
     "name": "stdout",
     "output_type": "stream",
     "text": [
      "\n",
      "      Epoch    GPU_mem   box_loss   cls_loss   dfl_loss  Instances       Size\n"
     ]
    },
    {
     "name": "stderr",
     "output_type": "stream",
     "text": [
      "      15/20         0G      2.291      2.619      1.863         27        640: 100%|██████████| 14/14 [01:25<00:00,  6.11s/it]\n",
      "                 Class     Images  Instances      Box(P          R      mAP50  mAP50-95): 100%|██████████| 2/2 [00:07<00:00,  3.75s/it]"
     ]
    },
    {
     "name": "stdout",
     "output_type": "stream",
     "text": [
      "                   all         55        153      0.367      0.235      0.178     0.0638\n"
     ]
    },
    {
     "name": "stderr",
     "output_type": "stream",
     "text": [
      "\n"
     ]
    },
    {
     "name": "stdout",
     "output_type": "stream",
     "text": [
      "\n",
      "      Epoch    GPU_mem   box_loss   cls_loss   dfl_loss  Instances       Size\n"
     ]
    },
    {
     "name": "stderr",
     "output_type": "stream",
     "text": [
      "      16/20         0G      2.293        2.6      1.857         28        640: 100%|██████████| 14/14 [01:27<00:00,  6.24s/it]\n",
      "                 Class     Images  Instances      Box(P          R      mAP50  mAP50-95): 100%|██████████| 2/2 [00:08<00:00,  4.21s/it]"
     ]
    },
    {
     "name": "stdout",
     "output_type": "stream",
     "text": [
      "                   all         55        153      0.265      0.261      0.184     0.0674\n"
     ]
    },
    {
     "name": "stderr",
     "output_type": "stream",
     "text": [
      "\n"
     ]
    },
    {
     "name": "stdout",
     "output_type": "stream",
     "text": [
      "\n",
      "      Epoch    GPU_mem   box_loss   cls_loss   dfl_loss  Instances       Size\n"
     ]
    },
    {
     "name": "stderr",
     "output_type": "stream",
     "text": [
      "      17/20         0G      2.242      2.585      1.848         36        640: 100%|██████████| 14/14 [01:27<00:00,  6.22s/it]\n",
      "                 Class     Images  Instances      Box(P          R      mAP50  mAP50-95): 100%|██████████| 2/2 [00:08<00:00,  4.18s/it]"
     ]
    },
    {
     "name": "stdout",
     "output_type": "stream",
     "text": [
      "                   all         55        153      0.317      0.294      0.229     0.0808\n"
     ]
    },
    {
     "name": "stderr",
     "output_type": "stream",
     "text": [
      "\n"
     ]
    },
    {
     "name": "stdout",
     "output_type": "stream",
     "text": [
      "\n",
      "      Epoch    GPU_mem   box_loss   cls_loss   dfl_loss  Instances       Size\n"
     ]
    },
    {
     "name": "stderr",
     "output_type": "stream",
     "text": [
      "      18/20         0G      2.234       2.56      1.865         33        640: 100%|██████████| 14/14 [01:27<00:00,  6.23s/it]\n",
      "                 Class     Images  Instances      Box(P          R      mAP50  mAP50-95): 100%|██████████| 2/2 [00:08<00:00,  4.12s/it]"
     ]
    },
    {
     "name": "stdout",
     "output_type": "stream",
     "text": [
      "                   all         55        153      0.363      0.346      0.259     0.0976\n"
     ]
    },
    {
     "name": "stderr",
     "output_type": "stream",
     "text": [
      "\n"
     ]
    },
    {
     "name": "stdout",
     "output_type": "stream",
     "text": [
      "\n",
      "      Epoch    GPU_mem   box_loss   cls_loss   dfl_loss  Instances       Size\n"
     ]
    },
    {
     "name": "stderr",
     "output_type": "stream",
     "text": [
      "      19/20         0G      2.148       2.52      1.817         35        640: 100%|██████████| 14/14 [01:29<00:00,  6.41s/it]\n",
      "                 Class     Images  Instances      Box(P          R      mAP50  mAP50-95): 100%|██████████| 2/2 [00:07<00:00,  3.93s/it]"
     ]
    },
    {
     "name": "stdout",
     "output_type": "stream",
     "text": [
      "                   all         55        153      0.361      0.281      0.263      0.101\n"
     ]
    },
    {
     "name": "stderr",
     "output_type": "stream",
     "text": [
      "\n"
     ]
    },
    {
     "name": "stdout",
     "output_type": "stream",
     "text": [
      "\n",
      "      Epoch    GPU_mem   box_loss   cls_loss   dfl_loss  Instances       Size\n"
     ]
    },
    {
     "name": "stderr",
     "output_type": "stream",
     "text": [
      "      20/20         0G      2.188      2.479      1.801         26        640: 100%|██████████| 14/14 [01:24<00:00,  6.04s/it]\n",
      "                 Class     Images  Instances      Box(P          R      mAP50  mAP50-95): 100%|██████████| 2/2 [00:07<00:00,  3.95s/it]"
     ]
    },
    {
     "name": "stdout",
     "output_type": "stream",
     "text": [
      "                   all         55        153      0.386      0.301      0.267     0.0998\n"
     ]
    },
    {
     "name": "stderr",
     "output_type": "stream",
     "text": [
      "\n"
     ]
    },
    {
     "name": "stdout",
     "output_type": "stream",
     "text": [
      "\n",
      "20 epochs completed in 0.529 hours.\n",
      "Optimizer stripped from runs/detect/train/weights/last.pt, 6.2MB\n",
      "Optimizer stripped from runs/detect/train/weights/best.pt, 6.2MB\n",
      "\n",
      "Validating runs/detect/train/weights/best.pt...\n",
      "Ultralytics 8.3.51 🚀 Python-3.11.2 torch-2.5.1+cu124 CPU (11th Gen Intel Core(TM) i3-1115G4 3.00GHz)\n",
      "Model summary (fused): 168 layers, 3,005,843 parameters, 0 gradients, 8.1 GFLOPs\n"
     ]
    },
    {
     "name": "stderr",
     "output_type": "stream",
     "text": [
      "                 Class     Images  Instances      Box(P          R      mAP50  mAP50-95): 100%|██████████| 2/2 [00:06<00:00,  3.41s/it]\n"
     ]
    },
    {
     "name": "stdout",
     "output_type": "stream",
     "text": [
      "                   all         55        153      0.361      0.281      0.263      0.101\n",
      "Speed: 1.4ms preprocess, 96.2ms inference, 0.0ms loss, 2.0ms postprocess per image\n",
      "Results saved to \u001b[1mruns/detect/train\u001b[0m\n"
     ]
    },
    {
     "data": {
      "text/plain": [
       "ultralytics.utils.metrics.DetMetrics object with attributes:\n",
       "\n",
       "ap_class_index: array([0])\n",
       "box: ultralytics.utils.metrics.Metric object\n",
       "confusion_matrix: <ultralytics.utils.metrics.ConfusionMatrix object at 0x7fe85d9eb950>\n",
       "curves: ['Precision-Recall(B)', 'F1-Confidence(B)', 'Precision-Confidence(B)', 'Recall-Confidence(B)']\n",
       "curves_results: [[array([          0,    0.001001,    0.002002,    0.003003,    0.004004,    0.005005,    0.006006,    0.007007,    0.008008,    0.009009,     0.01001,    0.011011,    0.012012,    0.013013,    0.014014,    0.015015,    0.016016,    0.017017,    0.018018,    0.019019,     0.02002,    0.021021,    0.022022,    0.023023,\n",
       "          0.024024,    0.025025,    0.026026,    0.027027,    0.028028,    0.029029,     0.03003,    0.031031,    0.032032,    0.033033,    0.034034,    0.035035,    0.036036,    0.037037,    0.038038,    0.039039,     0.04004,    0.041041,    0.042042,    0.043043,    0.044044,    0.045045,    0.046046,    0.047047,\n",
       "          0.048048,    0.049049,     0.05005,    0.051051,    0.052052,    0.053053,    0.054054,    0.055055,    0.056056,    0.057057,    0.058058,    0.059059,     0.06006,    0.061061,    0.062062,    0.063063,    0.064064,    0.065065,    0.066066,    0.067067,    0.068068,    0.069069,     0.07007,    0.071071,\n",
       "          0.072072,    0.073073,    0.074074,    0.075075,    0.076076,    0.077077,    0.078078,    0.079079,     0.08008,    0.081081,    0.082082,    0.083083,    0.084084,    0.085085,    0.086086,    0.087087,    0.088088,    0.089089,     0.09009,    0.091091,    0.092092,    0.093093,    0.094094,    0.095095,\n",
       "          0.096096,    0.097097,    0.098098,    0.099099,      0.1001,      0.1011,      0.1021,      0.1031,      0.1041,     0.10511,     0.10611,     0.10711,     0.10811,     0.10911,     0.11011,     0.11111,     0.11211,     0.11311,     0.11411,     0.11512,     0.11612,     0.11712,     0.11812,     0.11912,\n",
       "           0.12012,     0.12112,     0.12212,     0.12312,     0.12412,     0.12513,     0.12613,     0.12713,     0.12813,     0.12913,     0.13013,     0.13113,     0.13213,     0.13313,     0.13413,     0.13514,     0.13614,     0.13714,     0.13814,     0.13914,     0.14014,     0.14114,     0.14214,     0.14314,\n",
       "           0.14414,     0.14515,     0.14615,     0.14715,     0.14815,     0.14915,     0.15015,     0.15115,     0.15215,     0.15315,     0.15415,     0.15516,     0.15616,     0.15716,     0.15816,     0.15916,     0.16016,     0.16116,     0.16216,     0.16316,     0.16416,     0.16517,     0.16617,     0.16717,\n",
       "           0.16817,     0.16917,     0.17017,     0.17117,     0.17217,     0.17317,     0.17417,     0.17518,     0.17618,     0.17718,     0.17818,     0.17918,     0.18018,     0.18118,     0.18218,     0.18318,     0.18418,     0.18519,     0.18619,     0.18719,     0.18819,     0.18919,     0.19019,     0.19119,\n",
       "           0.19219,     0.19319,     0.19419,      0.1952,      0.1962,      0.1972,      0.1982,      0.1992,      0.2002,      0.2012,      0.2022,      0.2032,      0.2042,     0.20521,     0.20621,     0.20721,     0.20821,     0.20921,     0.21021,     0.21121,     0.21221,     0.21321,     0.21421,     0.21522,\n",
       "           0.21622,     0.21722,     0.21822,     0.21922,     0.22022,     0.22122,     0.22222,     0.22322,     0.22422,     0.22523,     0.22623,     0.22723,     0.22823,     0.22923,     0.23023,     0.23123,     0.23223,     0.23323,     0.23423,     0.23524,     0.23624,     0.23724,     0.23824,     0.23924,\n",
       "           0.24024,     0.24124,     0.24224,     0.24324,     0.24424,     0.24525,     0.24625,     0.24725,     0.24825,     0.24925,     0.25025,     0.25125,     0.25225,     0.25325,     0.25425,     0.25526,     0.25626,     0.25726,     0.25826,     0.25926,     0.26026,     0.26126,     0.26226,     0.26326,\n",
       "           0.26426,     0.26527,     0.26627,     0.26727,     0.26827,     0.26927,     0.27027,     0.27127,     0.27227,     0.27327,     0.27427,     0.27528,     0.27628,     0.27728,     0.27828,     0.27928,     0.28028,     0.28128,     0.28228,     0.28328,     0.28428,     0.28529,     0.28629,     0.28729,\n",
       "           0.28829,     0.28929,     0.29029,     0.29129,     0.29229,     0.29329,     0.29429,      0.2953,      0.2963,      0.2973,      0.2983,      0.2993,      0.3003,      0.3013,      0.3023,      0.3033,      0.3043,     0.30531,     0.30631,     0.30731,     0.30831,     0.30931,     0.31031,     0.31131,\n",
       "           0.31231,     0.31331,     0.31431,     0.31532,     0.31632,     0.31732,     0.31832,     0.31932,     0.32032,     0.32132,     0.32232,     0.32332,     0.32432,     0.32533,     0.32633,     0.32733,     0.32833,     0.32933,     0.33033,     0.33133,     0.33233,     0.33333,     0.33433,     0.33534,\n",
       "           0.33634,     0.33734,     0.33834,     0.33934,     0.34034,     0.34134,     0.34234,     0.34334,     0.34434,     0.34535,     0.34635,     0.34735,     0.34835,     0.34935,     0.35035,     0.35135,     0.35235,     0.35335,     0.35435,     0.35536,     0.35636,     0.35736,     0.35836,     0.35936,\n",
       "           0.36036,     0.36136,     0.36236,     0.36336,     0.36436,     0.36537,     0.36637,     0.36737,     0.36837,     0.36937,     0.37037,     0.37137,     0.37237,     0.37337,     0.37437,     0.37538,     0.37638,     0.37738,     0.37838,     0.37938,     0.38038,     0.38138,     0.38238,     0.38338,\n",
       "           0.38438,     0.38539,     0.38639,     0.38739,     0.38839,     0.38939,     0.39039,     0.39139,     0.39239,     0.39339,     0.39439,      0.3954,      0.3964,      0.3974,      0.3984,      0.3994,      0.4004,      0.4014,      0.4024,      0.4034,      0.4044,     0.40541,     0.40641,     0.40741,\n",
       "           0.40841,     0.40941,     0.41041,     0.41141,     0.41241,     0.41341,     0.41441,     0.41542,     0.41642,     0.41742,     0.41842,     0.41942,     0.42042,     0.42142,     0.42242,     0.42342,     0.42442,     0.42543,     0.42643,     0.42743,     0.42843,     0.42943,     0.43043,     0.43143,\n",
       "           0.43243,     0.43343,     0.43443,     0.43544,     0.43644,     0.43744,     0.43844,     0.43944,     0.44044,     0.44144,     0.44244,     0.44344,     0.44444,     0.44545,     0.44645,     0.44745,     0.44845,     0.44945,     0.45045,     0.45145,     0.45245,     0.45345,     0.45445,     0.45546,\n",
       "           0.45646,     0.45746,     0.45846,     0.45946,     0.46046,     0.46146,     0.46246,     0.46346,     0.46446,     0.46547,     0.46647,     0.46747,     0.46847,     0.46947,     0.47047,     0.47147,     0.47247,     0.47347,     0.47447,     0.47548,     0.47648,     0.47748,     0.47848,     0.47948,\n",
       "           0.48048,     0.48148,     0.48248,     0.48348,     0.48448,     0.48549,     0.48649,     0.48749,     0.48849,     0.48949,     0.49049,     0.49149,     0.49249,     0.49349,     0.49449,      0.4955,      0.4965,      0.4975,      0.4985,      0.4995,      0.5005,      0.5015,      0.5025,      0.5035,\n",
       "            0.5045,     0.50551,     0.50651,     0.50751,     0.50851,     0.50951,     0.51051,     0.51151,     0.51251,     0.51351,     0.51451,     0.51552,     0.51652,     0.51752,     0.51852,     0.51952,     0.52052,     0.52152,     0.52252,     0.52352,     0.52452,     0.52553,     0.52653,     0.52753,\n",
       "           0.52853,     0.52953,     0.53053,     0.53153,     0.53253,     0.53353,     0.53453,     0.53554,     0.53654,     0.53754,     0.53854,     0.53954,     0.54054,     0.54154,     0.54254,     0.54354,     0.54454,     0.54555,     0.54655,     0.54755,     0.54855,     0.54955,     0.55055,     0.55155,\n",
       "           0.55255,     0.55355,     0.55455,     0.55556,     0.55656,     0.55756,     0.55856,     0.55956,     0.56056,     0.56156,     0.56256,     0.56356,     0.56456,     0.56557,     0.56657,     0.56757,     0.56857,     0.56957,     0.57057,     0.57157,     0.57257,     0.57357,     0.57457,     0.57558,\n",
       "           0.57658,     0.57758,     0.57858,     0.57958,     0.58058,     0.58158,     0.58258,     0.58358,     0.58458,     0.58559,     0.58659,     0.58759,     0.58859,     0.58959,     0.59059,     0.59159,     0.59259,     0.59359,     0.59459,      0.5956,      0.5966,      0.5976,      0.5986,      0.5996,\n",
       "            0.6006,      0.6016,      0.6026,      0.6036,      0.6046,     0.60561,     0.60661,     0.60761,     0.60861,     0.60961,     0.61061,     0.61161,     0.61261,     0.61361,     0.61461,     0.61562,     0.61662,     0.61762,     0.61862,     0.61962,     0.62062,     0.62162,     0.62262,     0.62362,\n",
       "           0.62462,     0.62563,     0.62663,     0.62763,     0.62863,     0.62963,     0.63063,     0.63163,     0.63263,     0.63363,     0.63463,     0.63564,     0.63664,     0.63764,     0.63864,     0.63964,     0.64064,     0.64164,     0.64264,     0.64364,     0.64464,     0.64565,     0.64665,     0.64765,\n",
       "           0.64865,     0.64965,     0.65065,     0.65165,     0.65265,     0.65365,     0.65465,     0.65566,     0.65666,     0.65766,     0.65866,     0.65966,     0.66066,     0.66166,     0.66266,     0.66366,     0.66466,     0.66567,     0.66667,     0.66767,     0.66867,     0.66967,     0.67067,     0.67167,\n",
       "           0.67267,     0.67367,     0.67467,     0.67568,     0.67668,     0.67768,     0.67868,     0.67968,     0.68068,     0.68168,     0.68268,     0.68368,     0.68468,     0.68569,     0.68669,     0.68769,     0.68869,     0.68969,     0.69069,     0.69169,     0.69269,     0.69369,     0.69469,      0.6957,\n",
       "            0.6967,      0.6977,      0.6987,      0.6997,      0.7007,      0.7017,      0.7027,      0.7037,      0.7047,     0.70571,     0.70671,     0.70771,     0.70871,     0.70971,     0.71071,     0.71171,     0.71271,     0.71371,     0.71471,     0.71572,     0.71672,     0.71772,     0.71872,     0.71972,\n",
       "           0.72072,     0.72172,     0.72272,     0.72372,     0.72472,     0.72573,     0.72673,     0.72773,     0.72873,     0.72973,     0.73073,     0.73173,     0.73273,     0.73373,     0.73473,     0.73574,     0.73674,     0.73774,     0.73874,     0.73974,     0.74074,     0.74174,     0.74274,     0.74374,\n",
       "           0.74474,     0.74575,     0.74675,     0.74775,     0.74875,     0.74975,     0.75075,     0.75175,     0.75275,     0.75375,     0.75475,     0.75576,     0.75676,     0.75776,     0.75876,     0.75976,     0.76076,     0.76176,     0.76276,     0.76376,     0.76476,     0.76577,     0.76677,     0.76777,\n",
       "           0.76877,     0.76977,     0.77077,     0.77177,     0.77277,     0.77377,     0.77477,     0.77578,     0.77678,     0.77778,     0.77878,     0.77978,     0.78078,     0.78178,     0.78278,     0.78378,     0.78478,     0.78579,     0.78679,     0.78779,     0.78879,     0.78979,     0.79079,     0.79179,\n",
       "           0.79279,     0.79379,     0.79479,      0.7958,      0.7968,      0.7978,      0.7988,      0.7998,      0.8008,      0.8018,      0.8028,      0.8038,      0.8048,     0.80581,     0.80681,     0.80781,     0.80881,     0.80981,     0.81081,     0.81181,     0.81281,     0.81381,     0.81481,     0.81582,\n",
       "           0.81682,     0.81782,     0.81882,     0.81982,     0.82082,     0.82182,     0.82282,     0.82382,     0.82482,     0.82583,     0.82683,     0.82783,     0.82883,     0.82983,     0.83083,     0.83183,     0.83283,     0.83383,     0.83483,     0.83584,     0.83684,     0.83784,     0.83884,     0.83984,\n",
       "           0.84084,     0.84184,     0.84284,     0.84384,     0.84484,     0.84585,     0.84685,     0.84785,     0.84885,     0.84985,     0.85085,     0.85185,     0.85285,     0.85385,     0.85485,     0.85586,     0.85686,     0.85786,     0.85886,     0.85986,     0.86086,     0.86186,     0.86286,     0.86386,\n",
       "           0.86486,     0.86587,     0.86687,     0.86787,     0.86887,     0.86987,     0.87087,     0.87187,     0.87287,     0.87387,     0.87487,     0.87588,     0.87688,     0.87788,     0.87888,     0.87988,     0.88088,     0.88188,     0.88288,     0.88388,     0.88488,     0.88589,     0.88689,     0.88789,\n",
       "           0.88889,     0.88989,     0.89089,     0.89189,     0.89289,     0.89389,     0.89489,      0.8959,      0.8969,      0.8979,      0.8989,      0.8999,      0.9009,      0.9019,      0.9029,      0.9039,      0.9049,     0.90591,     0.90691,     0.90791,     0.90891,     0.90991,     0.91091,     0.91191,\n",
       "           0.91291,     0.91391,     0.91491,     0.91592,     0.91692,     0.91792,     0.91892,     0.91992,     0.92092,     0.92192,     0.92292,     0.92392,     0.92492,     0.92593,     0.92693,     0.92793,     0.92893,     0.92993,     0.93093,     0.93193,     0.93293,     0.93393,     0.93493,     0.93594,\n",
       "           0.93694,     0.93794,     0.93894,     0.93994,     0.94094,     0.94194,     0.94294,     0.94394,     0.94494,     0.94595,     0.94695,     0.94795,     0.94895,     0.94995,     0.95095,     0.95195,     0.95295,     0.95395,     0.95495,     0.95596,     0.95696,     0.95796,     0.95896,     0.95996,\n",
       "           0.96096,     0.96196,     0.96296,     0.96396,     0.96496,     0.96597,     0.96697,     0.96797,     0.96897,     0.96997,     0.97097,     0.97197,     0.97297,     0.97397,     0.97497,     0.97598,     0.97698,     0.97798,     0.97898,     0.97998,     0.98098,     0.98198,     0.98298,     0.98398,\n",
       "           0.98498,     0.98599,     0.98699,     0.98799,     0.98899,     0.98999,     0.99099,     0.99199,     0.99299,     0.99399,     0.99499,       0.996,       0.997,       0.998,       0.999,           1]), array([[          1,           1,           1,           1,           1,           1,           1,           1,           1,           1,           1,           1,           1,           1,           1,           1,           1,           1,           1,           1,           1,           1,           1,\n",
       "                  1,           1,           1,           1,           1,           1,           1,           1,           1,           1,           1,           1,           1,           1,           1,           1,           1,           1,           1,           1,           1,           1,           1,\n",
       "                  1,           1,           1,           1,           1,           1,           1,           1,           1,           1,           1,           1,           1,           1,           1,           1,           1,           1,           1,           1,     0.93333,     0.93333,     0.93333,\n",
       "            0.93333,     0.93333,     0.93333,     0.93333,     0.93333,     0.93333,     0.93333,     0.93333,     0.93333,     0.93333,     0.93333,     0.93333,     0.93333,     0.93333,     0.93333,     0.93333,     0.93333,     0.93333,     0.93333,     0.93333,     0.93333,     0.93333,     0.93333,\n",
       "            0.88235,     0.88235,     0.88235,     0.88235,     0.88235,     0.88235,     0.78261,     0.78261,     0.78261,     0.78261,     0.78261,     0.78261,     0.78261,     0.78261,     0.78261,     0.78261,     0.78261,     0.78261,     0.78261,     0.78261,     0.78261,     0.78261,     0.78261,\n",
       "            0.78261,     0.78261,     0.78261,      0.7037,      0.7037,      0.7037,      0.7037,      0.7037,      0.7037,      0.7037,     0.68966,     0.68966,     0.68966,     0.68966,     0.68966,     0.68966,     0.65625,     0.65625,     0.65625,     0.65625,     0.65625,     0.65625,     0.65625,\n",
       "            0.56522,     0.56522,     0.56522,     0.56522,     0.56522,     0.56522,     0.56522,     0.56522,     0.56522,     0.56522,     0.56522,     0.56522,     0.56522,     0.56522,     0.56522,     0.56522,     0.56522,     0.56522,     0.56522,     0.56522,     0.56522,     0.56522,     0.56522,\n",
       "            0.56522,     0.56522,     0.56522,     0.56522,     0.56522,     0.56522,     0.56522,     0.56522,     0.56522,     0.52941,     0.52941,     0.52941,     0.52941,     0.52941,     0.52941,     0.52941,         0.5,         0.5,         0.5,         0.5,         0.5,         0.5,     0.47297,\n",
       "            0.47297,     0.47297,     0.47297,     0.47297,     0.47297,     0.47297,     0.47297,     0.47297,     0.47297,     0.47297,     0.47297,     0.47297,     0.47297,     0.47297,     0.47297,     0.47297,     0.47297,     0.47297,     0.47297,     0.47297,     0.47297,     0.47297,     0.47297,\n",
       "            0.47297,     0.47297,     0.47297,     0.47297,     0.47297,     0.47297,     0.47297,     0.47297,     0.47297,     0.47297,     0.47297,     0.47297,     0.47297,     0.47297,     0.47297,     0.47297,     0.47297,     0.47297,     0.47297,     0.47297,     0.47297,     0.47297,     0.46753,\n",
       "            0.46753,     0.46753,     0.46753,     0.46753,     0.46753,     0.46753,     0.44578,     0.44578,     0.44578,     0.44578,     0.44578,     0.44578,     0.41758,     0.41758,     0.41758,     0.41758,     0.41758,     0.41758,     0.41758,     0.41489,     0.41489,     0.41489,     0.41489,\n",
       "            0.41489,     0.41489,        0.41,        0.41,        0.41,        0.41,        0.41,        0.41,        0.41,        0.41,        0.41,        0.41,        0.41,        0.41,        0.41,     0.39252,     0.39252,     0.39252,     0.39252,     0.39252,     0.39252,     0.39252,     0.39091,\n",
       "            0.39091,     0.39091,     0.39091,     0.39091,     0.39091,     0.35878,     0.35878,     0.35878,     0.35878,     0.35878,     0.35878,     0.35878,     0.35878,     0.35878,     0.35878,     0.35878,     0.35878,     0.35878,     0.35878,     0.35878,     0.35878,     0.35878,     0.35878,\n",
       "            0.35878,     0.35878,     0.35878,     0.35878,     0.35878,     0.35878,     0.35878,     0.35878,     0.35556,     0.35556,     0.35556,     0.35556,     0.35556,     0.35556,     0.35556,     0.35252,     0.35252,     0.35252,     0.35252,     0.35252,     0.35252,     0.34965,     0.34965,\n",
       "            0.34965,     0.34965,     0.34965,     0.34965,     0.34965,     0.34591,     0.34591,     0.34591,     0.34591,     0.34591,     0.34591,     0.34591,     0.34591,     0.34591,     0.34591,     0.34591,     0.34591,     0.34591,     0.34591,     0.34591,     0.34591,     0.34591,     0.34591,\n",
       "            0.34591,     0.34591,     0.34591,     0.34591,     0.34591,     0.34591,     0.34591,     0.34591,     0.34591,     0.34591,     0.34591,     0.34591,     0.34591,     0.34591,     0.34591,     0.29016,     0.29016,     0.29016,     0.29016,     0.29016,     0.29016,     0.27315,     0.27315,\n",
       "            0.27315,     0.27315,     0.27315,     0.27315,     0.27315,     0.27315,     0.27315,     0.27315,     0.27315,     0.27315,     0.27315,     0.27315,     0.27315,     0.27315,     0.27315,     0.27315,     0.27315,     0.27315,     0.26786,     0.26786,     0.26786,     0.26786,     0.26786,\n",
       "            0.26786,        0.25,        0.25,        0.25,        0.25,        0.25,        0.25,        0.25,        0.25,        0.25,        0.25,        0.25,        0.25,        0.25,     0.24706,     0.24706,     0.24706,     0.24706,     0.24706,     0.24706,     0.24706,     0.22968,     0.22968,\n",
       "            0.22968,     0.22968,     0.22968,     0.22968,     0.22968,     0.22968,     0.22968,     0.22968,     0.22968,     0.22968,     0.22968,     0.21927,     0.21927,     0.21927,     0.21927,     0.21927,     0.21927,     0.20552,     0.20552,     0.20552,     0.20552,     0.20552,     0.20552,\n",
       "            0.20552,     0.20544,     0.20544,     0.20544,     0.20544,     0.20544,     0.20544,     0.17647,     0.17647,     0.17647,     0.17647,     0.17647,     0.17647,     0.17647,       0.175,       0.175,       0.175,       0.175,       0.175,       0.175,       0.175,     0.17445,     0.17445,\n",
       "            0.17445,     0.17445,     0.17445,     0.17445,     0.17433,     0.17433,     0.17433,     0.17433,     0.17433,     0.17433,     0.17433,     0.17258,     0.17258,     0.17258,     0.17258,     0.17258,     0.17258,     0.13755,     0.13755,     0.13755,     0.13755,     0.13755,     0.13755,\n",
       "            0.13755,     0.11485,     0.11485,     0.11485,     0.11485,     0.11485,     0.11485,     0.10842,     0.10842,     0.10842,     0.10842,     0.10842,     0.10842,     0.10842,     0.10769,     0.10769,     0.10769,     0.10769,     0.10769,     0.10769,    0.096535,    0.096535,    0.096535,\n",
       "           0.096535,    0.096535,    0.096535,    0.096535,    0.094787,    0.094787,    0.094787,    0.094787,    0.094787,    0.094787,    0.094787,    0.094787,    0.094787,    0.094787,    0.094787,    0.094787,    0.094787,    0.091525,    0.091525,    0.091525,    0.091525,    0.091525,    0.091525,\n",
       "           0.088172,    0.088172,    0.088172,    0.088172,    0.088172,    0.088172,    0.088172,    0.086189,    0.086189,    0.086189,    0.086189,    0.086189,    0.086189,    0.070352,    0.070352,    0.070352,    0.070352,    0.070352,    0.070352,    0.070352,    0.069844,    0.069844,    0.069844,\n",
       "           0.069844,    0.069844,    0.069844,    0.067663,    0.067663,    0.067663,    0.067663,    0.067663,    0.067663,    0.067663,    0.057961,    0.057961,    0.057961,    0.057961,    0.057961,    0.057961,    0.057961,    0.057743,    0.057743,    0.057743,    0.057743,    0.057743,    0.057743,\n",
       "           0.056568,    0.056568,    0.056568,    0.056568,    0.056568,    0.056568,    0.056568,    0.056568,    0.056568,    0.056568,    0.056568,    0.056568,    0.056568,    0.055085,    0.055085,    0.055085,    0.055085,    0.055085,    0.055085,    0.055085,    0.053179,    0.053179,    0.053179,\n",
       "           0.053179,    0.053179,    0.053179,    0.044906,    0.044906,    0.044906,    0.044906,    0.044906,    0.044906,    0.044906,    0.041852,    0.041852,    0.041852,    0.041852,    0.041852,    0.041852,     0.04143,     0.04143,     0.04143,     0.04143,     0.04143,     0.04143,     0.04143,\n",
       "           0.038694,    0.038694,    0.038694,    0.038694,    0.038694,    0.038694,    0.034703,    0.034703,    0.034703,    0.034703,    0.034703,    0.034703,    0.034703,    0.034703,    0.034703,    0.034703,    0.034703,    0.034703,    0.034703,    0.032144,    0.032144,    0.032144,    0.032144,\n",
       "           0.032144,    0.032144,    0.032144,    0.032144,    0.032144,    0.032144,    0.032144,    0.032144,    0.032144,    0.031881,    0.031881,    0.031881,    0.031881,    0.031881,    0.031881,    0.031881,    0.031136,    0.031136,    0.031136,    0.031136,    0.031136,    0.031136,    0.030455,\n",
       "           0.030455,    0.030455,    0.030455,    0.030455,    0.030455,    0.030455,    0.029655,    0.029655,    0.029655,    0.029655,    0.029655,    0.029655,    0.029655,    0.028067,    0.028067,    0.028067,    0.028067,    0.028067,    0.028067,    0.027968,    0.027968,    0.027968,    0.027968,\n",
       "           0.027968,    0.027968,    0.027968,    0.026878,    0.026878,    0.026878,    0.026878,    0.026878,    0.026878,    0.026601,    0.026601,    0.026601,    0.026601,    0.026601,    0.026601,    0.026601,    0.026449,    0.026449,    0.026449,    0.026449,    0.026449,    0.026449,    0.026449,\n",
       "           0.026449,    0.026449,    0.026449,    0.026449,    0.026449,    0.026449,     0.02543,     0.02543,     0.02543,     0.02543,     0.02543,     0.02543,    0.025254,    0.025254,    0.025254,    0.025254,    0.025254,    0.025254,    0.025254,    0.022624,    0.022624,    0.022624,    0.022624,\n",
       "           0.022624,    0.022624,    0.022624,    0.022624,    0.022624,    0.022624,    0.022624,    0.022624,    0.022624,    0.019473,    0.019473,    0.019473,    0.019473,    0.019473,    0.019473,    0.019473,    0.019473,    0.019473,    0.019473,    0.019473,    0.019473,    0.019473,    0.014723,\n",
       "           0.014723,    0.014723,    0.014723,    0.014723,    0.014723,    0.013258,    0.013258,    0.013258,    0.013258,    0.013258,    0.013258,    0.013258,    0.013258,    0.013258,    0.013258,    0.013258,    0.013258,    0.013258,    0.013125,    0.013125,    0.013125,    0.013125,    0.013125,\n",
       "           0.013125,    0.013125,    0.012253,    0.012253,    0.012253,    0.012253,    0.012253,    0.012253,    0.012253,    0.011978,    0.011978,    0.011978,    0.011978,    0.011978,    0.011978,    0.011527,    0.011527,    0.011527,    0.011527,    0.011527,    0.011527,    0.011527,    0.010971,\n",
       "           0.010971,    0.010971,    0.010971,    0.010971,    0.010971,    0.010968,    0.010968,    0.010968,    0.010968,    0.010968,    0.010968,    0.010968,   0.0085895,   0.0085895,   0.0085895,   0.0085895,   0.0085895,   0.0085895,   0.0076856,   0.0076419,   0.0075982,   0.0075546,   0.0075109,\n",
       "          0.0074672,   0.0074236,   0.0073799,   0.0073362,   0.0072926,   0.0072489,   0.0072052,   0.0071616,   0.0071179,   0.0070742,   0.0070306,   0.0069869,   0.0069432,   0.0068995,   0.0068559,   0.0068122,   0.0067685,   0.0067249,   0.0066812,   0.0066375,   0.0065939,   0.0065502,   0.0065065,\n",
       "          0.0064629,   0.0064192,   0.0063755,   0.0063319,   0.0062882,   0.0062445,   0.0062009,   0.0061572,   0.0061135,   0.0060699,   0.0060262,   0.0059825,   0.0059389,   0.0058952,   0.0058515,   0.0058078,   0.0057642,   0.0057205,   0.0056768,   0.0056332,   0.0055895,   0.0055458,   0.0055022,\n",
       "          0.0054585,   0.0054148,   0.0053712,   0.0053275,   0.0052838,   0.0052402,   0.0051965,   0.0051528,   0.0051092,   0.0050655,   0.0050218,   0.0049782,   0.0049345,   0.0048908,   0.0048472,   0.0048035,   0.0047598,   0.0047161,   0.0046725,   0.0046288,   0.0045851,   0.0045415,   0.0044978,\n",
       "          0.0044541,   0.0044105,   0.0043668,   0.0043231,   0.0042795,   0.0042358,   0.0041921,   0.0041485,   0.0041048,   0.0040611,   0.0040175,   0.0039738,   0.0039301,   0.0038865,   0.0038428,   0.0037991,   0.0037555,   0.0037118,   0.0036681,   0.0036244,   0.0035808,   0.0035371,   0.0034934,\n",
       "          0.0034498,   0.0034061,   0.0033624,   0.0033188,   0.0032751,   0.0032314,   0.0031878,   0.0031441,   0.0031004,   0.0030568,   0.0030131,   0.0029694,   0.0029258,   0.0028821,   0.0028384,   0.0027948,   0.0027511,   0.0027074,   0.0026638,   0.0026201,   0.0025764,   0.0025327,   0.0024891,\n",
       "          0.0024454,   0.0024017,   0.0023581,   0.0023144,   0.0022707,   0.0022271,   0.0021834,   0.0021397,   0.0020961,   0.0020524,   0.0020087,   0.0019651,   0.0019214,   0.0018777,   0.0018341,   0.0017904,   0.0017467,   0.0017031,   0.0016594,   0.0016157,    0.001572,   0.0015284,   0.0014847,\n",
       "           0.001441,   0.0013974,   0.0013537,     0.00131,   0.0012664,   0.0012227,    0.001179,   0.0011354,   0.0010917,    0.001048,   0.0010044,   0.0009607,  0.00091703,  0.00087336,  0.00082969,  0.00078602,  0.00074236,  0.00069869,  0.00065502,  0.00061135,  0.00056768,  0.00052402,  0.00048035,\n",
       "         0.00043668,  0.00039301,  0.00034934,  0.00030568,  0.00026201,  0.00021834,  0.00017467,    0.000131,  8.7336e-05,  4.3668e-05,           0]]), 'Recall', 'Precision'], [array([          0,    0.001001,    0.002002,    0.003003,    0.004004,    0.005005,    0.006006,    0.007007,    0.008008,    0.009009,     0.01001,    0.011011,    0.012012,    0.013013,    0.014014,    0.015015,    0.016016,    0.017017,    0.018018,    0.019019,     0.02002,    0.021021,    0.022022,    0.023023,\n",
       "          0.024024,    0.025025,    0.026026,    0.027027,    0.028028,    0.029029,     0.03003,    0.031031,    0.032032,    0.033033,    0.034034,    0.035035,    0.036036,    0.037037,    0.038038,    0.039039,     0.04004,    0.041041,    0.042042,    0.043043,    0.044044,    0.045045,    0.046046,    0.047047,\n",
       "          0.048048,    0.049049,     0.05005,    0.051051,    0.052052,    0.053053,    0.054054,    0.055055,    0.056056,    0.057057,    0.058058,    0.059059,     0.06006,    0.061061,    0.062062,    0.063063,    0.064064,    0.065065,    0.066066,    0.067067,    0.068068,    0.069069,     0.07007,    0.071071,\n",
       "          0.072072,    0.073073,    0.074074,    0.075075,    0.076076,    0.077077,    0.078078,    0.079079,     0.08008,    0.081081,    0.082082,    0.083083,    0.084084,    0.085085,    0.086086,    0.087087,    0.088088,    0.089089,     0.09009,    0.091091,    0.092092,    0.093093,    0.094094,    0.095095,\n",
       "          0.096096,    0.097097,    0.098098,    0.099099,      0.1001,      0.1011,      0.1021,      0.1031,      0.1041,     0.10511,     0.10611,     0.10711,     0.10811,     0.10911,     0.11011,     0.11111,     0.11211,     0.11311,     0.11411,     0.11512,     0.11612,     0.11712,     0.11812,     0.11912,\n",
       "           0.12012,     0.12112,     0.12212,     0.12312,     0.12412,     0.12513,     0.12613,     0.12713,     0.12813,     0.12913,     0.13013,     0.13113,     0.13213,     0.13313,     0.13413,     0.13514,     0.13614,     0.13714,     0.13814,     0.13914,     0.14014,     0.14114,     0.14214,     0.14314,\n",
       "           0.14414,     0.14515,     0.14615,     0.14715,     0.14815,     0.14915,     0.15015,     0.15115,     0.15215,     0.15315,     0.15415,     0.15516,     0.15616,     0.15716,     0.15816,     0.15916,     0.16016,     0.16116,     0.16216,     0.16316,     0.16416,     0.16517,     0.16617,     0.16717,\n",
       "           0.16817,     0.16917,     0.17017,     0.17117,     0.17217,     0.17317,     0.17417,     0.17518,     0.17618,     0.17718,     0.17818,     0.17918,     0.18018,     0.18118,     0.18218,     0.18318,     0.18418,     0.18519,     0.18619,     0.18719,     0.18819,     0.18919,     0.19019,     0.19119,\n",
       "           0.19219,     0.19319,     0.19419,      0.1952,      0.1962,      0.1972,      0.1982,      0.1992,      0.2002,      0.2012,      0.2022,      0.2032,      0.2042,     0.20521,     0.20621,     0.20721,     0.20821,     0.20921,     0.21021,     0.21121,     0.21221,     0.21321,     0.21421,     0.21522,\n",
       "           0.21622,     0.21722,     0.21822,     0.21922,     0.22022,     0.22122,     0.22222,     0.22322,     0.22422,     0.22523,     0.22623,     0.22723,     0.22823,     0.22923,     0.23023,     0.23123,     0.23223,     0.23323,     0.23423,     0.23524,     0.23624,     0.23724,     0.23824,     0.23924,\n",
       "           0.24024,     0.24124,     0.24224,     0.24324,     0.24424,     0.24525,     0.24625,     0.24725,     0.24825,     0.24925,     0.25025,     0.25125,     0.25225,     0.25325,     0.25425,     0.25526,     0.25626,     0.25726,     0.25826,     0.25926,     0.26026,     0.26126,     0.26226,     0.26326,\n",
       "           0.26426,     0.26527,     0.26627,     0.26727,     0.26827,     0.26927,     0.27027,     0.27127,     0.27227,     0.27327,     0.27427,     0.27528,     0.27628,     0.27728,     0.27828,     0.27928,     0.28028,     0.28128,     0.28228,     0.28328,     0.28428,     0.28529,     0.28629,     0.28729,\n",
       "           0.28829,     0.28929,     0.29029,     0.29129,     0.29229,     0.29329,     0.29429,      0.2953,      0.2963,      0.2973,      0.2983,      0.2993,      0.3003,      0.3013,      0.3023,      0.3033,      0.3043,     0.30531,     0.30631,     0.30731,     0.30831,     0.30931,     0.31031,     0.31131,\n",
       "           0.31231,     0.31331,     0.31431,     0.31532,     0.31632,     0.31732,     0.31832,     0.31932,     0.32032,     0.32132,     0.32232,     0.32332,     0.32432,     0.32533,     0.32633,     0.32733,     0.32833,     0.32933,     0.33033,     0.33133,     0.33233,     0.33333,     0.33433,     0.33534,\n",
       "           0.33634,     0.33734,     0.33834,     0.33934,     0.34034,     0.34134,     0.34234,     0.34334,     0.34434,     0.34535,     0.34635,     0.34735,     0.34835,     0.34935,     0.35035,     0.35135,     0.35235,     0.35335,     0.35435,     0.35536,     0.35636,     0.35736,     0.35836,     0.35936,\n",
       "           0.36036,     0.36136,     0.36236,     0.36336,     0.36436,     0.36537,     0.36637,     0.36737,     0.36837,     0.36937,     0.37037,     0.37137,     0.37237,     0.37337,     0.37437,     0.37538,     0.37638,     0.37738,     0.37838,     0.37938,     0.38038,     0.38138,     0.38238,     0.38338,\n",
       "           0.38438,     0.38539,     0.38639,     0.38739,     0.38839,     0.38939,     0.39039,     0.39139,     0.39239,     0.39339,     0.39439,      0.3954,      0.3964,      0.3974,      0.3984,      0.3994,      0.4004,      0.4014,      0.4024,      0.4034,      0.4044,     0.40541,     0.40641,     0.40741,\n",
       "           0.40841,     0.40941,     0.41041,     0.41141,     0.41241,     0.41341,     0.41441,     0.41542,     0.41642,     0.41742,     0.41842,     0.41942,     0.42042,     0.42142,     0.42242,     0.42342,     0.42442,     0.42543,     0.42643,     0.42743,     0.42843,     0.42943,     0.43043,     0.43143,\n",
       "           0.43243,     0.43343,     0.43443,     0.43544,     0.43644,     0.43744,     0.43844,     0.43944,     0.44044,     0.44144,     0.44244,     0.44344,     0.44444,     0.44545,     0.44645,     0.44745,     0.44845,     0.44945,     0.45045,     0.45145,     0.45245,     0.45345,     0.45445,     0.45546,\n",
       "           0.45646,     0.45746,     0.45846,     0.45946,     0.46046,     0.46146,     0.46246,     0.46346,     0.46446,     0.46547,     0.46647,     0.46747,     0.46847,     0.46947,     0.47047,     0.47147,     0.47247,     0.47347,     0.47447,     0.47548,     0.47648,     0.47748,     0.47848,     0.47948,\n",
       "           0.48048,     0.48148,     0.48248,     0.48348,     0.48448,     0.48549,     0.48649,     0.48749,     0.48849,     0.48949,     0.49049,     0.49149,     0.49249,     0.49349,     0.49449,      0.4955,      0.4965,      0.4975,      0.4985,      0.4995,      0.5005,      0.5015,      0.5025,      0.5035,\n",
       "            0.5045,     0.50551,     0.50651,     0.50751,     0.50851,     0.50951,     0.51051,     0.51151,     0.51251,     0.51351,     0.51451,     0.51552,     0.51652,     0.51752,     0.51852,     0.51952,     0.52052,     0.52152,     0.52252,     0.52352,     0.52452,     0.52553,     0.52653,     0.52753,\n",
       "           0.52853,     0.52953,     0.53053,     0.53153,     0.53253,     0.53353,     0.53453,     0.53554,     0.53654,     0.53754,     0.53854,     0.53954,     0.54054,     0.54154,     0.54254,     0.54354,     0.54454,     0.54555,     0.54655,     0.54755,     0.54855,     0.54955,     0.55055,     0.55155,\n",
       "           0.55255,     0.55355,     0.55455,     0.55556,     0.55656,     0.55756,     0.55856,     0.55956,     0.56056,     0.56156,     0.56256,     0.56356,     0.56456,     0.56557,     0.56657,     0.56757,     0.56857,     0.56957,     0.57057,     0.57157,     0.57257,     0.57357,     0.57457,     0.57558,\n",
       "           0.57658,     0.57758,     0.57858,     0.57958,     0.58058,     0.58158,     0.58258,     0.58358,     0.58458,     0.58559,     0.58659,     0.58759,     0.58859,     0.58959,     0.59059,     0.59159,     0.59259,     0.59359,     0.59459,      0.5956,      0.5966,      0.5976,      0.5986,      0.5996,\n",
       "            0.6006,      0.6016,      0.6026,      0.6036,      0.6046,     0.60561,     0.60661,     0.60761,     0.60861,     0.60961,     0.61061,     0.61161,     0.61261,     0.61361,     0.61461,     0.61562,     0.61662,     0.61762,     0.61862,     0.61962,     0.62062,     0.62162,     0.62262,     0.62362,\n",
       "           0.62462,     0.62563,     0.62663,     0.62763,     0.62863,     0.62963,     0.63063,     0.63163,     0.63263,     0.63363,     0.63463,     0.63564,     0.63664,     0.63764,     0.63864,     0.63964,     0.64064,     0.64164,     0.64264,     0.64364,     0.64464,     0.64565,     0.64665,     0.64765,\n",
       "           0.64865,     0.64965,     0.65065,     0.65165,     0.65265,     0.65365,     0.65465,     0.65566,     0.65666,     0.65766,     0.65866,     0.65966,     0.66066,     0.66166,     0.66266,     0.66366,     0.66466,     0.66567,     0.66667,     0.66767,     0.66867,     0.66967,     0.67067,     0.67167,\n",
       "           0.67267,     0.67367,     0.67467,     0.67568,     0.67668,     0.67768,     0.67868,     0.67968,     0.68068,     0.68168,     0.68268,     0.68368,     0.68468,     0.68569,     0.68669,     0.68769,     0.68869,     0.68969,     0.69069,     0.69169,     0.69269,     0.69369,     0.69469,      0.6957,\n",
       "            0.6967,      0.6977,      0.6987,      0.6997,      0.7007,      0.7017,      0.7027,      0.7037,      0.7047,     0.70571,     0.70671,     0.70771,     0.70871,     0.70971,     0.71071,     0.71171,     0.71271,     0.71371,     0.71471,     0.71572,     0.71672,     0.71772,     0.71872,     0.71972,\n",
       "           0.72072,     0.72172,     0.72272,     0.72372,     0.72472,     0.72573,     0.72673,     0.72773,     0.72873,     0.72973,     0.73073,     0.73173,     0.73273,     0.73373,     0.73473,     0.73574,     0.73674,     0.73774,     0.73874,     0.73974,     0.74074,     0.74174,     0.74274,     0.74374,\n",
       "           0.74474,     0.74575,     0.74675,     0.74775,     0.74875,     0.74975,     0.75075,     0.75175,     0.75275,     0.75375,     0.75475,     0.75576,     0.75676,     0.75776,     0.75876,     0.75976,     0.76076,     0.76176,     0.76276,     0.76376,     0.76476,     0.76577,     0.76677,     0.76777,\n",
       "           0.76877,     0.76977,     0.77077,     0.77177,     0.77277,     0.77377,     0.77477,     0.77578,     0.77678,     0.77778,     0.77878,     0.77978,     0.78078,     0.78178,     0.78278,     0.78378,     0.78478,     0.78579,     0.78679,     0.78779,     0.78879,     0.78979,     0.79079,     0.79179,\n",
       "           0.79279,     0.79379,     0.79479,      0.7958,      0.7968,      0.7978,      0.7988,      0.7998,      0.8008,      0.8018,      0.8028,      0.8038,      0.8048,     0.80581,     0.80681,     0.80781,     0.80881,     0.80981,     0.81081,     0.81181,     0.81281,     0.81381,     0.81481,     0.81582,\n",
       "           0.81682,     0.81782,     0.81882,     0.81982,     0.82082,     0.82182,     0.82282,     0.82382,     0.82482,     0.82583,     0.82683,     0.82783,     0.82883,     0.82983,     0.83083,     0.83183,     0.83283,     0.83383,     0.83483,     0.83584,     0.83684,     0.83784,     0.83884,     0.83984,\n",
       "           0.84084,     0.84184,     0.84284,     0.84384,     0.84484,     0.84585,     0.84685,     0.84785,     0.84885,     0.84985,     0.85085,     0.85185,     0.85285,     0.85385,     0.85485,     0.85586,     0.85686,     0.85786,     0.85886,     0.85986,     0.86086,     0.86186,     0.86286,     0.86386,\n",
       "           0.86486,     0.86587,     0.86687,     0.86787,     0.86887,     0.86987,     0.87087,     0.87187,     0.87287,     0.87387,     0.87487,     0.87588,     0.87688,     0.87788,     0.87888,     0.87988,     0.88088,     0.88188,     0.88288,     0.88388,     0.88488,     0.88589,     0.88689,     0.88789,\n",
       "           0.88889,     0.88989,     0.89089,     0.89189,     0.89289,     0.89389,     0.89489,      0.8959,      0.8969,      0.8979,      0.8989,      0.8999,      0.9009,      0.9019,      0.9029,      0.9039,      0.9049,     0.90591,     0.90691,     0.90791,     0.90891,     0.90991,     0.91091,     0.91191,\n",
       "           0.91291,     0.91391,     0.91491,     0.91592,     0.91692,     0.91792,     0.91892,     0.91992,     0.92092,     0.92192,     0.92292,     0.92392,     0.92492,     0.92593,     0.92693,     0.92793,     0.92893,     0.92993,     0.93093,     0.93193,     0.93293,     0.93393,     0.93493,     0.93594,\n",
       "           0.93694,     0.93794,     0.93894,     0.93994,     0.94094,     0.94194,     0.94294,     0.94394,     0.94494,     0.94595,     0.94695,     0.94795,     0.94895,     0.94995,     0.95095,     0.95195,     0.95295,     0.95395,     0.95495,     0.95596,     0.95696,     0.95796,     0.95896,     0.95996,\n",
       "           0.96096,     0.96196,     0.96296,     0.96396,     0.96496,     0.96597,     0.96697,     0.96797,     0.96897,     0.96997,     0.97097,     0.97197,     0.97297,     0.97397,     0.97497,     0.97598,     0.97698,     0.97798,     0.97898,     0.97998,     0.98098,     0.98198,     0.98298,     0.98398,\n",
       "           0.98498,     0.98599,     0.98699,     0.98799,     0.98899,     0.98999,     0.99099,     0.99199,     0.99299,     0.99399,     0.99499,       0.996,       0.997,       0.998,       0.999,           1]), array([[   0.015254,    0.015254,     0.01544,    0.017546,    0.023601,    0.028813,    0.035042,    0.040362,    0.045915,    0.050844,    0.054202,    0.058916,    0.061773,    0.065987,    0.070945,    0.075518,    0.078992,    0.083637,     0.08853,     0.09518,    0.099082,     0.10321,     0.10497,\n",
       "            0.10853,     0.11435,     0.11829,     0.12223,     0.12377,     0.12876,     0.13439,     0.13946,     0.14379,     0.14798,     0.15086,     0.15484,     0.15974,     0.16108,      0.1632,     0.16685,     0.17154,     0.17609,     0.17602,     0.18005,      0.1841,     0.18638,     0.18998,\n",
       "            0.19462,     0.19916,     0.20421,      0.2081,     0.21367,      0.2152,     0.22124,     0.22803,     0.23137,     0.23557,     0.24047,     0.24458,     0.24845,     0.25162,     0.25362,     0.25132,     0.25314,     0.25518,      0.2588,     0.26145,     0.26686,     0.26927,     0.27159,\n",
       "            0.27548,     0.27905,      0.2787,     0.27651,     0.27829,     0.28224,     0.28711,     0.29017,     0.29199,     0.29407,     0.29781,      0.2916,     0.29478,     0.29943,     0.30659,     0.30617,     0.30821,      0.3089,     0.30507,     0.31031,     0.31323,     0.31462,     0.31697,\n",
       "             0.3148,     0.31956,     0.31169,     0.31342,     0.31155,     0.31339,     0.31828,     0.31948,     0.32117,      0.3224,     0.31998,     0.32042,     0.32372,     0.32528,      0.3301,     0.33314,     0.33819,     0.33994,     0.34188,     0.34431,     0.34701,     0.34902,     0.34384,\n",
       "            0.33898,     0.34047,     0.33168,     0.33251,     0.33484,     0.33379,      0.3333,     0.32763,     0.33015,     0.31986,     0.31552,     0.31613,     0.31165,     0.31226,     0.31387,     0.31465,     0.31597,     0.31787,     0.31917,     0.32025,     0.32129,     0.32231,     0.32294,\n",
       "            0.32386,     0.32486,     0.32555,      0.3215,     0.31823,     0.31888,     0.32015,     0.32155,      0.3183,     0.31322,     0.31306,     0.31381,     0.31445,     0.30935,     0.31083,     0.31081,     0.30572,     0.30533,     0.30665,     0.30758,     0.30828,     0.31027,     0.31132,\n",
       "            0.31214,     0.31284,     0.31352,     0.30786,     0.30823,     0.30905,     0.30941,     0.30976,     0.31011,     0.31071,     0.31172,     0.31209,     0.31246,     0.31282,     0.31183,     0.30874,      0.3057,     0.30717,     0.30757,     0.30797,     0.30837,     0.29284,      0.2878,\n",
       "            0.28627,     0.28405,     0.28182,     0.27959,     0.28083,     0.27688,     0.27412,     0.27468,     0.27512,     0.26886,     0.26864,     0.26907,     0.26951,     0.26189,     0.26254,      0.2637,      0.2646,     0.26518,     0.26703,     0.26774,     0.26618,     0.26462,     0.26306,\n",
       "             0.2615,     0.25994,     0.26101,     0.26165,     0.26218,      0.2624,     0.26261,     0.26282,     0.26304,     0.26325,     0.26411,     0.26277,     0.26042,     0.25806,     0.25624,     0.25668,     0.25711,     0.25767,     0.25864,     0.26084,     0.25341,     0.24774,     0.24311,\n",
       "            0.24062,     0.23813,     0.23563,     0.22634,     0.22827,     0.22882,     0.22316,     0.22005,     0.22025,     0.22044,     0.22063,     0.22082,     0.22101,     0.22152,     0.22211,     0.22286,     0.22354,     0.22401,     0.22448,     0.22471,     0.22485,     0.22499,     0.22513,\n",
       "            0.22527,     0.22542,     0.22555,     0.22569,     0.22585,     0.22612,     0.22638,     0.22664,      0.2269,     0.22543,     0.22213,     0.21881,     0.21765,      0.2181,     0.21854,     0.21909,     0.21964,     0.21916,     0.21833,      0.2175,     0.21667,     0.21584,     0.21501,\n",
       "            0.21418,     0.21335,     0.21252,     0.21169,     0.21085,     0.21002,     0.21008,      0.2088,     0.20753,     0.20626,     0.20498,     0.20371,     0.20243,     0.20115,     0.20124,     0.20136,     0.20148,      0.2016,     0.20171,     0.20183,     0.20195,     0.20206,     0.20218,\n",
       "            0.20234,     0.20257,      0.2028,     0.20302,     0.20325,     0.20344,     0.20357,     0.20371,     0.20384,     0.20398,     0.20411,     0.20424,     0.20437,      0.2045,     0.20338,     0.20149,     0.19959,     0.19769,     0.19579,     0.18955,     0.18301,     0.18182,     0.18063,\n",
       "            0.17943,     0.17824,     0.17704,     0.17584,     0.17464,     0.17344,     0.17347,     0.17353,     0.17359,     0.17365,     0.17371,     0.17377,     0.17383,     0.17389,     0.17395,     0.17401,     0.17407,     0.17412,     0.17418,     0.17424,      0.1743,     0.17435,     0.17441,\n",
       "            0.17453,     0.17465,     0.17478,      0.1749,     0.17503,     0.17515,     0.17527,     0.17539,     0.17603,     0.17095,     0.16585,      0.1661,     0.16652,     0.16602,     0.16498,     0.16394,      0.1629,     0.16186,     0.16082,     0.15978,     0.15873,     0.15769,     0.15664,\n",
       "            0.15563,     0.15496,     0.15428,     0.15361,     0.15294,     0.15226,     0.15159,     0.15091,     0.15024,     0.14956,     0.14889,     0.14821,     0.14754,     0.14686,     0.14618,      0.1455,     0.14482,     0.14336,     0.14145,     0.13953,     0.13762,     0.13569,     0.13377,\n",
       "            0.13144,     0.12899,     0.12653,     0.12407,     0.12196,     0.12201,     0.12207,     0.12212,     0.12217,     0.12222,     0.12227,     0.12232,     0.12237,     0.12242,     0.12247,     0.12252,     0.12256,     0.12261,     0.12266,     0.12266,      0.1215,     0.12034,     0.11918,\n",
       "            0.11802,     0.11686,     0.11569,     0.11453,     0.11336,     0.11219,     0.11107,     0.11049,     0.10991,     0.10933,     0.10874,     0.10816,     0.10758,       0.107,     0.10641,     0.10583,     0.10525,     0.10466,     0.10408,     0.10349,     0.10291,     0.10232,     0.10174,\n",
       "            0.10115,     0.10057,    0.099979,    0.099392,    0.098209,    0.097011,    0.095812,    0.094611,    0.093409,    0.092205,    0.090999,    0.089792,    0.088584,    0.087399,    0.086433,    0.085466,    0.084498,    0.083529,    0.082559,    0.081587,    0.080615,    0.079642,    0.078668,\n",
       "           0.077693,    0.076717,     0.07574,    0.074941,     0.07421,    0.073477,    0.072745,    0.072011,    0.071278,    0.070543,    0.069808,    0.069073,    0.068337,      0.0676,    0.066863,    0.066125,    0.065387,    0.064648,    0.063909,    0.063206,     0.06269,    0.062175,    0.061659,\n",
       "           0.061142,    0.060626,    0.060109,    0.059592,    0.059074,    0.058557,    0.058039,    0.057521,    0.057002,    0.056483,    0.055964,    0.055445,    0.054926,    0.054406,    0.053886,    0.053365,    0.052844,    0.052323,    0.051802,    0.051281,    0.050664,    0.049889,    0.049113,\n",
       "           0.048336,     0.04756,    0.046782,    0.046004,    0.045225,    0.044446,    0.043666,    0.042885,    0.042104,    0.041322,    0.040539,    0.039756,    0.038972,    0.035372,    0.026467,    0.025677,    0.025537,    0.025397,    0.025257,    0.025117,    0.024977,    0.024837,    0.024697,\n",
       "           0.024557,    0.024417,    0.024277,    0.024137,    0.023997,    0.023857,    0.023717,    0.023577,    0.023436,    0.023296,    0.023156,    0.023016,    0.022875,    0.022735,    0.022595,    0.022455,    0.022314,    0.022174,    0.022033,    0.021893,    0.021753,    0.021612,    0.021472,\n",
       "           0.021331,    0.021191,     0.02105,     0.02091,    0.020769,    0.020629,    0.020488,    0.020347,    0.020207,    0.020066,    0.019925,    0.019785,    0.019644,    0.019503,    0.019362,    0.019222,    0.019081,     0.01894,    0.018799,    0.018658,    0.018517,    0.018377,    0.018236,\n",
       "           0.018095,    0.017954,    0.017813,    0.017672,    0.017531,     0.01739,    0.017249,    0.017108,    0.016966,    0.016825,    0.016684,    0.016543,    0.016402,    0.016261,    0.016119,    0.015978,    0.015837,    0.015696,    0.015554,    0.015413,    0.015272,     0.01513,    0.014989,\n",
       "           0.014848,    0.014706,    0.014565,    0.014423,    0.014282,     0.01414,    0.013999,    0.013857,    0.013716,    0.013574,    0.013432,    0.013291,    0.013149,    0.013007,           0,           0,           0,           0,           0,           0,           0,           0,           0,\n",
       "                  0,           0,           0,           0,           0,           0,           0,           0,           0,           0,           0,           0,           0,           0,           0,           0,           0,           0,           0,           0,           0,           0,           0,\n",
       "                  0,           0,           0,           0,           0,           0,           0,           0,           0,           0,           0,           0,           0,           0,           0,           0,           0,           0,           0,           0,           0,           0,           0,\n",
       "                  0,           0,           0,           0,           0,           0,           0,           0,           0,           0,           0,           0,           0,           0,           0,           0,           0,           0,           0,           0,           0,           0,           0,\n",
       "                  0,           0,           0,           0,           0,           0,           0,           0,           0,           0,           0,           0,           0,           0,           0,           0,           0,           0,           0,           0,           0,           0,           0,\n",
       "                  0,           0,           0,           0,           0,           0,           0,           0,           0,           0,           0,           0,           0,           0,           0,           0,           0,           0,           0,           0,           0,           0,           0,\n",
       "                  0,           0,           0,           0,           0,           0,           0,           0,           0,           0,           0,           0,           0,           0,           0,           0,           0,           0,           0,           0,           0,           0,           0,\n",
       "                  0,           0,           0,           0,           0,           0,           0,           0,           0,           0,           0,           0,           0,           0,           0,           0,           0,           0,           0,           0,           0,           0,           0,\n",
       "                  0,           0,           0,           0,           0,           0,           0,           0,           0,           0,           0,           0,           0,           0,           0,           0,           0,           0,           0,           0,           0,           0,           0,\n",
       "                  0,           0,           0,           0,           0,           0,           0,           0,           0,           0,           0,           0,           0,           0,           0,           0,           0,           0,           0,           0,           0,           0,           0,\n",
       "                  0,           0,           0,           0,           0,           0,           0,           0,           0,           0,           0,           0,           0,           0,           0,           0,           0,           0,           0,           0,           0,           0,           0,\n",
       "                  0,           0,           0,           0,           0,           0,           0,           0,           0,           0,           0,           0,           0,           0,           0,           0,           0,           0,           0,           0,           0,           0,           0,\n",
       "                  0,           0,           0,           0,           0,           0,           0,           0,           0,           0,           0,           0,           0,           0,           0,           0,           0,           0,           0,           0,           0,           0,           0,\n",
       "                  0,           0,           0,           0,           0,           0,           0,           0,           0,           0,           0,           0,           0,           0,           0,           0,           0,           0,           0,           0,           0,           0,           0,\n",
       "                  0,           0,           0,           0,           0,           0,           0,           0,           0,           0,           0,           0,           0,           0,           0,           0,           0,           0,           0,           0,           0,           0,           0,\n",
       "                  0,           0,           0,           0,           0,           0,           0,           0,           0,           0,           0,           0,           0,           0,           0,           0,           0,           0,           0,           0,           0,           0,           0,\n",
       "                  0,           0,           0,           0,           0,           0,           0,           0,           0,           0,           0,           0,           0,           0,           0,           0,           0,           0,           0,           0,           0,           0,           0,\n",
       "                  0,           0,           0,           0,           0,           0,           0,           0,           0,           0,           0]]), 'Confidence', 'F1'], [array([          0,    0.001001,    0.002002,    0.003003,    0.004004,    0.005005,    0.006006,    0.007007,    0.008008,    0.009009,     0.01001,    0.011011,    0.012012,    0.013013,    0.014014,    0.015015,    0.016016,    0.017017,    0.018018,    0.019019,     0.02002,    0.021021,    0.022022,    0.023023,\n",
       "          0.024024,    0.025025,    0.026026,    0.027027,    0.028028,    0.029029,     0.03003,    0.031031,    0.032032,    0.033033,    0.034034,    0.035035,    0.036036,    0.037037,    0.038038,    0.039039,     0.04004,    0.041041,    0.042042,    0.043043,    0.044044,    0.045045,    0.046046,    0.047047,\n",
       "          0.048048,    0.049049,     0.05005,    0.051051,    0.052052,    0.053053,    0.054054,    0.055055,    0.056056,    0.057057,    0.058058,    0.059059,     0.06006,    0.061061,    0.062062,    0.063063,    0.064064,    0.065065,    0.066066,    0.067067,    0.068068,    0.069069,     0.07007,    0.071071,\n",
       "          0.072072,    0.073073,    0.074074,    0.075075,    0.076076,    0.077077,    0.078078,    0.079079,     0.08008,    0.081081,    0.082082,    0.083083,    0.084084,    0.085085,    0.086086,    0.087087,    0.088088,    0.089089,     0.09009,    0.091091,    0.092092,    0.093093,    0.094094,    0.095095,\n",
       "          0.096096,    0.097097,    0.098098,    0.099099,      0.1001,      0.1011,      0.1021,      0.1031,      0.1041,     0.10511,     0.10611,     0.10711,     0.10811,     0.10911,     0.11011,     0.11111,     0.11211,     0.11311,     0.11411,     0.11512,     0.11612,     0.11712,     0.11812,     0.11912,\n",
       "           0.12012,     0.12112,     0.12212,     0.12312,     0.12412,     0.12513,     0.12613,     0.12713,     0.12813,     0.12913,     0.13013,     0.13113,     0.13213,     0.13313,     0.13413,     0.13514,     0.13614,     0.13714,     0.13814,     0.13914,     0.14014,     0.14114,     0.14214,     0.14314,\n",
       "           0.14414,     0.14515,     0.14615,     0.14715,     0.14815,     0.14915,     0.15015,     0.15115,     0.15215,     0.15315,     0.15415,     0.15516,     0.15616,     0.15716,     0.15816,     0.15916,     0.16016,     0.16116,     0.16216,     0.16316,     0.16416,     0.16517,     0.16617,     0.16717,\n",
       "           0.16817,     0.16917,     0.17017,     0.17117,     0.17217,     0.17317,     0.17417,     0.17518,     0.17618,     0.17718,     0.17818,     0.17918,     0.18018,     0.18118,     0.18218,     0.18318,     0.18418,     0.18519,     0.18619,     0.18719,     0.18819,     0.18919,     0.19019,     0.19119,\n",
       "           0.19219,     0.19319,     0.19419,      0.1952,      0.1962,      0.1972,      0.1982,      0.1992,      0.2002,      0.2012,      0.2022,      0.2032,      0.2042,     0.20521,     0.20621,     0.20721,     0.20821,     0.20921,     0.21021,     0.21121,     0.21221,     0.21321,     0.21421,     0.21522,\n",
       "           0.21622,     0.21722,     0.21822,     0.21922,     0.22022,     0.22122,     0.22222,     0.22322,     0.22422,     0.22523,     0.22623,     0.22723,     0.22823,     0.22923,     0.23023,     0.23123,     0.23223,     0.23323,     0.23423,     0.23524,     0.23624,     0.23724,     0.23824,     0.23924,\n",
       "           0.24024,     0.24124,     0.24224,     0.24324,     0.24424,     0.24525,     0.24625,     0.24725,     0.24825,     0.24925,     0.25025,     0.25125,     0.25225,     0.25325,     0.25425,     0.25526,     0.25626,     0.25726,     0.25826,     0.25926,     0.26026,     0.26126,     0.26226,     0.26326,\n",
       "           0.26426,     0.26527,     0.26627,     0.26727,     0.26827,     0.26927,     0.27027,     0.27127,     0.27227,     0.27327,     0.27427,     0.27528,     0.27628,     0.27728,     0.27828,     0.27928,     0.28028,     0.28128,     0.28228,     0.28328,     0.28428,     0.28529,     0.28629,     0.28729,\n",
       "           0.28829,     0.28929,     0.29029,     0.29129,     0.29229,     0.29329,     0.29429,      0.2953,      0.2963,      0.2973,      0.2983,      0.2993,      0.3003,      0.3013,      0.3023,      0.3033,      0.3043,     0.30531,     0.30631,     0.30731,     0.30831,     0.30931,     0.31031,     0.31131,\n",
       "           0.31231,     0.31331,     0.31431,     0.31532,     0.31632,     0.31732,     0.31832,     0.31932,     0.32032,     0.32132,     0.32232,     0.32332,     0.32432,     0.32533,     0.32633,     0.32733,     0.32833,     0.32933,     0.33033,     0.33133,     0.33233,     0.33333,     0.33433,     0.33534,\n",
       "           0.33634,     0.33734,     0.33834,     0.33934,     0.34034,     0.34134,     0.34234,     0.34334,     0.34434,     0.34535,     0.34635,     0.34735,     0.34835,     0.34935,     0.35035,     0.35135,     0.35235,     0.35335,     0.35435,     0.35536,     0.35636,     0.35736,     0.35836,     0.35936,\n",
       "           0.36036,     0.36136,     0.36236,     0.36336,     0.36436,     0.36537,     0.36637,     0.36737,     0.36837,     0.36937,     0.37037,     0.37137,     0.37237,     0.37337,     0.37437,     0.37538,     0.37638,     0.37738,     0.37838,     0.37938,     0.38038,     0.38138,     0.38238,     0.38338,\n",
       "           0.38438,     0.38539,     0.38639,     0.38739,     0.38839,     0.38939,     0.39039,     0.39139,     0.39239,     0.39339,     0.39439,      0.3954,      0.3964,      0.3974,      0.3984,      0.3994,      0.4004,      0.4014,      0.4024,      0.4034,      0.4044,     0.40541,     0.40641,     0.40741,\n",
       "           0.40841,     0.40941,     0.41041,     0.41141,     0.41241,     0.41341,     0.41441,     0.41542,     0.41642,     0.41742,     0.41842,     0.41942,     0.42042,     0.42142,     0.42242,     0.42342,     0.42442,     0.42543,     0.42643,     0.42743,     0.42843,     0.42943,     0.43043,     0.43143,\n",
       "           0.43243,     0.43343,     0.43443,     0.43544,     0.43644,     0.43744,     0.43844,     0.43944,     0.44044,     0.44144,     0.44244,     0.44344,     0.44444,     0.44545,     0.44645,     0.44745,     0.44845,     0.44945,     0.45045,     0.45145,     0.45245,     0.45345,     0.45445,     0.45546,\n",
       "           0.45646,     0.45746,     0.45846,     0.45946,     0.46046,     0.46146,     0.46246,     0.46346,     0.46446,     0.46547,     0.46647,     0.46747,     0.46847,     0.46947,     0.47047,     0.47147,     0.47247,     0.47347,     0.47447,     0.47548,     0.47648,     0.47748,     0.47848,     0.47948,\n",
       "           0.48048,     0.48148,     0.48248,     0.48348,     0.48448,     0.48549,     0.48649,     0.48749,     0.48849,     0.48949,     0.49049,     0.49149,     0.49249,     0.49349,     0.49449,      0.4955,      0.4965,      0.4975,      0.4985,      0.4995,      0.5005,      0.5015,      0.5025,      0.5035,\n",
       "            0.5045,     0.50551,     0.50651,     0.50751,     0.50851,     0.50951,     0.51051,     0.51151,     0.51251,     0.51351,     0.51451,     0.51552,     0.51652,     0.51752,     0.51852,     0.51952,     0.52052,     0.52152,     0.52252,     0.52352,     0.52452,     0.52553,     0.52653,     0.52753,\n",
       "           0.52853,     0.52953,     0.53053,     0.53153,     0.53253,     0.53353,     0.53453,     0.53554,     0.53654,     0.53754,     0.53854,     0.53954,     0.54054,     0.54154,     0.54254,     0.54354,     0.54454,     0.54555,     0.54655,     0.54755,     0.54855,     0.54955,     0.55055,     0.55155,\n",
       "           0.55255,     0.55355,     0.55455,     0.55556,     0.55656,     0.55756,     0.55856,     0.55956,     0.56056,     0.56156,     0.56256,     0.56356,     0.56456,     0.56557,     0.56657,     0.56757,     0.56857,     0.56957,     0.57057,     0.57157,     0.57257,     0.57357,     0.57457,     0.57558,\n",
       "           0.57658,     0.57758,     0.57858,     0.57958,     0.58058,     0.58158,     0.58258,     0.58358,     0.58458,     0.58559,     0.58659,     0.58759,     0.58859,     0.58959,     0.59059,     0.59159,     0.59259,     0.59359,     0.59459,      0.5956,      0.5966,      0.5976,      0.5986,      0.5996,\n",
       "            0.6006,      0.6016,      0.6026,      0.6036,      0.6046,     0.60561,     0.60661,     0.60761,     0.60861,     0.60961,     0.61061,     0.61161,     0.61261,     0.61361,     0.61461,     0.61562,     0.61662,     0.61762,     0.61862,     0.61962,     0.62062,     0.62162,     0.62262,     0.62362,\n",
       "           0.62462,     0.62563,     0.62663,     0.62763,     0.62863,     0.62963,     0.63063,     0.63163,     0.63263,     0.63363,     0.63463,     0.63564,     0.63664,     0.63764,     0.63864,     0.63964,     0.64064,     0.64164,     0.64264,     0.64364,     0.64464,     0.64565,     0.64665,     0.64765,\n",
       "           0.64865,     0.64965,     0.65065,     0.65165,     0.65265,     0.65365,     0.65465,     0.65566,     0.65666,     0.65766,     0.65866,     0.65966,     0.66066,     0.66166,     0.66266,     0.66366,     0.66466,     0.66567,     0.66667,     0.66767,     0.66867,     0.66967,     0.67067,     0.67167,\n",
       "           0.67267,     0.67367,     0.67467,     0.67568,     0.67668,     0.67768,     0.67868,     0.67968,     0.68068,     0.68168,     0.68268,     0.68368,     0.68468,     0.68569,     0.68669,     0.68769,     0.68869,     0.68969,     0.69069,     0.69169,     0.69269,     0.69369,     0.69469,      0.6957,\n",
       "            0.6967,      0.6977,      0.6987,      0.6997,      0.7007,      0.7017,      0.7027,      0.7037,      0.7047,     0.70571,     0.70671,     0.70771,     0.70871,     0.70971,     0.71071,     0.71171,     0.71271,     0.71371,     0.71471,     0.71572,     0.71672,     0.71772,     0.71872,     0.71972,\n",
       "           0.72072,     0.72172,     0.72272,     0.72372,     0.72472,     0.72573,     0.72673,     0.72773,     0.72873,     0.72973,     0.73073,     0.73173,     0.73273,     0.73373,     0.73473,     0.73574,     0.73674,     0.73774,     0.73874,     0.73974,     0.74074,     0.74174,     0.74274,     0.74374,\n",
       "           0.74474,     0.74575,     0.74675,     0.74775,     0.74875,     0.74975,     0.75075,     0.75175,     0.75275,     0.75375,     0.75475,     0.75576,     0.75676,     0.75776,     0.75876,     0.75976,     0.76076,     0.76176,     0.76276,     0.76376,     0.76476,     0.76577,     0.76677,     0.76777,\n",
       "           0.76877,     0.76977,     0.77077,     0.77177,     0.77277,     0.77377,     0.77477,     0.77578,     0.77678,     0.77778,     0.77878,     0.77978,     0.78078,     0.78178,     0.78278,     0.78378,     0.78478,     0.78579,     0.78679,     0.78779,     0.78879,     0.78979,     0.79079,     0.79179,\n",
       "           0.79279,     0.79379,     0.79479,      0.7958,      0.7968,      0.7978,      0.7988,      0.7998,      0.8008,      0.8018,      0.8028,      0.8038,      0.8048,     0.80581,     0.80681,     0.80781,     0.80881,     0.80981,     0.81081,     0.81181,     0.81281,     0.81381,     0.81481,     0.81582,\n",
       "           0.81682,     0.81782,     0.81882,     0.81982,     0.82082,     0.82182,     0.82282,     0.82382,     0.82482,     0.82583,     0.82683,     0.82783,     0.82883,     0.82983,     0.83083,     0.83183,     0.83283,     0.83383,     0.83483,     0.83584,     0.83684,     0.83784,     0.83884,     0.83984,\n",
       "           0.84084,     0.84184,     0.84284,     0.84384,     0.84484,     0.84585,     0.84685,     0.84785,     0.84885,     0.84985,     0.85085,     0.85185,     0.85285,     0.85385,     0.85485,     0.85586,     0.85686,     0.85786,     0.85886,     0.85986,     0.86086,     0.86186,     0.86286,     0.86386,\n",
       "           0.86486,     0.86587,     0.86687,     0.86787,     0.86887,     0.86987,     0.87087,     0.87187,     0.87287,     0.87387,     0.87487,     0.87588,     0.87688,     0.87788,     0.87888,     0.87988,     0.88088,     0.88188,     0.88288,     0.88388,     0.88488,     0.88589,     0.88689,     0.88789,\n",
       "           0.88889,     0.88989,     0.89089,     0.89189,     0.89289,     0.89389,     0.89489,      0.8959,      0.8969,      0.8979,      0.8989,      0.8999,      0.9009,      0.9019,      0.9029,      0.9039,      0.9049,     0.90591,     0.90691,     0.90791,     0.90891,     0.90991,     0.91091,     0.91191,\n",
       "           0.91291,     0.91391,     0.91491,     0.91592,     0.91692,     0.91792,     0.91892,     0.91992,     0.92092,     0.92192,     0.92292,     0.92392,     0.92492,     0.92593,     0.92693,     0.92793,     0.92893,     0.92993,     0.93093,     0.93193,     0.93293,     0.93393,     0.93493,     0.93594,\n",
       "           0.93694,     0.93794,     0.93894,     0.93994,     0.94094,     0.94194,     0.94294,     0.94394,     0.94494,     0.94595,     0.94695,     0.94795,     0.94895,     0.94995,     0.95095,     0.95195,     0.95295,     0.95395,     0.95495,     0.95596,     0.95696,     0.95796,     0.95896,     0.95996,\n",
       "           0.96096,     0.96196,     0.96296,     0.96396,     0.96496,     0.96597,     0.96697,     0.96797,     0.96897,     0.96997,     0.97097,     0.97197,     0.97297,     0.97397,     0.97497,     0.97598,     0.97698,     0.97798,     0.97898,     0.97998,     0.98098,     0.98198,     0.98298,     0.98398,\n",
       "           0.98498,     0.98599,     0.98699,     0.98799,     0.98899,     0.98999,     0.99099,     0.99199,     0.99299,     0.99399,     0.99499,       0.996,       0.997,       0.998,       0.999,           1]), array([[  0.0076984,   0.0076984,    0.007793,   0.0088684,    0.011979,    0.014686,    0.017935,    0.020743,    0.023701,    0.026354,    0.028226,     0.03082,    0.032451,    0.034824,    0.037598,    0.040204,    0.042241,    0.044944,    0.047782,     0.05168,    0.054043,    0.056566,    0.057821,\n",
       "           0.060062,    0.063651,    0.066099,    0.068668,    0.069855,    0.073048,    0.076694,    0.080017,    0.082881,    0.085677,    0.087788,    0.090679,    0.094269,    0.095653,     0.09739,         0.1,     0.10339,     0.10671,     0.10725,     0.11028,     0.11333,     0.11543,     0.11821,\n",
       "            0.12182,      0.1254,     0.12943,     0.13257,     0.13712,     0.13894,     0.14401,     0.14981,     0.15271,      0.1564,     0.16074,     0.16443,     0.16795,     0.17087,     0.17358,     0.17324,     0.17595,     0.17897,     0.18255,      0.1852,     0.19068,     0.19314,     0.19555,\n",
       "             0.1996,     0.20337,     0.20439,     0.20346,      0.2054,     0.20973,     0.21515,     0.21887,     0.22244,     0.22485,     0.22926,     0.22572,     0.22956,     0.23525,     0.24421,     0.24603,     0.24867,     0.24976,     0.24963,     0.25672,     0.26075,     0.26268,     0.26597,\n",
       "            0.26595,     0.27298,     0.26715,     0.27049,     0.27021,       0.274,     0.28156,     0.28344,     0.28611,     0.28807,     0.28733,     0.28901,     0.29443,     0.29702,     0.30516,      0.3104,     0.31928,     0.32241,     0.32592,     0.33037,     0.33537,     0.33916,     0.33908,\n",
       "             0.3381,     0.34108,     0.33466,     0.33842,     0.34328,     0.34636,     0.35061,     0.35097,     0.35808,      0.3512,     0.34948,     0.35098,     0.34973,     0.35127,     0.35538,     0.35738,     0.36081,     0.36581,     0.36926,     0.37217,     0.37499,     0.37779,     0.37952,\n",
       "            0.38205,     0.38487,     0.38681,     0.39113,     0.39169,     0.39366,     0.39757,     0.40191,     0.40479,     0.40317,     0.40561,     0.40812,     0.41031,     0.41003,     0.41528,     0.41696,     0.41222,     0.41405,     0.41895,     0.42243,      0.4251,     0.43276,     0.43687,\n",
       "            0.44011,      0.4429,     0.44563,     0.44042,      0.4467,     0.45016,     0.45167,     0.45318,     0.45469,     0.45728,     0.46169,     0.46331,     0.46493,     0.46655,     0.46638,     0.46344,     0.46062,     0.46739,     0.46925,      0.4711,     0.47296,     0.45784,     0.45279,\n",
       "             0.4564,     0.45413,     0.45186,     0.44959,     0.46166,     0.45756,     0.45537,     0.45848,     0.46143,      0.4548,     0.46102,      0.4636,     0.46619,     0.46033,     0.46436,     0.47167,     0.47747,     0.48132,     0.49371,     0.49978,     0.49807,     0.49637,     0.49467,\n",
       "            0.49297,     0.49126,     0.50103,     0.50575,     0.50979,     0.51142,     0.51305,     0.51467,      0.5163,     0.51793,     0.52466,     0.52727,     0.52468,     0.52209,     0.52069,      0.5243,     0.52792,     0.53273,     0.54108,     0.56091,     0.55652,      0.5501,     0.54481,\n",
       "            0.54187,     0.53893,     0.53598,     0.53146,     0.55335,     0.55994,     0.55666,     0.55461,     0.55709,     0.55956,     0.56203,      0.5645,     0.56698,     0.57373,     0.58182,     0.59217,     0.60195,     0.60889,     0.61583,     0.61926,     0.62145,     0.62364,     0.62582,\n",
       "            0.62801,      0.6302,     0.63239,     0.63457,     0.63713,     0.64137,      0.6456,     0.64983,     0.65406,     0.65441,      0.6506,     0.64679,     0.64978,     0.65784,     0.66591,     0.67632,     0.68698,     0.68895,     0.68802,     0.68708,     0.68614,     0.68521,     0.68427,\n",
       "            0.68334,      0.6824,     0.68146,     0.68053,     0.67959,     0.67865,     0.70252,     0.70107,     0.69961,     0.69816,     0.69671,     0.69525,      0.6938,     0.69235,     0.69512,     0.69802,     0.70091,     0.70381,     0.70671,      0.7096,      0.7125,     0.71539,     0.71829,\n",
       "            0.72243,     0.72834,     0.73426,     0.74018,      0.7461,     0.75127,     0.75501,     0.75875,     0.76249,     0.76623,     0.76996,      0.7737,     0.77744,     0.78118,     0.78148,     0.77965,     0.77783,       0.776,     0.77417,     0.76778,     0.76089,     0.75953,     0.75817,\n",
       "            0.75682,     0.75546,     0.75411,     0.75275,     0.75139,     0.75004,     0.75224,     0.75454,     0.75684,     0.75914,     0.76145,     0.76375,     0.76605,     0.76835,     0.77065,     0.77296,     0.77526,     0.77756,     0.77986,     0.78216,     0.78447,     0.78677,     0.78907,\n",
       "            0.79386,     0.79917,     0.80448,      0.8098,     0.81511,     0.82043,     0.82574,     0.83105,     0.88205,     0.87858,     0.87512,     0.89908,       0.924,     0.93305,      0.9326,     0.93215,     0.93169,     0.93124,     0.93079,     0.93034,     0.92989,     0.92943,     0.92898,\n",
       "            0.92854,     0.92821,     0.92787,     0.92754,     0.92721,     0.92687,     0.92654,      0.9262,     0.92587,     0.92554,      0.9252,     0.92487,     0.92453,      0.9242,     0.92387,     0.92353,      0.9232,     0.92238,     0.92129,     0.92019,      0.9191,     0.91801,     0.91691,\n",
       "             0.9154,     0.91376,     0.91213,     0.91049,     0.90995,     0.91597,     0.92199,     0.92801,     0.93403,     0.94004,     0.94606,     0.95208,      0.9581,     0.96412,     0.97013,     0.97615,     0.98217,     0.98819,      0.9942,           1,           1,           1,           1,\n",
       "                  1,           1,           1,           1,           1,           1,           1,           1,           1,           1,           1,           1,           1,           1,           1,           1,           1,           1,           1,           1,           1,           1,           1,\n",
       "                  1,           1,           1,           1,           1,           1,           1,           1,           1,           1,           1,           1,           1,           1,           1,           1,           1,           1,           1,           1,           1,           1,           1,\n",
       "                  1,           1,           1,           1,           1,           1,           1,           1,           1,           1,           1,           1,           1,           1,           1,           1,           1,           1,           1,           1,           1,           1,           1,\n",
       "                  1,           1,           1,           1,           1,           1,           1,           1,           1,           1,           1,           1,           1,           1,           1,           1,           1,           1,           1,           1,           1,           1,           1,\n",
       "                  1,           1,           1,           1,           1,           1,           1,           1,           1,           1,           1,           1,           1,           1,           1,           1,           1,           1,           1,           1,           1,           1,           1,\n",
       "                  1,           1,           1,           1,           1,           1,           1,           1,           1,           1,           1,           1,           1,           1,           1,           1,           1,           1,           1,           1,           1,           1,           1,\n",
       "                  1,           1,           1,           1,           1,           1,           1,           1,           1,           1,           1,           1,           1,           1,           1,           1,           1,           1,           1,           1,           1,           1,           1,\n",
       "                  1,           1,           1,           1,           1,           1,           1,           1,           1,           1,           1,           1,           1,           1,           1,           1,           1,           1,           1,           1,           1,           1,           1,\n",
       "                  1,           1,           1,           1,           1,           1,           1,           1,           1,           1,           1,           1,           1,           1,           1,           1,           1,           1,           1,           1,           1,           1,           1,\n",
       "                  1,           1,           1,           1,           1,           1,           1,           1,           1,           1,           1,           1,           1,           1,           1,           1,           1,           1,           1,           1,           1,           1,           1,\n",
       "                  1,           1,           1,           1,           1,           1,           1,           1,           1,           1,           1,           1,           1,           1,           1,           1,           1,           1,           1,           1,           1,           1,           1,\n",
       "                  1,           1,           1,           1,           1,           1,           1,           1,           1,           1,           1,           1,           1,           1,           1,           1,           1,           1,           1,           1,           1,           1,           1,\n",
       "                  1,           1,           1,           1,           1,           1,           1,           1,           1,           1,           1,           1,           1,           1,           1,           1,           1,           1,           1,           1,           1,           1,           1,\n",
       "                  1,           1,           1,           1,           1,           1,           1,           1,           1,           1,           1,           1,           1,           1,           1,           1,           1,           1,           1,           1,           1,           1,           1,\n",
       "                  1,           1,           1,           1,           1,           1,           1,           1,           1,           1,           1,           1,           1,           1,           1,           1,           1,           1,           1,           1,           1,           1,           1,\n",
       "                  1,           1,           1,           1,           1,           1,           1,           1,           1,           1,           1,           1,           1,           1,           1,           1,           1,           1,           1,           1,           1,           1,           1,\n",
       "                  1,           1,           1,           1,           1,           1,           1,           1,           1,           1,           1,           1,           1,           1,           1,           1,           1,           1,           1,           1,           1,           1,           1,\n",
       "                  1,           1,           1,           1,           1,           1,           1,           1,           1,           1,           1,           1,           1,           1,           1,           1,           1,           1,           1,           1,           1,           1,           1,\n",
       "                  1,           1,           1,           1,           1,           1,           1,           1,           1,           1,           1,           1,           1,           1,           1,           1,           1,           1,           1,           1,           1,           1,           1,\n",
       "                  1,           1,           1,           1,           1,           1,           1,           1,           1,           1,           1,           1,           1,           1,           1,           1,           1,           1,           1,           1,           1,           1,           1,\n",
       "                  1,           1,           1,           1,           1,           1,           1,           1,           1,           1,           1,           1,           1,           1,           1,           1,           1,           1,           1,           1,           1,           1,           1,\n",
       "                  1,           1,           1,           1,           1,           1,           1,           1,           1,           1,           1,           1,           1,           1,           1,           1,           1,           1,           1,           1,           1,           1,           1,\n",
       "                  1,           1,           1,           1,           1,           1,           1,           1,           1,           1,           1,           1,           1,           1,           1,           1,           1,           1,           1,           1,           1,           1,           1,\n",
       "                  1,           1,           1,           1,           1,           1,           1,           1,           1,           1,           1,           1,           1,           1,           1,           1,           1,           1,           1,           1,           1,           1,           1,\n",
       "                  1,           1,           1,           1,           1,           1,           1,           1,           1,           1,           1,           1,           1,           1,           1,           1,           1,           1,           1,           1,           1,           1,           1,\n",
       "                  1,           1,           1,           1,           1,           1,           1,           1,           1,           1,           1]]), 'Confidence', 'Precision'], [array([          0,    0.001001,    0.002002,    0.003003,    0.004004,    0.005005,    0.006006,    0.007007,    0.008008,    0.009009,     0.01001,    0.011011,    0.012012,    0.013013,    0.014014,    0.015015,    0.016016,    0.017017,    0.018018,    0.019019,     0.02002,    0.021021,    0.022022,    0.023023,\n",
       "          0.024024,    0.025025,    0.026026,    0.027027,    0.028028,    0.029029,     0.03003,    0.031031,    0.032032,    0.033033,    0.034034,    0.035035,    0.036036,    0.037037,    0.038038,    0.039039,     0.04004,    0.041041,    0.042042,    0.043043,    0.044044,    0.045045,    0.046046,    0.047047,\n",
       "          0.048048,    0.049049,     0.05005,    0.051051,    0.052052,    0.053053,    0.054054,    0.055055,    0.056056,    0.057057,    0.058058,    0.059059,     0.06006,    0.061061,    0.062062,    0.063063,    0.064064,    0.065065,    0.066066,    0.067067,    0.068068,    0.069069,     0.07007,    0.071071,\n",
       "          0.072072,    0.073073,    0.074074,    0.075075,    0.076076,    0.077077,    0.078078,    0.079079,     0.08008,    0.081081,    0.082082,    0.083083,    0.084084,    0.085085,    0.086086,    0.087087,    0.088088,    0.089089,     0.09009,    0.091091,    0.092092,    0.093093,    0.094094,    0.095095,\n",
       "          0.096096,    0.097097,    0.098098,    0.099099,      0.1001,      0.1011,      0.1021,      0.1031,      0.1041,     0.10511,     0.10611,     0.10711,     0.10811,     0.10911,     0.11011,     0.11111,     0.11211,     0.11311,     0.11411,     0.11512,     0.11612,     0.11712,     0.11812,     0.11912,\n",
       "           0.12012,     0.12112,     0.12212,     0.12312,     0.12412,     0.12513,     0.12613,     0.12713,     0.12813,     0.12913,     0.13013,     0.13113,     0.13213,     0.13313,     0.13413,     0.13514,     0.13614,     0.13714,     0.13814,     0.13914,     0.14014,     0.14114,     0.14214,     0.14314,\n",
       "           0.14414,     0.14515,     0.14615,     0.14715,     0.14815,     0.14915,     0.15015,     0.15115,     0.15215,     0.15315,     0.15415,     0.15516,     0.15616,     0.15716,     0.15816,     0.15916,     0.16016,     0.16116,     0.16216,     0.16316,     0.16416,     0.16517,     0.16617,     0.16717,\n",
       "           0.16817,     0.16917,     0.17017,     0.17117,     0.17217,     0.17317,     0.17417,     0.17518,     0.17618,     0.17718,     0.17818,     0.17918,     0.18018,     0.18118,     0.18218,     0.18318,     0.18418,     0.18519,     0.18619,     0.18719,     0.18819,     0.18919,     0.19019,     0.19119,\n",
       "           0.19219,     0.19319,     0.19419,      0.1952,      0.1962,      0.1972,      0.1982,      0.1992,      0.2002,      0.2012,      0.2022,      0.2032,      0.2042,     0.20521,     0.20621,     0.20721,     0.20821,     0.20921,     0.21021,     0.21121,     0.21221,     0.21321,     0.21421,     0.21522,\n",
       "           0.21622,     0.21722,     0.21822,     0.21922,     0.22022,     0.22122,     0.22222,     0.22322,     0.22422,     0.22523,     0.22623,     0.22723,     0.22823,     0.22923,     0.23023,     0.23123,     0.23223,     0.23323,     0.23423,     0.23524,     0.23624,     0.23724,     0.23824,     0.23924,\n",
       "           0.24024,     0.24124,     0.24224,     0.24324,     0.24424,     0.24525,     0.24625,     0.24725,     0.24825,     0.24925,     0.25025,     0.25125,     0.25225,     0.25325,     0.25425,     0.25526,     0.25626,     0.25726,     0.25826,     0.25926,     0.26026,     0.26126,     0.26226,     0.26326,\n",
       "           0.26426,     0.26527,     0.26627,     0.26727,     0.26827,     0.26927,     0.27027,     0.27127,     0.27227,     0.27327,     0.27427,     0.27528,     0.27628,     0.27728,     0.27828,     0.27928,     0.28028,     0.28128,     0.28228,     0.28328,     0.28428,     0.28529,     0.28629,     0.28729,\n",
       "           0.28829,     0.28929,     0.29029,     0.29129,     0.29229,     0.29329,     0.29429,      0.2953,      0.2963,      0.2973,      0.2983,      0.2993,      0.3003,      0.3013,      0.3023,      0.3033,      0.3043,     0.30531,     0.30631,     0.30731,     0.30831,     0.30931,     0.31031,     0.31131,\n",
       "           0.31231,     0.31331,     0.31431,     0.31532,     0.31632,     0.31732,     0.31832,     0.31932,     0.32032,     0.32132,     0.32232,     0.32332,     0.32432,     0.32533,     0.32633,     0.32733,     0.32833,     0.32933,     0.33033,     0.33133,     0.33233,     0.33333,     0.33433,     0.33534,\n",
       "           0.33634,     0.33734,     0.33834,     0.33934,     0.34034,     0.34134,     0.34234,     0.34334,     0.34434,     0.34535,     0.34635,     0.34735,     0.34835,     0.34935,     0.35035,     0.35135,     0.35235,     0.35335,     0.35435,     0.35536,     0.35636,     0.35736,     0.35836,     0.35936,\n",
       "           0.36036,     0.36136,     0.36236,     0.36336,     0.36436,     0.36537,     0.36637,     0.36737,     0.36837,     0.36937,     0.37037,     0.37137,     0.37237,     0.37337,     0.37437,     0.37538,     0.37638,     0.37738,     0.37838,     0.37938,     0.38038,     0.38138,     0.38238,     0.38338,\n",
       "           0.38438,     0.38539,     0.38639,     0.38739,     0.38839,     0.38939,     0.39039,     0.39139,     0.39239,     0.39339,     0.39439,      0.3954,      0.3964,      0.3974,      0.3984,      0.3994,      0.4004,      0.4014,      0.4024,      0.4034,      0.4044,     0.40541,     0.40641,     0.40741,\n",
       "           0.40841,     0.40941,     0.41041,     0.41141,     0.41241,     0.41341,     0.41441,     0.41542,     0.41642,     0.41742,     0.41842,     0.41942,     0.42042,     0.42142,     0.42242,     0.42342,     0.42442,     0.42543,     0.42643,     0.42743,     0.42843,     0.42943,     0.43043,     0.43143,\n",
       "           0.43243,     0.43343,     0.43443,     0.43544,     0.43644,     0.43744,     0.43844,     0.43944,     0.44044,     0.44144,     0.44244,     0.44344,     0.44444,     0.44545,     0.44645,     0.44745,     0.44845,     0.44945,     0.45045,     0.45145,     0.45245,     0.45345,     0.45445,     0.45546,\n",
       "           0.45646,     0.45746,     0.45846,     0.45946,     0.46046,     0.46146,     0.46246,     0.46346,     0.46446,     0.46547,     0.46647,     0.46747,     0.46847,     0.46947,     0.47047,     0.47147,     0.47247,     0.47347,     0.47447,     0.47548,     0.47648,     0.47748,     0.47848,     0.47948,\n",
       "           0.48048,     0.48148,     0.48248,     0.48348,     0.48448,     0.48549,     0.48649,     0.48749,     0.48849,     0.48949,     0.49049,     0.49149,     0.49249,     0.49349,     0.49449,      0.4955,      0.4965,      0.4975,      0.4985,      0.4995,      0.5005,      0.5015,      0.5025,      0.5035,\n",
       "            0.5045,     0.50551,     0.50651,     0.50751,     0.50851,     0.50951,     0.51051,     0.51151,     0.51251,     0.51351,     0.51451,     0.51552,     0.51652,     0.51752,     0.51852,     0.51952,     0.52052,     0.52152,     0.52252,     0.52352,     0.52452,     0.52553,     0.52653,     0.52753,\n",
       "           0.52853,     0.52953,     0.53053,     0.53153,     0.53253,     0.53353,     0.53453,     0.53554,     0.53654,     0.53754,     0.53854,     0.53954,     0.54054,     0.54154,     0.54254,     0.54354,     0.54454,     0.54555,     0.54655,     0.54755,     0.54855,     0.54955,     0.55055,     0.55155,\n",
       "           0.55255,     0.55355,     0.55455,     0.55556,     0.55656,     0.55756,     0.55856,     0.55956,     0.56056,     0.56156,     0.56256,     0.56356,     0.56456,     0.56557,     0.56657,     0.56757,     0.56857,     0.56957,     0.57057,     0.57157,     0.57257,     0.57357,     0.57457,     0.57558,\n",
       "           0.57658,     0.57758,     0.57858,     0.57958,     0.58058,     0.58158,     0.58258,     0.58358,     0.58458,     0.58559,     0.58659,     0.58759,     0.58859,     0.58959,     0.59059,     0.59159,     0.59259,     0.59359,     0.59459,      0.5956,      0.5966,      0.5976,      0.5986,      0.5996,\n",
       "            0.6006,      0.6016,      0.6026,      0.6036,      0.6046,     0.60561,     0.60661,     0.60761,     0.60861,     0.60961,     0.61061,     0.61161,     0.61261,     0.61361,     0.61461,     0.61562,     0.61662,     0.61762,     0.61862,     0.61962,     0.62062,     0.62162,     0.62262,     0.62362,\n",
       "           0.62462,     0.62563,     0.62663,     0.62763,     0.62863,     0.62963,     0.63063,     0.63163,     0.63263,     0.63363,     0.63463,     0.63564,     0.63664,     0.63764,     0.63864,     0.63964,     0.64064,     0.64164,     0.64264,     0.64364,     0.64464,     0.64565,     0.64665,     0.64765,\n",
       "           0.64865,     0.64965,     0.65065,     0.65165,     0.65265,     0.65365,     0.65465,     0.65566,     0.65666,     0.65766,     0.65866,     0.65966,     0.66066,     0.66166,     0.66266,     0.66366,     0.66466,     0.66567,     0.66667,     0.66767,     0.66867,     0.66967,     0.67067,     0.67167,\n",
       "           0.67267,     0.67367,     0.67467,     0.67568,     0.67668,     0.67768,     0.67868,     0.67968,     0.68068,     0.68168,     0.68268,     0.68368,     0.68468,     0.68569,     0.68669,     0.68769,     0.68869,     0.68969,     0.69069,     0.69169,     0.69269,     0.69369,     0.69469,      0.6957,\n",
       "            0.6967,      0.6977,      0.6987,      0.6997,      0.7007,      0.7017,      0.7027,      0.7037,      0.7047,     0.70571,     0.70671,     0.70771,     0.70871,     0.70971,     0.71071,     0.71171,     0.71271,     0.71371,     0.71471,     0.71572,     0.71672,     0.71772,     0.71872,     0.71972,\n",
       "           0.72072,     0.72172,     0.72272,     0.72372,     0.72472,     0.72573,     0.72673,     0.72773,     0.72873,     0.72973,     0.73073,     0.73173,     0.73273,     0.73373,     0.73473,     0.73574,     0.73674,     0.73774,     0.73874,     0.73974,     0.74074,     0.74174,     0.74274,     0.74374,\n",
       "           0.74474,     0.74575,     0.74675,     0.74775,     0.74875,     0.74975,     0.75075,     0.75175,     0.75275,     0.75375,     0.75475,     0.75576,     0.75676,     0.75776,     0.75876,     0.75976,     0.76076,     0.76176,     0.76276,     0.76376,     0.76476,     0.76577,     0.76677,     0.76777,\n",
       "           0.76877,     0.76977,     0.77077,     0.77177,     0.77277,     0.77377,     0.77477,     0.77578,     0.77678,     0.77778,     0.77878,     0.77978,     0.78078,     0.78178,     0.78278,     0.78378,     0.78478,     0.78579,     0.78679,     0.78779,     0.78879,     0.78979,     0.79079,     0.79179,\n",
       "           0.79279,     0.79379,     0.79479,      0.7958,      0.7968,      0.7978,      0.7988,      0.7998,      0.8008,      0.8018,      0.8028,      0.8038,      0.8048,     0.80581,     0.80681,     0.80781,     0.80881,     0.80981,     0.81081,     0.81181,     0.81281,     0.81381,     0.81481,     0.81582,\n",
       "           0.81682,     0.81782,     0.81882,     0.81982,     0.82082,     0.82182,     0.82282,     0.82382,     0.82482,     0.82583,     0.82683,     0.82783,     0.82883,     0.82983,     0.83083,     0.83183,     0.83283,     0.83383,     0.83483,     0.83584,     0.83684,     0.83784,     0.83884,     0.83984,\n",
       "           0.84084,     0.84184,     0.84284,     0.84384,     0.84484,     0.84585,     0.84685,     0.84785,     0.84885,     0.84985,     0.85085,     0.85185,     0.85285,     0.85385,     0.85485,     0.85586,     0.85686,     0.85786,     0.85886,     0.85986,     0.86086,     0.86186,     0.86286,     0.86386,\n",
       "           0.86486,     0.86587,     0.86687,     0.86787,     0.86887,     0.86987,     0.87087,     0.87187,     0.87287,     0.87387,     0.87487,     0.87588,     0.87688,     0.87788,     0.87888,     0.87988,     0.88088,     0.88188,     0.88288,     0.88388,     0.88488,     0.88589,     0.88689,     0.88789,\n",
       "           0.88889,     0.88989,     0.89089,     0.89189,     0.89289,     0.89389,     0.89489,      0.8959,      0.8969,      0.8979,      0.8989,      0.8999,      0.9009,      0.9019,      0.9029,      0.9039,      0.9049,     0.90591,     0.90691,     0.90791,     0.90891,     0.90991,     0.91091,     0.91191,\n",
       "           0.91291,     0.91391,     0.91491,     0.91592,     0.91692,     0.91792,     0.91892,     0.91992,     0.92092,     0.92192,     0.92292,     0.92392,     0.92492,     0.92593,     0.92693,     0.92793,     0.92893,     0.92993,     0.93093,     0.93193,     0.93293,     0.93393,     0.93493,     0.93594,\n",
       "           0.93694,     0.93794,     0.93894,     0.93994,     0.94094,     0.94194,     0.94294,     0.94394,     0.94494,     0.94595,     0.94695,     0.94795,     0.94895,     0.94995,     0.95095,     0.95195,     0.95295,     0.95395,     0.95495,     0.95596,     0.95696,     0.95796,     0.95896,     0.95996,\n",
       "           0.96096,     0.96196,     0.96296,     0.96396,     0.96496,     0.96597,     0.96697,     0.96797,     0.96897,     0.96997,     0.97097,     0.97197,     0.97297,     0.97397,     0.97497,     0.97598,     0.97698,     0.97798,     0.97898,     0.97998,     0.98098,     0.98198,     0.98298,     0.98398,\n",
       "           0.98498,     0.98599,     0.98699,     0.98799,     0.98899,     0.98999,     0.99099,     0.99199,     0.99299,     0.99399,     0.99499,       0.996,       0.997,       0.998,       0.999,           1]), array([[    0.82353,     0.82353,     0.82353,     0.81699,     0.79085,     0.75817,     0.75817,      0.7451,     0.73203,     0.71895,     0.67974,     0.66667,     0.64052,     0.62745,     0.62745,     0.62092,     0.60784,     0.60131,     0.60131,     0.60131,     0.59477,     0.58821,     0.56863,\n",
       "            0.56209,     0.56209,     0.56209,     0.55556,     0.54248,     0.54248,     0.54248,     0.54248,     0.54248,     0.54248,     0.53595,     0.52941,     0.52288,      0.5098,     0.50327,     0.50327,     0.50327,     0.50327,     0.49072,      0.4902,      0.4902,     0.48366,     0.48366,\n",
       "            0.48366,     0.48366,     0.48366,     0.48366,     0.48366,     0.47712,     0.47712,     0.47712,     0.47712,     0.47712,     0.47712,     0.47712,     0.47712,     0.47712,     0.47059,     0.45752,     0.45098,     0.44444,     0.44444,     0.44444,     0.44444,     0.44444,     0.44444,\n",
       "            0.44444,     0.44444,     0.43791,     0.43137,     0.43137,     0.43137,     0.43137,     0.43037,     0.42484,     0.42484,     0.42484,     0.41176,     0.41176,     0.41176,     0.41176,     0.40523,     0.40523,     0.40472,     0.39216,     0.39216,     0.39216,     0.39216,     0.39216,\n",
       "            0.38562,      0.3853,     0.37407,     0.37255,     0.36783,     0.36601,     0.36601,     0.36601,     0.36601,     0.36601,     0.36101,     0.35948,     0.35948,     0.35948,     0.35948,     0.35948,     0.35948,     0.35948,     0.35948,     0.35948,     0.35948,     0.35948,     0.34874,\n",
       "            0.33987,     0.33987,     0.32876,      0.3268,      0.3268,      0.3221,     0.31761,     0.30719,     0.30626,     0.29365,     0.28758,     0.28758,     0.28105,     0.28105,     0.28105,     0.28105,     0.28105,     0.28105,     0.28105,     0.28105,     0.28105,     0.28105,     0.28105,\n",
       "            0.28105,     0.28105,     0.28105,     0.27292,     0.26797,     0.26797,     0.26797,     0.26797,     0.26226,     0.25608,      0.2549,      0.2549,      0.2549,     0.24837,     0.24837,     0.24774,     0.24295,     0.24183,     0.24183,     0.24183,     0.24183,     0.24183,     0.24183,\n",
       "            0.24183,     0.24183,     0.24183,     0.23664,     0.23529,     0.23529,     0.23529,     0.23529,     0.23529,     0.23529,     0.23529,     0.23529,     0.23529,     0.23529,     0.23422,     0.23147,     0.22876,     0.22876,     0.22876,     0.22876,     0.22876,     0.21526,     0.21094,\n",
       "            0.20853,     0.20665,     0.20476,     0.20288,     0.20179,      0.1985,     0.19608,     0.19608,     0.19599,     0.19084,     0.18954,     0.18954,     0.18954,     0.18301,     0.18301,     0.18301,     0.18301,     0.18301,     0.18301,     0.18284,     0.18162,      0.1804,     0.17917,\n",
       "            0.17795,     0.17673,     0.17647,     0.17647,     0.17647,     0.17647,     0.17647,     0.17647,     0.17647,     0.17647,     0.17647,     0.17498,     0.17319,     0.17139,     0.16993,     0.16993,     0.16993,     0.16993,     0.16993,     0.16993,     0.16405,     0.15987,     0.15647,\n",
       "            0.15465,     0.15283,     0.15101,     0.14379,     0.14379,     0.14379,     0.13955,     0.13725,     0.13725,     0.13725,     0.13725,     0.13725,     0.13725,     0.13725,     0.13725,     0.13725,     0.13725,     0.13725,     0.13725,     0.13725,     0.13725,     0.13725,     0.13725,\n",
       "            0.13725,     0.13725,     0.13725,     0.13725,     0.13725,     0.13725,     0.13725,     0.13725,     0.13725,     0.13617,     0.13392,     0.13168,     0.13072,     0.13072,     0.13072,     0.13072,     0.13072,     0.13031,     0.12975,      0.1292,     0.12865,      0.1281,     0.12754,\n",
       "            0.12699,     0.12644,     0.12589,     0.12534,     0.12478,     0.12423,      0.1235,     0.12267,     0.12184,       0.121,     0.12017,     0.11934,      0.1185,     0.11767,     0.11765,     0.11765,     0.11765,     0.11765,     0.11765,     0.11765,     0.11765,     0.11765,     0.11765,\n",
       "            0.11765,     0.11765,     0.11765,     0.11765,     0.11765,     0.11765,     0.11765,     0.11765,     0.11765,     0.11765,     0.11765,     0.11765,     0.11765,     0.11765,      0.1169,     0.11569,     0.11448,     0.11327,     0.11207,     0.10812,     0.10402,     0.10327,     0.10253,\n",
       "            0.10178,     0.10104,     0.10029,    0.099549,    0.098804,     0.09806,    0.098039,    0.098039,    0.098039,    0.098039,    0.098039,    0.098039,    0.098039,    0.098039,    0.098039,    0.098039,    0.098039,    0.098039,    0.098039,    0.098039,    0.098039,    0.098039,    0.098039,\n",
       "           0.098039,    0.098039,    0.098039,    0.098039,    0.098039,    0.098039,    0.098039,    0.098039,    0.097771,    0.094688,    0.091606,    0.091503,    0.091503,    0.091115,    0.090495,    0.089874,    0.089254,    0.088633,    0.088013,    0.087393,    0.086772,    0.086152,    0.085531,\n",
       "           0.084931,    0.084534,    0.084137,    0.083739,    0.083342,    0.082945,    0.082548,     0.08215,    0.081753,    0.081356,    0.080958,    0.080561,    0.080164,    0.079767,    0.079369,    0.078972,    0.078575,     0.07772,    0.076605,     0.07549,    0.074376,    0.073261,    0.072147,\n",
       "           0.070802,    0.069391,     0.06798,    0.066568,    0.065359,    0.065359,    0.065359,    0.065359,    0.065359,    0.065359,    0.065359,    0.065359,    0.065359,    0.065359,    0.065359,    0.065359,    0.065359,    0.065359,    0.065359,    0.065335,    0.064679,    0.064023,    0.063367,\n",
       "           0.062711,    0.062055,    0.061399,    0.060743,    0.060087,    0.059431,    0.058799,    0.058474,    0.058149,    0.057824,    0.057498,    0.057173,    0.056848,    0.056523,    0.056198,    0.055872,    0.055547,    0.055222,    0.054897,    0.054571,    0.054246,    0.053921,    0.053596,\n",
       "           0.053271,    0.052945,     0.05262,    0.052295,     0.05164,    0.050978,    0.050316,    0.049655,    0.048993,    0.048331,    0.047669,    0.047007,    0.046345,    0.045697,    0.045169,    0.044641,    0.044113,    0.043585,    0.043057,    0.042529,    0.042001,    0.041473,    0.040945,\n",
       "           0.040417,    0.039889,    0.039361,    0.038929,    0.038535,     0.03814,    0.037745,    0.037351,    0.036956,    0.036561,    0.036166,    0.035772,    0.035377,    0.034982,    0.034588,    0.034193,    0.033798,    0.033404,    0.033009,    0.032634,    0.032359,    0.032085,     0.03181,\n",
       "           0.031535,     0.03126,    0.030986,    0.030711,    0.030436,    0.030161,    0.029887,    0.029612,    0.029337,    0.029063,    0.028788,    0.028513,    0.028238,    0.027964,    0.027689,    0.027414,    0.027139,    0.026865,     0.02659,    0.026315,     0.02599,    0.025582,    0.025175,\n",
       "           0.024767,    0.024359,    0.023951,    0.023543,    0.023136,    0.022728,     0.02232,    0.021912,    0.021504,    0.021097,    0.020689,    0.020281,    0.019873,    0.018005,    0.013411,    0.013005,    0.012934,    0.012862,     0.01279,    0.012718,    0.012647,    0.012575,    0.012503,\n",
       "           0.012431,     0.01236,    0.012288,    0.012216,    0.012144,    0.012072,    0.012001,    0.011929,    0.011857,    0.011785,    0.011714,    0.011642,     0.01157,    0.011498,    0.011427,    0.011355,    0.011283,    0.011211,    0.011139,    0.011068,    0.010996,    0.010924,    0.010852,\n",
       "           0.010781,    0.010709,    0.010637,    0.010565,    0.010494,    0.010422,     0.01035,    0.010278,    0.010206,    0.010135,    0.010063,   0.0099912,   0.0099194,   0.0098476,   0.0097759,   0.0097041,   0.0096323,   0.0095606,   0.0094888,    0.009417,   0.0093453,   0.0092735,   0.0092017,\n",
       "            0.00913,   0.0090582,   0.0089864,   0.0089146,   0.0088429,   0.0087711,   0.0086993,   0.0086276,   0.0085558,    0.008484,   0.0084123,   0.0083405,   0.0082687,    0.008197,   0.0081252,   0.0080534,   0.0079817,   0.0079099,   0.0078381,   0.0077664,   0.0076946,   0.0076228,   0.0075511,\n",
       "          0.0074793,   0.0074075,   0.0073358,    0.007264,   0.0071922,   0.0071204,   0.0070487,   0.0069769,   0.0069051,   0.0068334,   0.0067616,   0.0066898,   0.0066181,   0.0065463,           0,           0,           0,           0,           0,           0,           0,           0,           0,\n",
       "                  0,           0,           0,           0,           0,           0,           0,           0,           0,           0,           0,           0,           0,           0,           0,           0,           0,           0,           0,           0,           0,           0,           0,\n",
       "                  0,           0,           0,           0,           0,           0,           0,           0,           0,           0,           0,           0,           0,           0,           0,           0,           0,           0,           0,           0,           0,           0,           0,\n",
       "                  0,           0,           0,           0,           0,           0,           0,           0,           0,           0,           0,           0,           0,           0,           0,           0,           0,           0,           0,           0,           0,           0,           0,\n",
       "                  0,           0,           0,           0,           0,           0,           0,           0,           0,           0,           0,           0,           0,           0,           0,           0,           0,           0,           0,           0,           0,           0,           0,\n",
       "                  0,           0,           0,           0,           0,           0,           0,           0,           0,           0,           0,           0,           0,           0,           0,           0,           0,           0,           0,           0,           0,           0,           0,\n",
       "                  0,           0,           0,           0,           0,           0,           0,           0,           0,           0,           0,           0,           0,           0,           0,           0,           0,           0,           0,           0,           0,           0,           0,\n",
       "                  0,           0,           0,           0,           0,           0,           0,           0,           0,           0,           0,           0,           0,           0,           0,           0,           0,           0,           0,           0,           0,           0,           0,\n",
       "                  0,           0,           0,           0,           0,           0,           0,           0,           0,           0,           0,           0,           0,           0,           0,           0,           0,           0,           0,           0,           0,           0,           0,\n",
       "                  0,           0,           0,           0,           0,           0,           0,           0,           0,           0,           0,           0,           0,           0,           0,           0,           0,           0,           0,           0,           0,           0,           0,\n",
       "                  0,           0,           0,           0,           0,           0,           0,           0,           0,           0,           0,           0,           0,           0,           0,           0,           0,           0,           0,           0,           0,           0,           0,\n",
       "                  0,           0,           0,           0,           0,           0,           0,           0,           0,           0,           0,           0,           0,           0,           0,           0,           0,           0,           0,           0,           0,           0,           0,\n",
       "                  0,           0,           0,           0,           0,           0,           0,           0,           0,           0,           0,           0,           0,           0,           0,           0,           0,           0,           0,           0,           0,           0,           0,\n",
       "                  0,           0,           0,           0,           0,           0,           0,           0,           0,           0,           0,           0,           0,           0,           0,           0,           0,           0,           0,           0,           0,           0,           0,\n",
       "                  0,           0,           0,           0,           0,           0,           0,           0,           0,           0,           0,           0,           0,           0,           0,           0,           0,           0,           0,           0,           0,           0,           0,\n",
       "                  0,           0,           0,           0,           0,           0,           0,           0,           0,           0,           0,           0,           0,           0,           0,           0,           0,           0,           0,           0,           0,           0,           0,\n",
       "                  0,           0,           0,           0,           0,           0,           0,           0,           0,           0,           0,           0,           0,           0,           0,           0,           0,           0,           0,           0,           0,           0,           0,\n",
       "                  0,           0,           0,           0,           0,           0,           0,           0,           0,           0,           0]]), 'Confidence', 'Recall']]\n",
       "fitness: 0.11727051201895387\n",
       "keys: ['metrics/precision(B)', 'metrics/recall(B)', 'metrics/mAP50(B)', 'metrics/mAP50-95(B)']\n",
       "maps: array([    0.10105])\n",
       "names: {0: 'tumor'}\n",
       "plot: True\n",
       "results_dict: {'metrics/precision(B)': 0.36080912681683813, 'metrics/recall(B)': 0.28104575163398693, 'metrics/mAP50(B)': 0.2632588239182924, 'metrics/mAP50-95(B)': 0.10104958847458292, 'fitness': 0.11727051201895387}\n",
       "save_dir: PosixPath('runs/detect/train')\n",
       "speed: {'preprocess': 1.3694849881258877, 'inference': 96.2091099132191, 'loss': 3.467906605113636e-05, 'postprocess': 1.9758657975630327}\n",
       "task: 'detect'"
      ]
     },
     "execution_count": 81,
     "metadata": {},
     "output_type": "execute_result"
    }
   ],
   "source": [
    "model = YOLO(\"yolov8n.pt\")\n",
    "\n",
    "model.train(\n",
    "    data = \"dataset/dataset.yaml\",\n",
    "    epochs = 20,\n",
    "    single_cls = True\n",
    ")"
   ]
  },
  {
   "cell_type": "markdown",
   "metadata": {},
   "source": [
    "### Samenvatting van het trainingsproces:\n",
    "\n",
    "### Resultaten:\n",
    "- In de laatste epoch (epoch 20) zijn de resultaten als volgt:\n",
    "  - **mAP50**: 0.361\n",
    "  - **mAP50-95**: 0.0998\n",
    "- Dit betekent dat het model nu in staat is om objecten in de afbeeldingen met een redelijke precisie te detecteren.\n",
    "- De eindresultaten van de training worden opgeslagen in de map `runs/detect/train`.\n",
    "\n",
    "Na de training wordt het model gevalideerd met de best presterende gewichten (`best.pt`), en de prestaties worden opnieuw gemeten. Het model is nu klaar voor gebruik in objectdetectie-taken.\n",
    "\n",
    "De **`DetMetrics`** object van Ultralytics, dat gebruikt wordt om de prestaties van een objectdetectiemodel te meten. Het bevat:\n",
    "\n",
    "- **`ap_class_index`**: Geeft aan welke klasse wordt geëvalueerd (bijv. alleen de \"tumor\"-klasse).\n",
    "- **`box`**: Bevat gegevens over hoe goed het model de objecten (zoals een tumor) heeft gelokaliseerd met de bounding boxes.\n",
    "- **`confusion_matrix`**: Laat zien hoeveel fouten het model maakt bij het classificeren van objecten.\n",
    "- **`curves`**: Lijst van grafieken (zoals Precision-Recall) die de prestaties van het model bij verschillende drempels laten zien.\n",
    "- **`curves_results`**: Bevat de gegevens van die grafieken om te analyseren hoe goed het model presteert bij verschillende confidence-drempels.\n",
    "\n",
    "\n",
    "\n",
    "\n"
   ]
  },
  {
   "cell_type": "markdown",
   "metadata": {},
   "source": [
    "Hieronder wordt het model gebruikt om een willekeurige JPEG-afbeelding, `8959.jpeg`, te analyseren. Verander de tekst naar het pad van jouw afbeelding om zelf een afbeelding te testen. refresh vervolgens je bestanden en in de map `runs/detect` verschijnt een nieuwe map genaamd `predict` met de resultaten van je test.\n"
   ]
  },
  {
   "cell_type": "code",
   "execution_count": 91,
   "metadata": {},
   "outputs": [
    {
     "name": "stdout",
     "output_type": "stream",
     "text": [
      "\n",
      "image 1/1 /homes/jrgommers/year 3/Deel_D/8959.jpeg: 640x576 2 tumors, 138.0ms\n",
      "Speed: 6.8ms preprocess, 138.0ms inference, 0.9ms postprocess per image at shape (1, 3, 640, 576)\n",
      "Results saved to \u001b[1mruns/detect/predict\u001b[0m\n"
     ]
    }
   ],
   "source": [
    "import matplotlib.pyplot as plt\n",
    "import cv2\n",
    "\n",
    "model = YOLO(\"/homes/jrgommers/year 3/Deel_D/runs/detect/train/weights/best.pt\")\n",
    "\n",
    "\n",
    "test_image_path = \"8959.jpeg\"\n",
    "results = model.predict(source=test_image_path, save=True)\n"
   ]
  },
  {
   "cell_type": "markdown",
   "metadata": {},
   "source": [
    "Hieronder wordt de afbeelding ook nog eens weergegeven met behulp van `matplotlib` en `cv2`, en opgeslagen als een uitvoerbestand `output_image.jpg` in dezelfde map.\n"
   ]
  },
  {
   "cell_type": "code",
   "execution_count": 92,
   "metadata": {},
   "outputs": [
    {
     "data": {
      "text/plain": [
       "<Figure size 1000x1000 with 1 Axes>"
      ]
     },
     "metadata": {},
     "output_type": "display_data"
    },
    {
     "data": {
      "text/plain": [
       "True"
      ]
     },
     "execution_count": 92,
     "metadata": {},
     "output_type": "execute_result"
    }
   ],
   "source": [
    "\n",
    "\n",
    "image = cv2.imread(test_image_path)\n",
    "image = cv2.cvtColor(image, cv2.COLOR_BGR2RGB)\n",
    "   \n",
    "for result in results:\n",
    "    for box in result.boxes:\n",
    "        xmin, ymin, xmax, ymax = map(int, box.xyxy[0].tolist())\n",
    "        confidence = box.conf[0]\n",
    "        cv2.rectangle(image, (xmin, ymin), (xmax, ymax), (255, 0, 0), 2)\n",
    "        cv2.putText(image, f\"{confidence:.2f}\", (xmin, ymin - 10),\n",
    "                    cv2.FONT_HERSHEY_SIMPLEX, 0.5, (255, 0, 0), 2)\n",
    "\n",
    "plt.figure(figsize=(10, 10))\n",
    "plt.imshow(image)\n",
    "plt.axis(\"off\")\n",
    "plt.show()\n",
    "\n",
    "\n",
    "output_path = \"output_image.jpg\"  \n",
    "cv2.imwrite(output_path, cv2.cvtColor(image, cv2.COLOR_RGB2BGR))  \n"
   ]
  },
  {
   "cell_type": "markdown",
   "metadata": {},
   "source": [
    "Op de GitHub zie je de resultaten van onze eigen test met het model in de `val batch` en `predict`. De `val batch` bevat de werkelijke resultaten, terwijl de `predict` de voorspellingen van het model zijn.\n"
   ]
  }
 ],
 "metadata": {
  "kernelspec": {
   "display_name": "myenv",
   "language": "python",
   "name": "python3"
  },
  "language_info": {
   "codemirror_mode": {
    "name": "ipython",
    "version": 3
   },
   "file_extension": ".py",
   "mimetype": "text/x-python",
   "name": "python",
   "nbconvert_exporter": "python",
   "pygments_lexer": "ipython3",
   "version": "3.11.2"
  }
 },
 "nbformat": 4,
 "nbformat_minor": 2
}
